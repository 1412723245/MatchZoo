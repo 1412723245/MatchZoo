{
 "cells": [
  {
   "cell_type": "code",
   "execution_count": 1,
   "metadata": {},
   "outputs": [
    {
     "name": "stderr",
     "output_type": "stream",
     "text": [
      "Using TensorFlow backend.\n"
     ]
    },
    {
     "name": "stdout",
     "output_type": "stream",
     "text": [
      "matchzoo version 2.1.0\n",
      "\n",
      "data loading ...\n",
      "data loaded as `train_pack_raw` `dev_pack_raw` `test_pack_raw`\n",
      "`ranking_task` initialized with metrics [normalized_discounted_cumulative_gain@3(0.0), normalized_discounted_cumulative_gain@5(0.0), mean_average_precision(0.0)]\n",
      "loading embedding ...\n",
      "embedding loaded as `glove_embedding`\n"
     ]
    }
   ],
   "source": [
    "%run init.ipynb"
   ]
  },
  {
   "cell_type": "code",
   "execution_count": 2,
   "metadata": {},
   "outputs": [
    {
     "name": "stderr",
     "output_type": "stream",
     "text": [
      "Processing text_left with chain_transform of Tokenize => Lowercase => PuncRemoval: 100%|██████████| 2118/2118 [00:00<00:00, 3859.91it/s]\n",
      "Processing text_right with chain_transform of Tokenize => Lowercase => PuncRemoval: 100%|██████████| 18841/18841 [00:07<00:00, 2369.27it/s]\n",
      "Processing text_right with append: 100%|██████████| 18841/18841 [00:00<00:00, 439129.58it/s]\n",
      "Building FrequencyFilter from a datapack.: 100%|██████████| 18841/18841 [00:00<00:00, 68985.91it/s]\n",
      "Processing text_right with transform: 100%|██████████| 18841/18841 [00:00<00:00, 74929.60it/s]\n",
      "Processing text_left with extend: 100%|██████████| 2118/2118 [00:00<00:00, 336688.87it/s]\n",
      "Processing text_right with extend: 100%|██████████| 18841/18841 [00:00<00:00, 375541.78it/s]\n",
      "Building Vocabulary from a datapack.: 100%|██████████| 404415/404415 [00:00<00:00, 1830797.58it/s]\n",
      "Processing text_left with chain_transform of Tokenize => Lowercase => PuncRemoval: 100%|██████████| 2118/2118 [00:00<00:00, 3712.97it/s]\n",
      "Processing text_right with chain_transform of Tokenize => Lowercase => PuncRemoval: 100%|██████████| 18841/18841 [00:08<00:00, 2351.39it/s]\n",
      "Processing text_right with transform: 100%|██████████| 18841/18841 [00:00<00:00, 67803.01it/s]\n",
      "Processing text_left with transform: 100%|██████████| 2118/2118 [00:00<00:00, 121323.32it/s]\n",
      "Processing text_right with transform: 100%|██████████| 18841/18841 [00:00<00:00, 64746.42it/s]\n",
      "Processing length_left with len: 100%|██████████| 2118/2118 [00:00<00:00, 345407.51it/s]\n",
      "Processing length_right with len: 100%|██████████| 18841/18841 [00:00<00:00, 408845.26it/s]\n",
      "Processing text_left with transform: 100%|██████████| 2118/2118 [00:00<00:00, 44118.34it/s]\n",
      "Processing text_right with transform: 100%|██████████| 18841/18841 [00:00<00:00, 33510.62it/s]\n",
      "Processing text_left with chain_transform of Tokenize => Lowercase => PuncRemoval: 100%|██████████| 122/122 [00:00<00:00, 3360.20it/s]\n",
      "Processing text_right with chain_transform of Tokenize => Lowercase => PuncRemoval: 100%|██████████| 1115/1115 [00:00<00:00, 2362.89it/s]\n",
      "Processing text_right with transform: 100%|██████████| 1115/1115 [00:00<00:00, 66946.99it/s]\n",
      "Processing text_left with transform: 100%|██████████| 122/122 [00:00<00:00, 76305.56it/s]\n",
      "Processing text_right with transform: 100%|██████████| 1115/1115 [00:00<00:00, 56928.17it/s]\n",
      "Processing length_left with len: 100%|██████████| 122/122 [00:00<00:00, 75295.04it/s]\n",
      "Processing length_right with len: 100%|██████████| 1115/1115 [00:00<00:00, 300807.16it/s]\n",
      "Processing text_left with transform: 100%|██████████| 122/122 [00:00<00:00, 30956.15it/s]\n",
      "Processing text_right with transform: 100%|██████████| 1115/1115 [00:00<00:00, 33618.59it/s]\n",
      "Processing text_left with chain_transform of Tokenize => Lowercase => PuncRemoval: 100%|██████████| 237/237 [00:00<00:00, 4103.46it/s]\n",
      "Processing text_right with chain_transform of Tokenize => Lowercase => PuncRemoval: 100%|██████████| 2300/2300 [00:00<00:00, 2335.58it/s]\n",
      "Processing text_right with transform: 100%|██████████| 2300/2300 [00:00<00:00, 65081.93it/s]\n",
      "Processing text_left with transform: 100%|██████████| 237/237 [00:00<00:00, 88889.39it/s]\n",
      "Processing text_right with transform: 100%|██████████| 2300/2300 [00:00<00:00, 88654.95it/s]\n",
      "Processing length_left with len: 100%|██████████| 237/237 [00:00<00:00, 159430.64it/s]\n",
      "Processing length_right with len: 100%|██████████| 2300/2300 [00:00<00:00, 366537.45it/s]\n",
      "Processing text_left with transform: 100%|██████████| 237/237 [00:00<00:00, 41470.59it/s]\n",
      "Processing text_right with transform: 100%|██████████| 2300/2300 [00:00<00:00, 37008.23it/s]\n"
     ]
    }
   ],
   "source": [
    "preprocessor = mz.preprocessors.BasicPreprocessor(fixed_length_left=10, fixed_length_right=100, remove_stop_words=False)\n",
    "train_pack_processed = preprocessor.fit_transform(train_pack_raw, drop_invalid=True)\n",
    "valid_pack_processed = preprocessor.transform(dev_pack_raw, drop_invalid=False)\n",
    "test_pack_processed = preprocessor.transform(test_pack_raw, drop_invalid=False)"
   ]
  },
  {
   "cell_type": "code",
   "execution_count": 3,
   "metadata": {
    "scrolled": false
   },
   "outputs": [
    {
     "name": "stdout",
     "output_type": "stream",
     "text": [
      "__________________________________________________________________________________________________\n",
      "Layer (type)                    Output Shape         Param #     Connected to                     \n",
      "==================================================================================================\n",
      "text_left (InputLayer)          (None, 10)           0                                            \n",
      "__________________________________________________________________________________________________\n",
      "text_right (InputLayer)         (None, 100)          0                                            \n",
      "__________________________________________________________________________________________________\n",
      "embedding (Embedding)           multiple             5002500     text_left[0][0]                  \n",
      "                                                                 text_right[0][0]                 \n",
      "__________________________________________________________________________________________________\n",
      "conv1d_2 (Conv1D)               (None, 10, 32)       28832       embedding[0][0]                  \n",
      "__________________________________________________________________________________________________\n",
      "dropout_3 (Dropout)             (None, 10, 32)       0           conv1d_2[0][0]                   \n",
      "__________________________________________________________________________________________________\n",
      "conv1d_3 (Conv1D)               (None, 100, 32)      28832       embedding[1][0]                  \n",
      "__________________________________________________________________________________________________\n",
      "max_pooling1d_1 (MaxPooling1D)  (None, 1, 32)        0           dropout_3[0][0]                  \n",
      "__________________________________________________________________________________________________\n",
      "dropout_4 (Dropout)             (None, 100, 32)      0           conv1d_3[0][0]                   \n",
      "__________________________________________________________________________________________________\n",
      "reshape_2 (Reshape)             (None, 32)           0           max_pooling1d_1[0][0]            \n",
      "__________________________________________________________________________________________________\n",
      "max_pooling1d_2 (MaxPooling1D)  (None, 33, 32)       0           dropout_4[0][0]                  \n",
      "__________________________________________________________________________________________________\n",
      "lambda_1 (Lambda)               (None, 10, 100)      0           text_left[0][0]                  \n",
      "                                                                 text_right[0][0]                 \n",
      "__________________________________________________________________________________________________\n",
      "dense_3 (Dense)                 (None, 32)           1056        reshape_2[0][0]                  \n",
      "__________________________________________________________________________________________________\n",
      "conv1d_4 (Conv1D)               (None, 33, 32)       1056        max_pooling1d_2[0][0]            \n",
      "__________________________________________________________________________________________________\n",
      "conv1d_1 (Conv1D)               (None, 10, 32)       320032      lambda_1[0][0]                   \n",
      "__________________________________________________________________________________________________\n",
      "lambda_2 (Lambda)               (None, 1, 32)        0           dense_3[0][0]                    \n",
      "__________________________________________________________________________________________________\n",
      "dropout_5 (Dropout)             (None, 33, 32)       0           conv1d_4[0][0]                   \n",
      "__________________________________________________________________________________________________\n",
      "dropout_1 (Dropout)             (None, 10, 32)       0           conv1d_1[0][0]                   \n",
      "__________________________________________________________________________________________________\n",
      "lambda_3 (Lambda)               (None, 33, 32)       0           lambda_2[0][0]                   \n",
      "                                                                 dropout_5[0][0]                  \n",
      "__________________________________________________________________________________________________\n",
      "reshape_1 (Reshape)             (None, 320)          0           dropout_1[0][0]                  \n",
      "__________________________________________________________________________________________________\n",
      "reshape_3 (Reshape)             (None, 1056)         0           lambda_3[0][0]                   \n",
      "__________________________________________________________________________________________________\n",
      "dense_1 (Dense)                 (None, 32)           10272       reshape_1[0][0]                  \n",
      "__________________________________________________________________________________________________\n",
      "dense_4 (Dense)                 (None, 32)           33824       reshape_3[0][0]                  \n",
      "__________________________________________________________________________________________________\n",
      "dropout_2 (Dropout)             (None, 32)           0           dense_1[0][0]                    \n",
      "__________________________________________________________________________________________________\n",
      "dropout_6 (Dropout)             (None, 32)           0           dense_4[0][0]                    \n",
      "__________________________________________________________________________________________________\n",
      "dense_2 (Dense)                 (None, 1)            33          dropout_2[0][0]                  \n",
      "__________________________________________________________________________________________________\n",
      "dense_5 (Dense)                 (None, 1)            33          dropout_6[0][0]                  \n",
      "__________________________________________________________________________________________________\n",
      "add_1 (Add)                     (None, 1)            0           dense_2[0][0]                    \n",
      "                                                                 dense_5[0][0]                    \n",
      "__________________________________________________________________________________________________\n",
      "dense_6 (Dense)                 (None, 1)            2           add_1[0][0]                      \n",
      "==================================================================================================\n",
      "Total params: 5,426,472\n",
      "Trainable params: 5,426,472\n",
      "Non-trainable params: 0\n",
      "__________________________________________________________________________________________________\n"
     ]
    }
   ],
   "source": [
    "model = mz.models.DUET()\n",
    "model.params.update(preprocessor.context)\n",
    "model.params['task'] = ranking_task\n",
    "model.params['embedding_output_dim'] = 300\n",
    "model.params['embedding_trainable'] = True\n",
    "model.params['lm_filters'] = 32\n",
    "model.params['lm_hidden_sizes'] = [32]\n",
    "model.params['dm_filters'] = 32\n",
    "model.params['dm_kernel_size'] = 3\n",
    "model.params['dm_d_mpool'] = 3\n",
    "model.params['dm_hidden_sizes'] = [32]\n",
    "model.params['dropout_rate'] = 0.9\n",
    "optimizer = keras.optimizers.Adamax(lr=0.0001, beta_1=0.9, beta_2=0.999, epsilon=None, decay=0.0)\n",
    "model.params['optimizer'] = 'adadelta'\n",
    "model.guess_and_fill_missing_params()\n",
    "model.build()\n",
    "model.compile()\n",
    "model.backend.summary()"
   ]
  },
  {
   "cell_type": "code",
   "execution_count": 4,
   "metadata": {},
   "outputs": [],
   "source": [
    "embedding_matrix = glove_embedding.build_matrix(preprocessor.context['vocab_unit'].state['term_index'])\n",
    "model.load_embedding_matrix(embedding_matrix)"
   ]
  },
  {
   "cell_type": "code",
   "execution_count": 5,
   "metadata": {},
   "outputs": [],
   "source": [
    "pred_x, pred_y = test_pack_processed[:].unpack()\n",
    "evaluate = mz.callbacks.EvaluateAllMetrics(model, x=pred_x, y=pred_y, batch_size=len(pred_y))"
   ]
  },
  {
   "cell_type": "code",
   "execution_count": 6,
   "metadata": {},
   "outputs": [
    {
     "name": "stdout",
     "output_type": "stream",
     "text": [
      "num batches: 102\n"
     ]
    }
   ],
   "source": [
    "train_generator = mz.DataGenerator(\n",
    "    train_pack_processed,\n",
    "    mode='pair',\n",
    "    num_dup=2,\n",
    "    num_neg=1,\n",
    "    batch_size=20\n",
    ")\n",
    "print('num batches:', len(train_generator))"
   ]
  },
  {
   "cell_type": "code",
   "execution_count": 7,
   "metadata": {
    "scrolled": false
   },
   "outputs": [
    {
     "name": "stdout",
     "output_type": "stream",
     "text": [
      "Epoch 1/30\n",
      "102/102 [==============================] - 15s 143ms/step - loss: 1.8798\n",
      "Validation: normalized_discounted_cumulative_gain@3(0.0): 0.3599972116036669 - normalized_discounted_cumulative_gain@5(0.0): 0.4406739642983039 - mean_average_precision(0.0): 0.4083138316633878\n",
      "Epoch 2/30\n",
      "102/102 [==============================] - 20s 195ms/step - loss: 1.0900\n",
      "Validation: normalized_discounted_cumulative_gain@3(0.0): 0.3214200982665461 - normalized_discounted_cumulative_gain@5(0.0): 0.4144818871065293 - mean_average_precision(0.0): 0.3783728677521541\n",
      "Epoch 3/30\n",
      "102/102 [==============================] - 20s 191ms/step - loss: 1.0401\n",
      "Validation: normalized_discounted_cumulative_gain@3(0.0): 0.4042591759326904 - normalized_discounted_cumulative_gain@5(0.0): 0.4801170009241022 - mean_average_precision(0.0): 0.4453129912774123\n",
      "Epoch 4/30\n",
      "102/102 [==============================] - 20s 192ms/step - loss: 1.0088\n",
      "Validation: normalized_discounted_cumulative_gain@3(0.0): 0.33198212700084023 - normalized_discounted_cumulative_gain@5(0.0): 0.4113372074912623 - mean_average_precision(0.0): 0.38377644279859796\n",
      "Epoch 5/30\n",
      "102/102 [==============================] - 19s 189ms/step - loss: 1.0245\n",
      "Validation: normalized_discounted_cumulative_gain@3(0.0): 0.4183720476310312 - normalized_discounted_cumulative_gain@5(0.0): 0.4904700528222382 - mean_average_precision(0.0): 0.4552929594350985\n",
      "Epoch 6/30\n",
      "102/102 [==============================] - 20s 192ms/step - loss: 1.0050\n",
      "Validation: normalized_discounted_cumulative_gain@3(0.0): 0.3965475559473611 - normalized_discounted_cumulative_gain@5(0.0): 0.46139520104739074 - mean_average_precision(0.0): 0.42899601101549584\n",
      "Epoch 7/30\n",
      "102/102 [==============================] - 20s 196ms/step - loss: 1.0064\n",
      "Validation: normalized_discounted_cumulative_gain@3(0.0): 0.3941048353189117 - normalized_discounted_cumulative_gain@5(0.0): 0.47372125132831694 - mean_average_precision(0.0): 0.43763818590435666\n",
      "Epoch 8/30\n",
      "102/102 [==============================] - 19s 188ms/step - loss: 1.0110\n",
      "Validation: normalized_discounted_cumulative_gain@3(0.0): 0.4106051383633015 - normalized_discounted_cumulative_gain@5(0.0): 0.488883731144885 - mean_average_precision(0.0): 0.44836915337068695\n",
      "Epoch 9/30\n",
      "102/102 [==============================] - 20s 194ms/step - loss: 0.9979\n",
      "Validation: normalized_discounted_cumulative_gain@3(0.0): 0.41960551037017124 - normalized_discounted_cumulative_gain@5(0.0): 0.5011897113847696 - mean_average_precision(0.0): 0.4674562013062313\n",
      "Epoch 10/30\n",
      "102/102 [==============================] - 19s 187ms/step - loss: 1.0015\n",
      "Validation: normalized_discounted_cumulative_gain@3(0.0): 0.37601454793530975 - normalized_discounted_cumulative_gain@5(0.0): 0.45727541427016316 - mean_average_precision(0.0): 0.4201944004473435\n",
      "Epoch 11/30\n",
      "102/102 [==============================] - 19s 188ms/step - loss: 1.0048\n",
      "Validation: normalized_discounted_cumulative_gain@3(0.0): 0.4439035989482089 - normalized_discounted_cumulative_gain@5(0.0): 0.5152280095700802 - mean_average_precision(0.0): 0.4760902021253603\n",
      "Epoch 12/30\n",
      "102/102 [==============================] - 20s 193ms/step - loss: 0.9944\n",
      "Validation: normalized_discounted_cumulative_gain@3(0.0): 0.4589897110308399 - normalized_discounted_cumulative_gain@5(0.0): 0.5358171656171554 - mean_average_precision(0.0): 0.49850037925382307\n",
      "Epoch 13/30\n",
      "102/102 [==============================] - 19s 190ms/step - loss: 0.9926\n",
      "Validation: normalized_discounted_cumulative_gain@3(0.0): 0.45527011696744685 - normalized_discounted_cumulative_gain@5(0.0): 0.5285389155505024 - mean_average_precision(0.0): 0.4960351991413636\n",
      "Epoch 14/30\n",
      "102/102 [==============================] - 19s 188ms/step - loss: 0.9949\n",
      "Validation: normalized_discounted_cumulative_gain@3(0.0): 0.47476807181786895 - normalized_discounted_cumulative_gain@5(0.0): 0.5400677102204466 - mean_average_precision(0.0): 0.5046361146693822\n",
      "Epoch 15/30\n",
      "102/102 [==============================] - 20s 195ms/step - loss: 0.9995\n",
      "Validation: normalized_discounted_cumulative_gain@3(0.0): 0.4673091302103194 - normalized_discounted_cumulative_gain@5(0.0): 0.5368332365544015 - mean_average_precision(0.0): 0.49781682322520293\n",
      "Epoch 16/30\n",
      "102/102 [==============================] - 19s 190ms/step - loss: 1.0027\n",
      "Validation: normalized_discounted_cumulative_gain@3(0.0): 0.4702691355653985 - normalized_discounted_cumulative_gain@5(0.0): 0.5418018879466578 - mean_average_precision(0.0): 0.505564002757565\n",
      "Epoch 17/30\n",
      "102/102 [==============================] - 20s 194ms/step - loss: 1.0014\n",
      "Validation: normalized_discounted_cumulative_gain@3(0.0): 0.4672624259199721 - normalized_discounted_cumulative_gain@5(0.0): 0.5374427903525864 - mean_average_precision(0.0): 0.5021102242995981\n",
      "Epoch 18/30\n",
      "102/102 [==============================] - 19s 189ms/step - loss: 0.9909\n",
      "Validation: normalized_discounted_cumulative_gain@3(0.0): 0.4617949436614567 - normalized_discounted_cumulative_gain@5(0.0): 0.5262609181118433 - mean_average_precision(0.0): 0.49159338637385136\n",
      "Epoch 19/30\n",
      "102/102 [==============================] - 19s 189ms/step - loss: 1.0043\n",
      "Validation: normalized_discounted_cumulative_gain@3(0.0): 0.4613028060306934 - normalized_discounted_cumulative_gain@5(0.0): 0.5227815236433454 - mean_average_precision(0.0): 0.4928060011149471\n",
      "Epoch 20/30\n",
      "102/102 [==============================] - 19s 190ms/step - loss: 0.9950\n",
      "Validation: normalized_discounted_cumulative_gain@3(0.0): 0.465915490502857 - normalized_discounted_cumulative_gain@5(0.0): 0.5272524425036834 - mean_average_precision(0.0): 0.49964881137547884\n",
      "Epoch 21/30\n",
      "102/102 [==============================] - 20s 198ms/step - loss: 0.9745\n",
      "Validation: normalized_discounted_cumulative_gain@3(0.0): 0.4752840893722709 - normalized_discounted_cumulative_gain@5(0.0): 0.5392192850305777 - mean_average_precision(0.0): 0.5077406770997563\n",
      "Epoch 22/30\n",
      "102/102 [==============================] - 19s 187ms/step - loss: 0.9846\n",
      "Validation: normalized_discounted_cumulative_gain@3(0.0): 0.47393022130702506 - normalized_discounted_cumulative_gain@5(0.0): 0.5352075977376539 - mean_average_precision(0.0): 0.5055686570688089\n",
      "Epoch 23/30\n",
      "102/102 [==============================] - 20s 194ms/step - loss: 0.9819\n",
      "Validation: normalized_discounted_cumulative_gain@3(0.0): 0.4655767596553811 - normalized_discounted_cumulative_gain@5(0.0): 0.5270961364546656 - mean_average_precision(0.0): 0.49909782110929873\n",
      "Epoch 24/30\n",
      "102/102 [==============================] - 20s 195ms/step - loss: 0.9932\n",
      "Validation: normalized_discounted_cumulative_gain@3(0.0): 0.4665667991617582 - normalized_discounted_cumulative_gain@5(0.0): 0.530546437907111 - mean_average_precision(0.0): 0.49976620831451946\n",
      "Epoch 25/30\n",
      "102/102 [==============================] - 20s 192ms/step - loss: 0.9823\n",
      "Validation: normalized_discounted_cumulative_gain@3(0.0): 0.47955348223018734 - normalized_discounted_cumulative_gain@5(0.0): 0.5384543872072494 - mean_average_precision(0.0): 0.5119170037067813\n",
      "Epoch 26/30\n",
      "102/102 [==============================] - 21s 206ms/step - loss: 0.9792\n",
      "Validation: normalized_discounted_cumulative_gain@3(0.0): 0.47480222736865585 - normalized_discounted_cumulative_gain@5(0.0): 0.5379824925268772 - mean_average_precision(0.0): 0.5084301591047339\n",
      "Epoch 27/30\n",
      "102/102 [==============================] - 20s 200ms/step - loss: 0.9763\n",
      "Validation: normalized_discounted_cumulative_gain@3(0.0): 0.4817337710855234 - normalized_discounted_cumulative_gain@5(0.0): 0.5456013370216451 - mean_average_precision(0.0): 0.5184171849934774\n",
      "Epoch 28/30\n",
      "102/102 [==============================] - 20s 199ms/step - loss: 0.9701\n",
      "Validation: normalized_discounted_cumulative_gain@3(0.0): 0.47967739299840645 - normalized_discounted_cumulative_gain@5(0.0): 0.5474675072711481 - mean_average_precision(0.0): 0.5195916220649976\n",
      "Epoch 29/30\n",
      "102/102 [==============================] - 19s 188ms/step - loss: 0.9543\n",
      "Validation: normalized_discounted_cumulative_gain@3(0.0): 0.4939384151573237 - normalized_discounted_cumulative_gain@5(0.0): 0.5546320431879506 - mean_average_precision(0.0): 0.5276297367901399\n",
      "Epoch 30/30\n",
      "102/102 [==============================] - 20s 198ms/step - loss: 0.9497\n",
      "Validation: normalized_discounted_cumulative_gain@3(0.0): 0.48831181125514417 - normalized_discounted_cumulative_gain@5(0.0): 0.5494767148155444 - mean_average_precision(0.0): 0.5225325592830834\n"
     ]
    }
   ],
   "source": [
    "history = model.fit_generator(train_generator, epochs=30, callbacks=[evaluate], workers=30, use_multiprocessing=True)"
   ]
  },
  {
   "cell_type": "code",
   "execution_count": null,
   "metadata": {},
   "outputs": [],
   "source": []
  }
 ],
 "metadata": {
  "kernelspec": {
   "display_name": "Python 3",
   "language": "python",
   "name": "python3"
  },
  "language_info": {
   "codemirror_mode": {
    "name": "ipython",
    "version": 3
   },
   "file_extension": ".py",
   "mimetype": "text/x-python",
   "name": "python",
   "nbconvert_exporter": "python",
   "pygments_lexer": "ipython3",
   "version": "3.6.5"
  }
 },
 "nbformat": 4,
 "nbformat_minor": 2
}
