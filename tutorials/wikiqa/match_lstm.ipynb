{
 "cells": [
  {
   "cell_type": "code",
   "execution_count": 1,
   "metadata": {},
   "outputs": [
    {
     "name": "stderr",
     "output_type": "stream",
     "text": [
      "Using TensorFlow backend.\n"
     ]
    },
    {
     "name": "stdout",
     "output_type": "stream",
     "text": [
      "matchzoo version 2.1.0\n",
      "\n",
      "data loading ...\n",
      "data loaded as `train_pack_raw` `dev_pack_raw` `test_pack_raw`\n",
      "`ranking_task` initialized with metrics [normalized_discounted_cumulative_gain@3(0.0), normalized_discounted_cumulative_gain@5(0.0), mean_average_precision(0.0)]\n",
      "loading embedding ...\n",
      "embedding loaded as `glove_embedding`\n"
     ]
    }
   ],
   "source": [
    "%run init.ipynb"
   ]
  },
  {
   "cell_type": "code",
   "execution_count": 2,
   "metadata": {},
   "outputs": [],
   "source": [
    "preprocessor = mz.preprocessors.BasicPreprocessor(fixed_length_left=10, fixed_length_right=40, remove_stop_words=False)"
   ]
  },
  {
   "cell_type": "code",
   "execution_count": 3,
   "metadata": {},
   "outputs": [
    {
     "name": "stderr",
     "output_type": "stream",
     "text": [
      "Processing text_left with chain_transform of Tokenize => Lowercase => PuncRemoval: 100%|██████████| 2118/2118 [00:00<00:00, 3655.05it/s]\n",
      "Processing text_right with chain_transform of Tokenize => Lowercase => PuncRemoval: 100%|██████████| 18841/18841 [00:07<00:00, 2409.04it/s]\n",
      "Processing text_right with append: 100%|██████████| 18841/18841 [00:00<00:00, 451552.69it/s]\n",
      "Building FrequencyFilter from a datapack.: 100%|██████████| 18841/18841 [00:00<00:00, 68234.84it/s]\n",
      "Processing text_right with transform: 100%|██████████| 18841/18841 [00:00<00:00, 78781.53it/s]\n",
      "Processing text_left with extend: 100%|██████████| 2118/2118 [00:00<00:00, 342596.83it/s]\n",
      "Processing text_right with extend: 100%|██████████| 18841/18841 [00:00<00:00, 375968.80it/s]\n",
      "Building Vocabulary from a datapack.: 100%|██████████| 404415/404415 [00:00<00:00, 1753083.17it/s]\n",
      "Processing text_left with chain_transform of Tokenize => Lowercase => PuncRemoval: 100%|██████████| 2118/2118 [00:00<00:00, 3654.57it/s]\n",
      "Processing text_right with chain_transform of Tokenize => Lowercase => PuncRemoval: 100%|██████████| 18841/18841 [00:07<00:00, 2397.24it/s]\n",
      "Processing text_right with transform: 100%|██████████| 18841/18841 [00:00<00:00, 65816.77it/s]\n",
      "Processing text_left with transform: 100%|██████████| 2118/2118 [00:00<00:00, 119354.24it/s]\n",
      "Processing text_right with transform: 100%|██████████| 18841/18841 [00:00<00:00, 63831.93it/s]\n",
      "Processing length_left with len: 100%|██████████| 2118/2118 [00:00<00:00, 382663.62it/s]\n",
      "Processing length_right with len: 100%|██████████| 18841/18841 [00:00<00:00, 426159.47it/s]\n",
      "Processing text_left with transform: 100%|██████████| 2118/2118 [00:00<00:00, 42091.89it/s]\n",
      "Processing text_right with transform: 100%|██████████| 18841/18841 [00:00<00:00, 36506.61it/s]\n",
      "Processing text_left with chain_transform of Tokenize => Lowercase => PuncRemoval: 100%|██████████| 122/122 [00:00<00:00, 3862.54it/s]\n",
      "Processing text_right with chain_transform of Tokenize => Lowercase => PuncRemoval: 100%|██████████| 1115/1115 [00:00<00:00, 2409.70it/s]\n",
      "Processing text_right with transform: 100%|██████████| 1115/1115 [00:00<00:00, 64497.50it/s]\n",
      "Processing text_left with transform: 100%|██████████| 122/122 [00:00<00:00, 62047.42it/s]\n",
      "Processing text_right with transform: 100%|██████████| 1115/1115 [00:00<00:00, 46771.17it/s]\n",
      "Processing length_left with len: 100%|██████████| 122/122 [00:00<00:00, 110686.80it/s]\n",
      "Processing length_right with len: 100%|██████████| 1115/1115 [00:00<00:00, 252300.87it/s]\n",
      "Processing text_left with transform: 100%|██████████| 122/122 [00:00<00:00, 36255.14it/s]\n",
      "Processing text_right with transform: 100%|██████████| 1115/1115 [00:00<00:00, 34939.48it/s]\n",
      "Processing text_left with chain_transform of Tokenize => Lowercase => PuncRemoval: 100%|██████████| 237/237 [00:00<00:00, 3811.26it/s]\n",
      "Processing text_right with chain_transform of Tokenize => Lowercase => PuncRemoval: 100%|██████████| 2300/2300 [00:00<00:00, 2374.32it/s]\n",
      "Processing text_right with transform: 100%|██████████| 2300/2300 [00:00<00:00, 64547.18it/s]\n",
      "Processing text_left with transform: 100%|██████████| 237/237 [00:00<00:00, 89489.56it/s]\n",
      "Processing text_right with transform: 100%|██████████| 2300/2300 [00:00<00:00, 75198.96it/s]\n",
      "Processing length_left with len: 100%|██████████| 237/237 [00:00<00:00, 158591.26it/s]\n",
      "Processing length_right with len: 100%|██████████| 2300/2300 [00:00<00:00, 342489.41it/s]\n",
      "Processing text_left with transform: 100%|██████████| 237/237 [00:00<00:00, 36633.50it/s]\n",
      "Processing text_right with transform: 100%|██████████| 2300/2300 [00:00<00:00, 35485.33it/s]\n"
     ]
    }
   ],
   "source": [
    "train_pack_processed = preprocessor.fit_transform(train_pack_raw, drop_invalid=True)\n",
    "dev_pack_processed = preprocessor.transform(dev_pack_raw, drop_invalid=False)\n",
    "test_pack_processed = preprocessor.transform(test_pack_raw, drop_invalid=False)"
   ]
  },
  {
   "cell_type": "code",
   "execution_count": 4,
   "metadata": {},
   "outputs": [
    {
     "data": {
      "text/plain": [
       "{'filter_unit': <matchzoo.preprocessors.units.frequency_filter.FrequencyFilter at 0x7f04166207f0>,\n",
       " 'vocab_unit': <matchzoo.preprocessors.units.vocabulary.Vocabulary at 0x7f042454fa20>,\n",
       " 'vocab_size': 16675,\n",
       " 'embedding_input_dim': 16675,\n",
       " 'input_shapes': [(10,), (40,)]}"
      ]
     },
     "execution_count": 4,
     "metadata": {},
     "output_type": "execute_result"
    }
   ],
   "source": [
    "preprocessor.context"
   ]
  },
  {
   "cell_type": "code",
   "execution_count": 5,
   "metadata": {},
   "outputs": [
    {
     "name": "stdout",
     "output_type": "stream",
     "text": [
      "model_class                   <class 'matchzoo.contrib.models.match_lstm.MatchLSTM'>\n",
      "input_shapes                  [(10,), (40,)]\n",
      "task                          Ranking Task\n",
      "optimizer                     adadelta\n",
      "with_embedding                True\n",
      "embedding_input_dim           16675\n",
      "embedding_output_dim          300\n",
      "embedding_trainable           True\n",
      "lstm_num_units                100\n",
      "fc_num_units                  100\n",
      "dropout_rate                  0.5\n"
     ]
    }
   ],
   "source": [
    "model = mz.contrib.models.MatchLSTM()\n",
    "model.params.update(preprocessor.context)\n",
    "model.params['task'] = ranking_task\n",
    "model.params['embedding_output_dim'] = glove_embedding.output_dim\n",
    "model.params['embedding_trainable'] = True\n",
    "model.params['fc_num_units'] = 100\n",
    "model.params['lstm_num_units'] = 100\n",
    "model.params['dropout_rate'] = 0.5\n",
    "model.params['optimizer'] = 'adadelta'\n",
    "model.guess_and_fill_missing_params()\n",
    "model.build()\n",
    "model.compile()\n",
    "print(model.params)"
   ]
  },
  {
   "cell_type": "code",
   "execution_count": 6,
   "metadata": {},
   "outputs": [
    {
     "name": "stdout",
     "output_type": "stream",
     "text": [
      "__________________________________________________________________________________________________\n",
      "Layer (type)                    Output Shape         Param #     Connected to                     \n",
      "==================================================================================================\n",
      "text_left (InputLayer)          (None, 10)           0                                            \n",
      "__________________________________________________________________________________________________\n",
      "text_right (InputLayer)         (None, 40)           0                                            \n",
      "__________________________________________________________________________________________________\n",
      "embedding (Embedding)           multiple             5002500     text_left[0][0]                  \n",
      "                                                                 text_right[0][0]                 \n",
      "__________________________________________________________________________________________________\n",
      "lstm_left (LSTM)                (None, 10, 100)      160400      embedding[0][0]                  \n",
      "__________________________________________________________________________________________________\n",
      "lstm_right (LSTM)               (None, 40, 100)      160400      embedding[1][0]                  \n",
      "__________________________________________________________________________________________________\n",
      "lambda_1 (Lambda)               (None, 10, 100)      0           lstm_left[0][0]                  \n",
      "                                                                 lstm_right[0][0]                 \n",
      "__________________________________________________________________________________________________\n",
      "concatenate_1 (Concatenate)     (None, 50, 100)      0           lambda_1[0][0]                   \n",
      "                                                                 lstm_right[0][0]                 \n",
      "__________________________________________________________________________________________________\n",
      "lstm_merge (LSTM)               (None, 200)          240800      concatenate_1[0][0]              \n",
      "__________________________________________________________________________________________________\n",
      "dropout_1 (Dropout)             (None, 200)          0           lstm_merge[0][0]                 \n",
      "__________________________________________________________________________________________________\n",
      "dense_5 (Dense)                 (None, 100)          20100       dropout_1[0][0]                  \n",
      "__________________________________________________________________________________________________\n",
      "dense_6 (Dense)                 (None, 1)            101         dense_5[0][0]                    \n",
      "==================================================================================================\n",
      "Total params: 5,584,301\n",
      "Trainable params: 5,584,301\n",
      "Non-trainable params: 0\n",
      "__________________________________________________________________________________________________\n"
     ]
    }
   ],
   "source": [
    "model.backend.summary()"
   ]
  },
  {
   "cell_type": "code",
   "execution_count": 7,
   "metadata": {},
   "outputs": [],
   "source": [
    "embedding_matrix = glove_embedding.build_matrix(preprocessor.context['vocab_unit'].state['term_index'])\n",
    "model.load_embedding_matrix(embedding_matrix)"
   ]
  },
  {
   "cell_type": "code",
   "execution_count": 8,
   "metadata": {},
   "outputs": [],
   "source": [
    "test_x, test_y = test_pack_processed.unpack()\n",
    "evaluate = mz.callbacks.EvaluateAllMetrics(model, x=test_x, y=test_y, batch_size=len(test_x))"
   ]
  },
  {
   "cell_type": "code",
   "execution_count": 9,
   "metadata": {},
   "outputs": [
    {
     "name": "stdout",
     "output_type": "stream",
     "text": [
      "num batches: 102\n"
     ]
    }
   ],
   "source": [
    "train_generator = mz.DataGenerator(\n",
    "    train_pack_processed,\n",
    "    mode='pair',\n",
    "    num_dup=2,\n",
    "    num_neg=1,\n",
    "    batch_size=20\n",
    ")\n",
    "print('num batches:', len(train_generator))"
   ]
  },
  {
   "cell_type": "code",
   "execution_count": 10,
   "metadata": {
    "scrolled": false
   },
   "outputs": [
    {
     "name": "stdout",
     "output_type": "stream",
     "text": [
      "Epoch 1/10\n",
      "102/102 [==============================] - 34s 333ms/step - loss: 0.9173\n",
      "Validation: normalized_discounted_cumulative_gain@3(0.0): 0.4203580039672582 - normalized_discounted_cumulative_gain@5(0.0): 0.496241570575916 - mean_average_precision(0.0): 0.4580415855965\n",
      "Epoch 2/10\n",
      "102/102 [==============================] - 27s 263ms/step - loss: 0.6855\n",
      "Validation: normalized_discounted_cumulative_gain@3(0.0): 0.5897753589225543 - normalized_discounted_cumulative_gain@5(0.0): 0.6490551789962096 - mean_average_precision(0.0): 0.6101337166793529\n",
      "Epoch 3/10\n",
      "102/102 [==============================] - 26s 255ms/step - loss: 0.6049\n",
      "Validation: normalized_discounted_cumulative_gain@3(0.0): 0.6052789016600058 - normalized_discounted_cumulative_gain@5(0.0): 0.6571307409264713 - mean_average_precision(0.0): 0.6111243714091814\n",
      "Epoch 4/10\n",
      "102/102 [==============================] - 27s 269ms/step - loss: 0.4786\n",
      "Validation: normalized_discounted_cumulative_gain@3(0.0): 0.5944665170448176 - normalized_discounted_cumulative_gain@5(0.0): 0.6707248394005815 - mean_average_precision(0.0): 0.6131513136073822\n",
      "Epoch 5/10\n",
      "102/102 [==============================] - 26s 257ms/step - loss: 0.4165\n",
      "Validation: normalized_discounted_cumulative_gain@3(0.0): 0.5694455788059103 - normalized_discounted_cumulative_gain@5(0.0): 0.6384850303245836 - mean_average_precision(0.0): 0.5917571394839001\n",
      "Epoch 6/10\n",
      "102/102 [==============================] - 26s 255ms/step - loss: 0.3505\n",
      "Validation: normalized_discounted_cumulative_gain@3(0.0): 0.5721351150306134 - normalized_discounted_cumulative_gain@5(0.0): 0.6446739364674314 - mean_average_precision(0.0): 0.5925056705724985\n",
      "Epoch 7/10\n",
      "102/102 [==============================] - 27s 265ms/step - loss: 0.2995\n",
      "Validation: normalized_discounted_cumulative_gain@3(0.0): 0.5401293065206052 - normalized_discounted_cumulative_gain@5(0.0): 0.6175595470797577 - mean_average_precision(0.0): 0.5610588046505769\n",
      "Epoch 8/10\n",
      "102/102 [==============================] - 27s 262ms/step - loss: 0.2144\n",
      "Validation: normalized_discounted_cumulative_gain@3(0.0): 0.5758770606133741 - normalized_discounted_cumulative_gain@5(0.0): 0.6329032853897775 - mean_average_precision(0.0): 0.5814390318552399\n",
      "Epoch 9/10\n",
      "102/102 [==============================] - 26s 256ms/step - loss: 0.1926\n",
      "Validation: normalized_discounted_cumulative_gain@3(0.0): 0.5808317552178826 - normalized_discounted_cumulative_gain@5(0.0): 0.6476572157813588 - mean_average_precision(0.0): 0.6004264576258247\n",
      "Epoch 10/10\n",
      "102/102 [==============================] - 27s 266ms/step - loss: 0.1722\n",
      "Validation: normalized_discounted_cumulative_gain@3(0.0): 0.5434902152692179 - normalized_discounted_cumulative_gain@5(0.0): 0.6034198993254108 - mean_average_precision(0.0): 0.5495989395166904\n"
     ]
    }
   ],
   "source": [
    "history = model.fit_generator(train_generator, epochs=10, callbacks=[evaluate], workers=4, use_multiprocessing=True)"
   ]
  }
 ],
 "metadata": {
  "kernelspec": {
   "display_name": "Python 3",
   "language": "python",
   "name": "python3"
  },
  "language_info": {
   "codemirror_mode": {
    "name": "ipython",
    "version": 3
   },
   "file_extension": ".py",
   "mimetype": "text/x-python",
   "name": "python",
   "nbconvert_exporter": "python",
   "pygments_lexer": "ipython3",
   "version": "3.6.5"
  }
 },
 "nbformat": 4,
 "nbformat_minor": 2
}
