{
 "cells": [
  {
   "cell_type": "code",
   "execution_count": 1,
   "metadata": {},
   "outputs": [
    {
     "name": "stderr",
     "output_type": "stream",
     "text": [
      "Using TensorFlow backend.\n"
     ]
    },
    {
     "name": "stdout",
     "output_type": "stream",
     "text": [
      "matchzoo version 2.1.0\n",
      "\n",
      "data loading ...\n",
      "data loaded as `train_pack_raw` `dev_pack_raw` `test_pack_raw`\n",
      "`ranking_task` initialized with metrics [normalized_discounted_cumulative_gain@3(0.0), normalized_discounted_cumulative_gain@5(0.0), mean_average_precision(0.0)]\n",
      "loading embedding ...\n",
      "embedding loaded as `glove_embedding`\n"
     ]
    }
   ],
   "source": [
    "%run init.ipynb"
   ]
  },
  {
   "cell_type": "code",
   "execution_count": 2,
   "metadata": {},
   "outputs": [
    {
     "name": "stderr",
     "output_type": "stream",
     "text": [
      "Processing text_left with chain_transform of Tokenize => Lowercase => PuncRemoval: 100%|██████████| 2118/2118 [00:00<00:00, 3661.32it/s]\n",
      "Processing text_right with chain_transform of Tokenize => Lowercase => PuncRemoval: 100%|██████████| 18841/18841 [00:08<00:00, 2344.49it/s]\n",
      "Processing text_right with append: 100%|██████████| 18841/18841 [00:00<00:00, 466680.53it/s]\n",
      "Building FrequencyFilter from a datapack.: 100%|██████████| 18841/18841 [00:00<00:00, 61581.73it/s]\n",
      "Processing text_right with transform: 100%|██████████| 18841/18841 [00:00<00:00, 66257.47it/s]\n",
      "Processing text_left with extend: 100%|██████████| 2118/2118 [00:00<00:00, 349442.84it/s]\n",
      "Processing text_right with extend: 100%|██████████| 18841/18841 [00:00<00:00, 395430.87it/s]\n",
      "Building Vocabulary from a datapack.: 100%|██████████| 404415/404415 [00:00<00:00, 1750373.25it/s]\n",
      "Processing text_left with chain_transform of Tokenize => Lowercase => PuncRemoval: 100%|██████████| 2118/2118 [00:00<00:00, 3731.24it/s]\n",
      "Processing text_right with chain_transform of Tokenize => Lowercase => PuncRemoval: 100%|██████████| 18841/18841 [00:08<00:00, 2251.51it/s]\n",
      "Processing text_right with transform: 100%|██████████| 18841/18841 [00:00<00:00, 69455.20it/s]\n",
      "Processing text_left with transform: 100%|██████████| 2118/2118 [00:00<00:00, 107322.78it/s]\n",
      "Processing text_right with transform: 100%|██████████| 18841/18841 [00:00<00:00, 66941.87it/s]\n",
      "Processing length_left with len: 100%|██████████| 2118/2118 [00:00<00:00, 348401.28it/s]\n",
      "Processing length_right with len: 100%|██████████| 18841/18841 [00:00<00:00, 413426.81it/s]\n",
      "Processing text_left with transform: 100%|██████████| 2118/2118 [00:00<00:00, 44779.72it/s]\n",
      "Processing text_right with transform: 100%|██████████| 18841/18841 [00:00<00:00, 38059.87it/s]\n",
      "Processing text_left with chain_transform of Tokenize => Lowercase => PuncRemoval: 100%|██████████| 122/122 [00:00<00:00, 4081.46it/s]\n",
      "Processing text_right with chain_transform of Tokenize => Lowercase => PuncRemoval: 100%|██████████| 1115/1115 [00:00<00:00, 2314.78it/s]\n",
      "Processing text_right with transform: 100%|██████████| 1115/1115 [00:00<00:00, 59794.52it/s]\n",
      "Processing text_left with transform: 100%|██████████| 122/122 [00:00<00:00, 57566.10it/s]\n",
      "Processing text_right with transform: 100%|██████████| 1115/1115 [00:00<00:00, 63215.90it/s]\n",
      "Processing length_left with len: 100%|██████████| 122/122 [00:00<00:00, 110878.68it/s]\n",
      "Processing length_right with len: 100%|██████████| 1115/1115 [00:00<00:00, 322216.41it/s]\n",
      "Processing text_left with transform: 100%|██████████| 122/122 [00:00<00:00, 15454.23it/s]\n",
      "Processing text_right with transform: 100%|██████████| 1115/1115 [00:00<00:00, 25550.29it/s]\n",
      "Processing text_left with chain_transform of Tokenize => Lowercase => PuncRemoval: 100%|██████████| 237/237 [00:00<00:00, 3565.91it/s]\n",
      "Processing text_right with chain_transform of Tokenize => Lowercase => PuncRemoval: 100%|██████████| 2300/2300 [00:00<00:00, 2358.52it/s]\n",
      "Processing text_right with transform: 100%|██████████| 2300/2300 [00:00<00:00, 64214.63it/s]\n",
      "Processing text_left with transform: 100%|██████████| 237/237 [00:00<00:00, 89088.55it/s]\n",
      "Processing text_right with transform: 100%|██████████| 2300/2300 [00:00<00:00, 76613.77it/s]\n",
      "Processing length_left with len: 100%|██████████| 237/237 [00:00<00:00, 165813.19it/s]\n",
      "Processing length_right with len: 100%|██████████| 2300/2300 [00:00<00:00, 359851.51it/s]\n",
      "Processing text_left with transform: 100%|██████████| 237/237 [00:00<00:00, 26200.58it/s]\n",
      "Processing text_right with transform: 100%|██████████| 2300/2300 [00:00<00:00, 37386.30it/s]\n"
     ]
    }
   ],
   "source": [
    "preprocessor = mz.preprocessors.BasicPreprocessor(fixed_length_left=10, fixed_length_right=40, remove_stop_words=False)\n",
    "train_pack_processed = preprocessor.fit_transform(train_pack_raw, drop_invalid=True)\n",
    "valid_pack_processed = preprocessor.transform(dev_pack_raw, drop_invalid=False)\n",
    "test_pack_processed = preprocessor.transform(test_pack_raw, drop_invalid=False)"
   ]
  },
  {
   "cell_type": "code",
   "execution_count": 3,
   "metadata": {
    "scrolled": false
   },
   "outputs": [
    {
     "name": "stdout",
     "output_type": "stream",
     "text": [
      "__________________________________________________________________________________________________\n",
      "Layer (type)                    Output Shape         Param #     Connected to                     \n",
      "==================================================================================================\n",
      "text_left (InputLayer)          (None, 10)           0                                            \n",
      "__________________________________________________________________________________________________\n",
      "text_right (InputLayer)         (None, 40)           0                                            \n",
      "__________________________________________________________________________________________________\n",
      "embedding (Embedding)           multiple             5002500     text_left[0][0]                  \n",
      "                                                                 text_right[0][0]                 \n",
      "__________________________________________________________________________________________________\n",
      "bidirectional_1 (Bidirectional) (None, 10, 100)      140400      embedding[0][0]                  \n",
      "__________________________________________________________________________________________________\n",
      "bidirectional_2 (Bidirectional) (None, 40, 100)      140400      embedding[1][0]                  \n",
      "__________________________________________________________________________________________________\n",
      "dot_1 (Dot)                     (None, 10, 40)       0           bidirectional_1[0][0]            \n",
      "                                                                 bidirectional_2[0][0]            \n",
      "__________________________________________________________________________________________________\n",
      "reshape_1 (Reshape)             (None, 400)          0           dot_1[0][0]                      \n",
      "__________________________________________________________________________________________________\n",
      "lambda_1 (Lambda)               (None, 20)           0           reshape_1[0][0]                  \n",
      "__________________________________________________________________________________________________\n",
      "dense_1 (Dense)                 (None, 10)           210         lambda_1[0][0]                   \n",
      "__________________________________________________________________________________________________\n",
      "dense_2 (Dense)                 (None, 10)           110         dense_1[0][0]                    \n",
      "__________________________________________________________________________________________________\n",
      "dense_3 (Dense)                 (None, 5)            55          dense_2[0][0]                    \n",
      "__________________________________________________________________________________________________\n",
      "dropout_1 (Dropout)             (None, 5)            0           dense_3[0][0]                    \n",
      "__________________________________________________________________________________________________\n",
      "dense_4 (Dense)                 (None, 1)            6           dropout_1[0][0]                  \n",
      "==================================================================================================\n",
      "Total params: 5,283,681\n",
      "Trainable params: 5,283,681\n",
      "Non-trainable params: 0\n",
      "__________________________________________________________________________________________________\n"
     ]
    }
   ],
   "source": [
    "model = mz.models.MVLSTM()\n",
    "model.params.update(preprocessor.context)\n",
    "model.params['task'] = ranking_task\n",
    "model.params['embedding_output_dim'] = 300\n",
    "model.params['lstm_units'] = 50\n",
    "model.params['top_k'] = 20\n",
    "model.params['mlp_num_layers'] = 2\n",
    "model.params['mlp_num_units'] = 10\n",
    "model.params['mlp_num_fan_out'] = 5\n",
    "model.params['mlp_activation_func'] = 'relu'\n",
    "model.params['dropout_rate'] = 0.5\n",
    "model.params['optimizer'] = 'adadelta'\n",
    "model.guess_and_fill_missing_params()\n",
    "model.build()\n",
    "model.compile()\n",
    "model.backend.summary()"
   ]
  },
  {
   "cell_type": "code",
   "execution_count": 4,
   "metadata": {},
   "outputs": [],
   "source": [
    "embedding_matrix = glove_embedding.build_matrix(preprocessor.context['vocab_unit'].state['term_index'])\n",
    "model.load_embedding_matrix(embedding_matrix)"
   ]
  },
  {
   "cell_type": "code",
   "execution_count": 5,
   "metadata": {},
   "outputs": [],
   "source": [
    "pred_x, pred_y = test_pack_processed.unpack()\n",
    "evaluate = mz.callbacks.EvaluateAllMetrics(model, x=pred_x, y=pred_y, batch_size=len(pred_y))"
   ]
  },
  {
   "cell_type": "code",
   "execution_count": 6,
   "metadata": {},
   "outputs": [
    {
     "name": "stdout",
     "output_type": "stream",
     "text": [
      "num batches: 102\n"
     ]
    }
   ],
   "source": [
    "train_generator = mz.DataGenerator(\n",
    "    train_pack_processed,\n",
    "    mode='pair',\n",
    "    num_dup=2,\n",
    "    num_neg=1,\n",
    "    batch_size=20\n",
    ")\n",
    "print('num batches:', len(train_generator))"
   ]
  },
  {
   "cell_type": "code",
   "execution_count": 7,
   "metadata": {
    "scrolled": false
   },
   "outputs": [
    {
     "name": "stdout",
     "output_type": "stream",
     "text": [
      "Epoch 1/30\n",
      "102/102 [==============================] - 23s 224ms/step - loss: 0.9764\n",
      "Validation: normalized_discounted_cumulative_gain@3(0.0): 0.5485976211010741 - normalized_discounted_cumulative_gain@5(0.0): 0.6149015387549529 - mean_average_precision(0.0): 0.5670689766945041\n",
      "Epoch 2/30\n",
      "102/102 [==============================] - 25s 247ms/step - loss: 0.8030\n",
      "Validation: normalized_discounted_cumulative_gain@3(0.0): 0.603772795214753 - normalized_discounted_cumulative_gain@5(0.0): 0.6559632775244298 - mean_average_precision(0.0): 0.6091091025320984\n",
      "Epoch 3/30\n",
      "102/102 [==============================] - 25s 244ms/step - loss: 0.7665\n",
      "Validation: normalized_discounted_cumulative_gain@3(0.0): 0.6001398252373443 - normalized_discounted_cumulative_gain@5(0.0): 0.6567092985128475 - mean_average_precision(0.0): 0.6080647126436046\n",
      "Epoch 4/30\n",
      "102/102 [==============================] - 25s 248ms/step - loss: 0.7174\n",
      "Validation: normalized_discounted_cumulative_gain@3(0.0): 0.615711304765704 - normalized_discounted_cumulative_gain@5(0.0): 0.6700269848788998 - mean_average_precision(0.0): 0.6238528005483205\n",
      "Epoch 5/30\n",
      "102/102 [==============================] - 25s 249ms/step - loss: 0.6961\n",
      "Validation: normalized_discounted_cumulative_gain@3(0.0): 0.6126979728563916 - normalized_discounted_cumulative_gain@5(0.0): 0.6706813794365187 - mean_average_precision(0.0): 0.6204482158332371\n",
      "Epoch 6/30\n",
      "102/102 [==============================] - 25s 245ms/step - loss: 0.6728\n",
      "Validation: normalized_discounted_cumulative_gain@3(0.0): 0.6145779716400918 - normalized_discounted_cumulative_gain@5(0.0): 0.6764523705519642 - mean_average_precision(0.0): 0.6286190768521992\n",
      "Epoch 7/30\n",
      "102/102 [==============================] - 26s 250ms/step - loss: 0.6341\n",
      "Validation: normalized_discounted_cumulative_gain@3(0.0): 0.6246547460072799 - normalized_discounted_cumulative_gain@5(0.0): 0.6894694609883097 - mean_average_precision(0.0): 0.6391749935186255\n",
      "Epoch 8/30\n",
      "102/102 [==============================] - 26s 253ms/step - loss: 0.6071\n",
      "Validation: normalized_discounted_cumulative_gain@3(0.0): 0.6349372971562778 - normalized_discounted_cumulative_gain@5(0.0): 0.6912126307870887 - mean_average_precision(0.0): 0.6477427399423846\n",
      "Epoch 9/30\n",
      "102/102 [==============================] - 25s 247ms/step - loss: 0.6186\n",
      "Validation: normalized_discounted_cumulative_gain@3(0.0): 0.6477500364967981 - normalized_discounted_cumulative_gain@5(0.0): 0.707179360557644 - mean_average_precision(0.0): 0.6563065407344059\n",
      "Epoch 10/30\n",
      "102/102 [==============================] - 25s 247ms/step - loss: 0.5924\n",
      "Validation: normalized_discounted_cumulative_gain@3(0.0): 0.6257629814214993 - normalized_discounted_cumulative_gain@5(0.0): 0.6804303596875798 - mean_average_precision(0.0): 0.6298013729316472\n",
      "Epoch 11/30\n",
      "102/102 [==============================] - 24s 238ms/step - loss: 0.5818\n",
      "Validation: normalized_discounted_cumulative_gain@3(0.0): 0.6405115804444084 - normalized_discounted_cumulative_gain@5(0.0): 0.7056814547088595 - mean_average_precision(0.0): 0.6526520642976339\n",
      "Epoch 12/30\n",
      "102/102 [==============================] - 25s 246ms/step - loss: 0.5328\n",
      "Validation: normalized_discounted_cumulative_gain@3(0.0): 0.6384724600170443 - normalized_discounted_cumulative_gain@5(0.0): 0.6927929397618964 - mean_average_precision(0.0): 0.6475454679165277\n",
      "Epoch 13/30\n",
      "102/102 [==============================] - 26s 251ms/step - loss: 0.5722\n",
      "Validation: normalized_discounted_cumulative_gain@3(0.0): 0.6299619525285257 - normalized_discounted_cumulative_gain@5(0.0): 0.6880337354548305 - mean_average_precision(0.0): 0.6434134548058598\n",
      "Epoch 14/30\n",
      "102/102 [==============================] - 26s 257ms/step - loss: 0.5309\n",
      "Validation: normalized_discounted_cumulative_gain@3(0.0): 0.632351346602742 - normalized_discounted_cumulative_gain@5(0.0): 0.6953659682737274 - mean_average_precision(0.0): 0.6411181112732038\n",
      "Epoch 15/30\n",
      "102/102 [==============================] - 27s 265ms/step - loss: 0.4936\n",
      "Validation: normalized_discounted_cumulative_gain@3(0.0): 0.6502748347541358 - normalized_discounted_cumulative_gain@5(0.0): 0.702164858029402 - mean_average_precision(0.0): 0.6518231171079272\n",
      "Epoch 16/30\n",
      "102/102 [==============================] - 27s 267ms/step - loss: 0.4942\n",
      "Validation: normalized_discounted_cumulative_gain@3(0.0): 0.655448959589146 - normalized_discounted_cumulative_gain@5(0.0): 0.7079713864807375 - mean_average_precision(0.0): 0.657742551354962\n",
      "Epoch 17/30\n",
      "102/102 [==============================] - 27s 264ms/step - loss: 0.4764\n",
      "Validation: normalized_discounted_cumulative_gain@3(0.0): 0.6431056320493558 - normalized_discounted_cumulative_gain@5(0.0): 0.6959195206624005 - mean_average_precision(0.0): 0.6474742478113419\n",
      "Epoch 18/30\n",
      "102/102 [==============================] - 27s 265ms/step - loss: 0.4618\n",
      "Validation: normalized_discounted_cumulative_gain@3(0.0): 0.6510839341903246 - normalized_discounted_cumulative_gain@5(0.0): 0.7023855715781596 - mean_average_precision(0.0): 0.6581272223095566\n",
      "Epoch 19/30\n",
      "102/102 [==============================] - 27s 262ms/step - loss: 0.4008\n",
      "Validation: normalized_discounted_cumulative_gain@3(0.0): 0.6420439036198609 - normalized_discounted_cumulative_gain@5(0.0): 0.6939373655766992 - mean_average_precision(0.0): 0.6463834559720636\n",
      "Epoch 20/30\n",
      "102/102 [==============================] - 28s 275ms/step - loss: 0.3588\n",
      "Validation: normalized_discounted_cumulative_gain@3(0.0): 0.6384871833323413 - normalized_discounted_cumulative_gain@5(0.0): 0.6938198893253738 - mean_average_precision(0.0): 0.6459500385924437\n",
      "Epoch 21/30\n",
      "102/102 [==============================] - 28s 272ms/step - loss: 0.3602\n",
      "Validation: normalized_discounted_cumulative_gain@3(0.0): 0.6407457339902078 - normalized_discounted_cumulative_gain@5(0.0): 0.6922744609077202 - mean_average_precision(0.0): 0.6474566383259608\n",
      "Epoch 22/30\n",
      "102/102 [==============================] - 26s 254ms/step - loss: 0.3568\n",
      "Validation: normalized_discounted_cumulative_gain@3(0.0): 0.6441843220640333 - normalized_discounted_cumulative_gain@5(0.0): 0.6913655606667692 - mean_average_precision(0.0): 0.6464278571873509\n",
      "Epoch 23/30\n",
      "102/102 [==============================] - 27s 262ms/step - loss: 0.3277\n",
      "Validation: normalized_discounted_cumulative_gain@3(0.0): 0.6499051782562678 - normalized_discounted_cumulative_gain@5(0.0): 0.6998100073805221 - mean_average_precision(0.0): 0.6529453419880635\n",
      "Epoch 24/30\n",
      "102/102 [==============================] - 26s 256ms/step - loss: 0.3419\n",
      "Validation: normalized_discounted_cumulative_gain@3(0.0): 0.6436512586974483 - normalized_discounted_cumulative_gain@5(0.0): 0.6968727683594104 - mean_average_precision(0.0): 0.6486531210819185\n",
      "Epoch 25/30\n",
      "102/102 [==============================] - 27s 267ms/step - loss: 0.3207\n",
      "Validation: normalized_discounted_cumulative_gain@3(0.0): 0.659737798992227 - normalized_discounted_cumulative_gain@5(0.0): 0.7034076687731794 - mean_average_precision(0.0): 0.6529515576213024\n",
      "Epoch 26/30\n",
      "102/102 [==============================] - 28s 273ms/step - loss: 0.2907\n",
      "Validation: normalized_discounted_cumulative_gain@3(0.0): 0.639988743320498 - normalized_discounted_cumulative_gain@5(0.0): 0.6930650380703947 - mean_average_precision(0.0): 0.6453636258876393\n",
      "Epoch 27/30\n",
      "102/102 [==============================] - 27s 266ms/step - loss: 0.2904\n",
      "Validation: normalized_discounted_cumulative_gain@3(0.0): 0.6579177838691727 - normalized_discounted_cumulative_gain@5(0.0): 0.7016554558475762 - mean_average_precision(0.0): 0.659530022544263\n",
      "Epoch 28/30\n",
      "102/102 [==============================] - 28s 270ms/step - loss: 0.3090\n",
      "Validation: normalized_discounted_cumulative_gain@3(0.0): 0.6468567485501329 - normalized_discounted_cumulative_gain@5(0.0): 0.6970220645371383 - mean_average_precision(0.0): 0.650528552566596\n",
      "Epoch 29/30\n",
      "102/102 [==============================] - 28s 272ms/step - loss: 0.2795\n",
      "Validation: normalized_discounted_cumulative_gain@3(0.0): 0.6451699138822615 - normalized_discounted_cumulative_gain@5(0.0): 0.6944945806539794 - mean_average_precision(0.0): 0.6490215685627079\n",
      "Epoch 30/30\n",
      "102/102 [==============================] - 26s 254ms/step - loss: 0.2699\n",
      "Validation: normalized_discounted_cumulative_gain@3(0.0): 0.6564537224108205 - normalized_discounted_cumulative_gain@5(0.0): 0.7064332131419649 - mean_average_precision(0.0): 0.6591932356824389\n"
     ]
    }
   ],
   "source": [
    "history = model.fit_generator(train_generator, epochs=30, callbacks=[evaluate], workers=30, use_multiprocessing=True)"
   ]
  },
  {
   "cell_type": "code",
   "execution_count": null,
   "metadata": {},
   "outputs": [],
   "source": []
  }
 ],
 "metadata": {
  "kernelspec": {
   "display_name": "Python 3",
   "language": "python",
   "name": "python3"
  },
  "language_info": {
   "codemirror_mode": {
    "name": "ipython",
    "version": 3
   },
   "file_extension": ".py",
   "mimetype": "text/x-python",
   "name": "python",
   "nbconvert_exporter": "python",
   "pygments_lexer": "ipython3",
   "version": "3.6.5"
  }
 },
 "nbformat": 4,
 "nbformat_minor": 2
}
