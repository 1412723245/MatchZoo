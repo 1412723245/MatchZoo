{
 "cells": [
  {
   "cell_type": "code",
   "execution_count": 1,
   "metadata": {},
   "outputs": [
    {
     "name": "stderr",
     "output_type": "stream",
     "text": [
      "Using TensorFlow backend.\n"
     ]
    },
    {
     "name": "stdout",
     "output_type": "stream",
     "text": [
      "matchzoo version 2.1.0\n",
      "\n",
      "data loading ...\n",
      "data loaded as `train_pack_raw` `dev_pack_raw` `test_pack_raw`\n",
      "`ranking_task` initialized with metrics [normalized_discounted_cumulative_gain@3(0.0), normalized_discounted_cumulative_gain@5(0.0), mean_average_precision(0.0)]\n",
      "loading embedding ...\n",
      "embedding loaded as `glove_embedding`\n"
     ]
    }
   ],
   "source": [
    "%run init.ipynb"
   ]
  },
  {
   "cell_type": "code",
   "execution_count": 2,
   "metadata": {},
   "outputs": [],
   "source": [
    "preprocessor = mz.preprocessors.BasicPreprocessor(fixed_length_left=10, \n",
    "                                                  fixed_length_right=40, \n",
    "                                                  remove_stop_words=True)"
   ]
  },
  {
   "cell_type": "code",
   "execution_count": 3,
   "metadata": {
    "scrolled": false
   },
   "outputs": [
    {
     "name": "stderr",
     "output_type": "stream",
     "text": [
      "Processing text_left with chain_transform of Tokenize => Lowercase => PuncRemoval => StopRemoval: 100%|██████████| 2118/2118 [00:00<00:00, 7519.77it/s]\n",
      "Processing text_right with chain_transform of Tokenize => Lowercase => PuncRemoval => StopRemoval: 100%|██████████| 18841/18841 [00:04<00:00, 4090.68it/s]\n",
      "Processing text_right with append: 100%|██████████| 18841/18841 [00:00<00:00, 817284.59it/s]\n",
      "Building FrequencyFilter from a datapack.: 100%|██████████| 18841/18841 [00:00<00:00, 181524.51it/s]\n",
      "Processing text_right with transform: 100%|██████████| 18841/18841 [00:00<00:00, 92709.99it/s]\n",
      "Processing text_left with extend: 100%|██████████| 2118/2118 [00:00<00:00, 722238.69it/s]\n",
      "Processing text_right with extend: 100%|██████████| 18841/18841 [00:00<00:00, 800665.47it/s]\n",
      "Building Vocabulary from a datapack.: 100%|██████████| 234263/234263 [00:00<00:00, 2887381.76it/s]\n",
      "Processing text_left with chain_transform of Tokenize => Lowercase => PuncRemoval => StopRemoval: 100%|██████████| 2118/2118 [00:00<00:00, 7689.51it/s]\n",
      "Processing text_right with chain_transform of Tokenize => Lowercase => PuncRemoval => StopRemoval: 100%|██████████| 18841/18841 [00:04<00:00, 4079.95it/s]\n",
      "Processing text_right with transform: 100%|██████████| 18841/18841 [00:00<00:00, 194242.60it/s]\n",
      "Processing text_left with transform: 100%|██████████| 2118/2118 [00:00<00:00, 282969.23it/s]\n",
      "Processing text_right with transform: 100%|██████████| 18841/18841 [00:00<00:00, 190735.31it/s]\n",
      "Processing length_left with len: 100%|██████████| 2118/2118 [00:00<00:00, 687154.69it/s]\n",
      "Processing length_right with len: 100%|██████████| 18841/18841 [00:00<00:00, 777811.61it/s]\n",
      "Processing text_left with transform: 100%|██████████| 2118/2118 [00:00<00:00, 125866.56it/s]\n",
      "Processing text_right with transform: 100%|██████████| 18841/18841 [00:00<00:00, 106145.05it/s]\n",
      "Processing text_left with chain_transform of Tokenize => Lowercase => PuncRemoval => StopRemoval: 100%|██████████| 122/122 [00:00<00:00, 7577.45it/s]\n",
      "Processing text_right with chain_transform of Tokenize => Lowercase => PuncRemoval => StopRemoval: 100%|██████████| 1115/1115 [00:00<00:00, 4071.39it/s]\n",
      "Processing text_right with transform: 100%|██████████| 1115/1115 [00:00<00:00, 12216.98it/s]\n",
      "Processing text_left with transform: 100%|██████████| 122/122 [00:00<00:00, 123869.54it/s]\n",
      "Processing text_right with transform: 100%|██████████| 1115/1115 [00:00<00:00, 185994.63it/s]\n",
      "Processing length_left with len: 100%|██████████| 122/122 [00:00<00:00, 174167.83it/s]\n",
      "Processing length_right with len: 100%|██████████| 1115/1115 [00:00<00:00, 549160.28it/s]\n",
      "Processing text_left with transform: 100%|██████████| 122/122 [00:00<00:00, 92132.71it/s]\n",
      "Processing text_right with transform: 100%|██████████| 1115/1115 [00:00<00:00, 102241.95it/s]\n",
      "Processing text_left with chain_transform of Tokenize => Lowercase => PuncRemoval => StopRemoval: 100%|██████████| 237/237 [00:00<00:00, 7897.56it/s]\n",
      "Processing text_right with chain_transform of Tokenize => Lowercase => PuncRemoval => StopRemoval: 100%|██████████| 2300/2300 [00:00<00:00, 4093.36it/s]\n",
      "Processing text_right with transform: 100%|██████████| 2300/2300 [00:00<00:00, 204726.11it/s]\n",
      "Processing text_left with transform: 100%|██████████| 237/237 [00:00<00:00, 187769.18it/s]\n",
      "Processing text_right with transform: 100%|██████████| 2300/2300 [00:00<00:00, 190865.19it/s]\n",
      "Processing length_left with len: 100%|██████████| 237/237 [00:00<00:00, 336623.79it/s]\n",
      "Processing length_right with len: 100%|██████████| 2300/2300 [00:00<00:00, 691732.34it/s]\n",
      "Processing text_left with transform: 100%|██████████| 237/237 [00:00<00:00, 113437.18it/s]\n",
      "Processing text_right with transform: 100%|██████████| 2300/2300 [00:00<00:00, 108145.46it/s]\n"
     ]
    }
   ],
   "source": [
    "train_pack_processed = preprocessor.fit_transform(train_pack_raw)\n",
    "dev_pack_processed = preprocessor.transform(dev_pack_raw)\n",
    "test_pack_processed = preprocessor.transform(test_pack_raw)"
   ]
  },
  {
   "cell_type": "code",
   "execution_count": 4,
   "metadata": {
    "scrolled": false
   },
   "outputs": [
    {
     "name": "stdout",
     "output_type": "stream",
     "text": [
      "model_class                   <class 'matchzoo.models.match_pyramid.MatchPyramid'>\n",
      "input_shapes                  [(10,), (40,)]\n",
      "task                          Ranking Task\n",
      "optimizer                     adam\n",
      "with_embedding                True\n",
      "embedding_input_dim           16546\n",
      "embedding_output_dim          300\n",
      "embedding_trainable           True\n",
      "num_blocks                    2\n",
      "kernel_count                  [16, 32]\n",
      "kernel_size                   [[3, 3], [3, 3]]\n",
      "activation                    relu\n",
      "dpool_size                    [3, 10]\n",
      "padding                       same\n",
      "dropout_rate                  0.1\n"
     ]
    }
   ],
   "source": [
    "model = mz.models.MatchPyramid()\n",
    "\n",
    "# load `input_shapes` and `embedding_input_dim` (vocab_size)\n",
    "model.params.update(preprocessor.context)\n",
    "\n",
    "model.params['task'] = ranking_task\n",
    "model.params['embedding_output_dim'] = 300\n",
    "model.params['embedding_trainable'] = True\n",
    "model.params['num_blocks'] = 2\n",
    "model.params['kernel_count'] = [16, 32]\n",
    "model.params['kernel_size'] = [[3, 3], [3, 3]]\n",
    "model.params['dpool_size'] = [3, 10]\n",
    "model.params['optimizer'] = 'adam'\n",
    "model.params['dropout_rate'] = 0.1\n",
    "\n",
    "model.build()\n",
    "model.compile()\n",
    "\n",
    "print(model.params)"
   ]
  },
  {
   "cell_type": "code",
   "execution_count": 5,
   "metadata": {},
   "outputs": [
    {
     "name": "stdout",
     "output_type": "stream",
     "text": [
      "__________________________________________________________________________________________________\n",
      "Layer (type)                    Output Shape         Param #     Connected to                     \n",
      "==================================================================================================\n",
      "text_left (InputLayer)          (None, 10)           0                                            \n",
      "__________________________________________________________________________________________________\n",
      "text_right (InputLayer)         (None, 40)           0                                            \n",
      "__________________________________________________________________________________________________\n",
      "embedding (Embedding)           multiple             4963800     text_left[0][0]                  \n",
      "                                                                 text_right[0][0]                 \n",
      "__________________________________________________________________________________________________\n",
      "matching_layer_1 (MatchingLayer (None, 10, 40, 1)    0           embedding[0][0]                  \n",
      "                                                                 embedding[1][0]                  \n",
      "__________________________________________________________________________________________________\n",
      "conv2d_1 (Conv2D)               (None, 10, 40, 16)   160         matching_layer_1[0][0]           \n",
      "__________________________________________________________________________________________________\n",
      "conv2d_2 (Conv2D)               (None, 10, 40, 32)   4640        conv2d_1[0][0]                   \n",
      "__________________________________________________________________________________________________\n",
      "length_left (InputLayer)        (None, 1)            0                                            \n",
      "__________________________________________________________________________________________________\n",
      "length_right (InputLayer)       (None, 1)            0                                            \n",
      "__________________________________________________________________________________________________\n",
      "dynamic_pooling_layer_1 (Dynami (None, 3, 10, 32)    0           conv2d_2[0][0]                   \n",
      "                                                                 length_left[0][0]                \n",
      "                                                                 length_right[0][0]               \n",
      "__________________________________________________________________________________________________\n",
      "flatten_1 (Flatten)             (None, 960)          0           dynamic_pooling_layer_1[0][0]    \n",
      "__________________________________________________________________________________________________\n",
      "dropout_1 (Dropout)             (None, 960)          0           flatten_1[0][0]                  \n",
      "__________________________________________________________________________________________________\n",
      "dense_1 (Dense)                 (None, 1)            961         dropout_1[0][0]                  \n",
      "==================================================================================================\n",
      "Total params: 4,969,561\n",
      "Trainable params: 4,969,561\n",
      "Non-trainable params: 0\n",
      "__________________________________________________________________________________________________\n"
     ]
    }
   ],
   "source": [
    "model.backend.summary()"
   ]
  },
  {
   "cell_type": "code",
   "execution_count": 6,
   "metadata": {},
   "outputs": [],
   "source": [
    "embedding_matrix = glove_embedding.build_matrix(preprocessor.context['vocab_unit'].state['term_index'])"
   ]
  },
  {
   "cell_type": "code",
   "execution_count": 7,
   "metadata": {},
   "outputs": [],
   "source": [
    "model.load_embedding_matrix(embedding_matrix)"
   ]
  },
  {
   "cell_type": "code",
   "execution_count": 8,
   "metadata": {},
   "outputs": [
    {
     "name": "stdout",
     "output_type": "stream",
     "text": [
      "num batches: 102\n"
     ]
    }
   ],
   "source": [
    "dpool_callback = mz.data_generator.callbacks.DynamicPooling(\n",
    "    fixed_length_left=10, \n",
    "    fixed_length_right=40\n",
    ")\n",
    "train_generator = mz.DataGenerator(\n",
    "    train_pack_processed,\n",
    "    mode='pair',\n",
    "    num_dup=2,\n",
    "    num_neg=1,\n",
    "    batch_size=20,\n",
    "    callbacks=[dpool_callback]\n",
    ")\n",
    "print('num batches:', len(train_generator))"
   ]
  },
  {
   "cell_type": "code",
   "execution_count": 9,
   "metadata": {},
   "outputs": [
    {
     "data": {
      "text/plain": [
       "118"
      ]
     },
     "execution_count": 9,
     "metadata": {},
     "output_type": "execute_result"
    }
   ],
   "source": [
    "test_generator = mz.DataGenerator(\n",
    "    test_pack_processed,\n",
    "    batch_size=20,\n",
    "    callbacks=[dpool_callback]\n",
    ")\n",
    "len(test_generator)"
   ]
  },
  {
   "cell_type": "code",
   "execution_count": 10,
   "metadata": {},
   "outputs": [],
   "source": [
    "test_x, test_y = test_generator[:]\n",
    "evaluate = mz.callbacks.EvaluateAllMetrics(model, x=test_x, y=test_y, batch_size=len(test_y))"
   ]
  },
  {
   "cell_type": "code",
   "execution_count": 11,
   "metadata": {
    "scrolled": false
   },
   "outputs": [
    {
     "name": "stdout",
     "output_type": "stream",
     "text": [
      "Epoch 1/20\n",
      "102/102 [==============================] - 7s 64ms/step - loss: 0.7424\n",
      "Validation: normalized_discounted_cumulative_gain@3(0.0): 0.5139454549140169 - normalized_discounted_cumulative_gain@5(0.0): 0.5834297539119333 - mean_average_precision(0.0): 0.5352191588484061\n",
      "Epoch 2/20\n",
      "102/102 [==============================] - 12s 113ms/step - loss: 0.4619\n",
      "Validation: normalized_discounted_cumulative_gain@3(0.0): 0.5210624357736955 - normalized_discounted_cumulative_gain@5(0.0): 0.5835136157485148 - mean_average_precision(0.0): 0.5441885150393843\n",
      "Epoch 3/20\n",
      "102/102 [==============================] - 11s 110ms/step - loss: 0.2771\n",
      "Validation: normalized_discounted_cumulative_gain@3(0.0): 0.5236275738408916 - normalized_discounted_cumulative_gain@5(0.0): 0.5894045008193476 - mean_average_precision(0.0): 0.5434810442721834\n",
      "Epoch 4/20\n",
      "102/102 [==============================] - 11s 110ms/step - loss: 0.1936\n",
      "Validation: normalized_discounted_cumulative_gain@3(0.0): 0.5170996303251092 - normalized_discounted_cumulative_gain@5(0.0): 0.5818244377734105 - mean_average_precision(0.0): 0.5431017269638582\n",
      "Epoch 5/20\n",
      "102/102 [==============================] - 11s 111ms/step - loss: 0.1263\n",
      "Validation: normalized_discounted_cumulative_gain@3(0.0): 0.5321653679262148 - normalized_discounted_cumulative_gain@5(0.0): 0.5948151954130145 - mean_average_precision(0.0): 0.555870169415306\n",
      "Epoch 6/20\n",
      "102/102 [==============================] - 12s 113ms/step - loss: 0.0789\n",
      "Validation: normalized_discounted_cumulative_gain@3(0.0): 0.5329359772020901 - normalized_discounted_cumulative_gain@5(0.0): 0.5894081396387882 - mean_average_precision(0.0): 0.5537633609254979\n",
      "Epoch 7/20\n",
      "102/102 [==============================] - 11s 107ms/step - loss: 0.0608\n",
      "Validation: normalized_discounted_cumulative_gain@3(0.0): 0.5388730337244315 - normalized_discounted_cumulative_gain@5(0.0): 0.6032496243589255 - mean_average_precision(0.0): 0.5630774811551352\n",
      "Epoch 8/20\n",
      "102/102 [==============================] - 12s 117ms/step - loss: 0.0467\n",
      "Validation: normalized_discounted_cumulative_gain@3(0.0): 0.5391913263962334 - normalized_discounted_cumulative_gain@5(0.0): 0.6083568019057097 - mean_average_precision(0.0): 0.5685125494857732\n",
      "Epoch 9/20\n",
      "102/102 [==============================] - 11s 111ms/step - loss: 0.0385\n",
      "Validation: normalized_discounted_cumulative_gain@3(0.0): 0.5469994369415031 - normalized_discounted_cumulative_gain@5(0.0): 0.5985008028414439 - mean_average_precision(0.0): 0.564188077066874\n",
      "Epoch 10/20\n",
      "102/102 [==============================] - 11s 113ms/step - loss: 0.0245\n",
      "Validation: normalized_discounted_cumulative_gain@3(0.0): 0.5357233060014882 - normalized_discounted_cumulative_gain@5(0.0): 0.5950994366667156 - mean_average_precision(0.0): 0.5562031711738524\n",
      "Epoch 11/20\n",
      "102/102 [==============================] - 11s 111ms/step - loss: 0.0311\n",
      "Validation: normalized_discounted_cumulative_gain@3(0.0): 0.5652752108523897 - normalized_discounted_cumulative_gain@5(0.0): 0.629602026011923 - mean_average_precision(0.0): 0.5855811704704109\n",
      "Epoch 12/20\n",
      "102/102 [==============================] - 11s 111ms/step - loss: 0.0200\n",
      "Validation: normalized_discounted_cumulative_gain@3(0.0): 0.5453934621147658 - normalized_discounted_cumulative_gain@5(0.0): 0.6060301034749032 - mean_average_precision(0.0): 0.5631064888363603\n",
      "Epoch 13/20\n",
      "102/102 [==============================] - 11s 109ms/step - loss: 0.0177\n",
      "Validation: normalized_discounted_cumulative_gain@3(0.0): 0.5283438933686964 - normalized_discounted_cumulative_gain@5(0.0): 0.5981086524086773 - mean_average_precision(0.0): 0.553002778398348\n",
      "Epoch 14/20\n",
      "102/102 [==============================] - 11s 110ms/step - loss: 0.0118\n",
      "Validation: normalized_discounted_cumulative_gain@3(0.0): 0.5483065019474543 - normalized_discounted_cumulative_gain@5(0.0): 0.6099689128679239 - mean_average_precision(0.0): 0.5686321416752355\n",
      "Epoch 15/20\n",
      "102/102 [==============================] - 11s 110ms/step - loss: 0.0102\n",
      "Validation: normalized_discounted_cumulative_gain@3(0.0): 0.5431984005596587 - normalized_discounted_cumulative_gain@5(0.0): 0.6057223678933491 - mean_average_precision(0.0): 0.5645865701822514\n",
      "Epoch 16/20\n",
      "102/102 [==============================] - 11s 111ms/step - loss: 0.0108\n",
      "Validation: normalized_discounted_cumulative_gain@3(0.0): 0.5328281700000181 - normalized_discounted_cumulative_gain@5(0.0): 0.5914953263257314 - mean_average_precision(0.0): 0.5495986596619508\n",
      "Epoch 17/20\n",
      "102/102 [==============================] - 11s 110ms/step - loss: 0.0062\n",
      "Validation: normalized_discounted_cumulative_gain@3(0.0): 0.5480394600230962 - normalized_discounted_cumulative_gain@5(0.0): 0.6077625791625473 - mean_average_precision(0.0): 0.5648074126505173\n",
      "Epoch 18/20\n",
      "102/102 [==============================] - 11s 112ms/step - loss: 0.0072\n",
      "Validation: normalized_discounted_cumulative_gain@3(0.0): 0.5535421037725828 - normalized_discounted_cumulative_gain@5(0.0): 0.6203560738543071 - mean_average_precision(0.0): 0.5761689979858259\n",
      "Epoch 19/20\n",
      "102/102 [==============================] - 11s 110ms/step - loss: 0.0067\n",
      "Validation: normalized_discounted_cumulative_gain@3(0.0): 0.5391868293236107 - normalized_discounted_cumulative_gain@5(0.0): 0.6029452258249782 - mean_average_precision(0.0): 0.5527271338049446\n",
      "Epoch 20/20\n",
      "102/102 [==============================] - 11s 111ms/step - loss: 0.0064\n",
      "Validation: normalized_discounted_cumulative_gain@3(0.0): 0.5446226903757947 - normalized_discounted_cumulative_gain@5(0.0): 0.6095009668628633 - mean_average_precision(0.0): 0.5623808717746093\n"
     ]
    }
   ],
   "source": [
    "history = model.fit_generator(train_generator, epochs=20, callbacks=[evaluate], workers=30, use_multiprocessing=True)"
   ]
  },
  {
   "cell_type": "code",
   "execution_count": 23,
   "metadata": {},
   "outputs": [
    {
     "data": {
      "text/plain": [
       "{normalized_discounted_cumulative_gain@3(0.0): 0.5446226903757947,\n",
       " normalized_discounted_cumulative_gain@5(0.0): 0.6095009668628633,\n",
       " mean_average_precision(0.0): 0.5623808717746093}"
      ]
     },
     "execution_count": 23,
     "metadata": {},
     "output_type": "execute_result"
    }
   ],
   "source": [
    "model.evaluate(test_x, test_y, batch_size=21)"
   ]
  },
  {
   "cell_type": "raw",
   "metadata": {},
   "source": [
    "Use this function to update the README.md with a better set of parameters.\n",
    "Make sure you delete the correct section of the README.md before calling this function."
   ]
  },
  {
   "cell_type": "code",
   "execution_count": 24,
   "metadata": {},
   "outputs": [],
   "source": [
    "append_params_to_readme(model)"
   ]
  }
 ],
 "metadata": {
  "kernelspec": {
   "display_name": "Python 3",
   "language": "python",
   "name": "python3"
  },
  "language_info": {
   "codemirror_mode": {
    "name": "ipython",
    "version": 3
   },
   "file_extension": ".py",
   "mimetype": "text/x-python",
   "name": "python",
   "nbconvert_exporter": "python",
   "pygments_lexer": "ipython3",
   "version": "3.6.2"
  }
 },
 "nbformat": 4,
 "nbformat_minor": 2
}
