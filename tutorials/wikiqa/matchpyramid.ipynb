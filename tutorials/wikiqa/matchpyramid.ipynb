{
 "cells": [
  {
   "cell_type": "code",
   "execution_count": 1,
   "metadata": {},
   "outputs": [
    {
     "name": "stderr",
     "output_type": "stream",
     "text": [
      "Using TensorFlow backend.\n"
     ]
    },
    {
     "name": "stdout",
     "output_type": "stream",
     "text": [
      "matchzoo version 2.1.0\n",
      "\n",
      "data loading ...\n",
      "data loaded as `train_pack_raw` `dev_pack_raw` `test_pack_raw`\n",
      "`ranking_task` initialized with metrics [normalized_discounted_cumulative_gain@3(0.0), normalized_discounted_cumulative_gain@5(0.0), mean_average_precision(0.0)]\n",
      "loading embedding ...\n",
      "embedding loaded as `glove_embedding`\n"
     ]
    }
   ],
   "source": [
    "%run init.ipynb"
   ]
  },
  {
   "cell_type": "code",
   "execution_count": 2,
   "metadata": {},
   "outputs": [],
   "source": [
    "preprocessor = mz.preprocessors.BasicPreprocessor(fixed_length_left=10, \n",
    "                                                  fixed_length_right=40, \n",
    "                                                  remove_stop_words=False)"
   ]
  },
  {
   "cell_type": "code",
   "execution_count": 3,
   "metadata": {
    "scrolled": false
   },
   "outputs": [
    {
     "name": "stderr",
     "output_type": "stream",
     "text": [
      "Processing text_left with chain_transform of Tokenize => Lowercase => PuncRemoval: 100%|██████████| 2118/2118 [00:00<00:00, 3983.77it/s]\n",
      "Processing text_right with chain_transform of Tokenize => Lowercase => PuncRemoval: 100%|██████████| 18841/18841 [00:07<00:00, 2363.74it/s]\n",
      "Processing text_right with append: 100%|██████████| 18841/18841 [00:00<00:00, 423308.27it/s]\n",
      "Building FrequencyFilter from a datapack.: 100%|██████████| 18841/18841 [00:00<00:00, 64533.50it/s]\n",
      "Processing text_right with transform: 100%|██████████| 18841/18841 [00:00<00:00, 70463.94it/s]\n",
      "Processing text_left with extend: 100%|██████████| 2118/2118 [00:00<00:00, 345139.12it/s]\n",
      "Processing text_right with extend: 100%|██████████| 18841/18841 [00:00<00:00, 381692.64it/s]\n",
      "Building Vocabulary from a datapack.: 100%|██████████| 404415/404415 [00:00<00:00, 1801753.76it/s]\n",
      "Processing text_left with chain_transform of Tokenize => Lowercase => PuncRemoval: 100%|██████████| 2118/2118 [00:00<00:00, 3794.57it/s]\n",
      "Processing text_right with chain_transform of Tokenize => Lowercase => PuncRemoval: 100%|██████████| 18841/18841 [00:08<00:00, 2311.66it/s]\n",
      "Processing text_right with transform: 100%|██████████| 18841/18841 [00:00<00:00, 67428.29it/s]\n",
      "Processing text_left with transform: 100%|██████████| 2118/2118 [00:00<00:00, 124434.95it/s]\n",
      "Processing text_right with transform: 100%|██████████| 18841/18841 [00:00<00:00, 61603.48it/s]\n",
      "Processing length_left with len: 100%|██████████| 2118/2118 [00:00<00:00, 335645.74it/s]\n",
      "Processing length_right with len: 100%|██████████| 18841/18841 [00:00<00:00, 389480.83it/s]\n",
      "Processing text_left with transform: 100%|██████████| 2118/2118 [00:00<00:00, 43384.48it/s]\n",
      "Processing text_right with transform: 100%|██████████| 18841/18841 [00:00<00:00, 35021.91it/s]\n",
      "Processing text_left with chain_transform of Tokenize => Lowercase => PuncRemoval: 100%|██████████| 122/122 [00:00<00:00, 4319.10it/s]\n",
      "Processing text_right with chain_transform of Tokenize => Lowercase => PuncRemoval: 100%|██████████| 1115/1115 [00:00<00:00, 2294.60it/s]\n",
      "Processing text_right with transform: 100%|██████████| 1115/1115 [00:00<00:00, 52453.50it/s]\n",
      "Processing text_left with transform: 100%|██████████| 122/122 [00:00<00:00, 48092.58it/s]\n",
      "Processing text_right with transform: 100%|██████████| 1115/1115 [00:00<00:00, 67737.27it/s]\n",
      "Processing length_left with len: 100%|██████████| 122/122 [00:00<00:00, 88331.62it/s]\n",
      "Processing length_right with len: 100%|██████████| 1115/1115 [00:00<00:00, 294425.14it/s]\n",
      "Processing text_left with transform: 100%|██████████| 122/122 [00:00<00:00, 30931.82it/s]\n",
      "Processing text_right with transform: 100%|██████████| 1115/1115 [00:00<00:00, 36804.88it/s]\n",
      "Processing text_left with chain_transform of Tokenize => Lowercase => PuncRemoval: 100%|██████████| 237/237 [00:00<00:00, 4012.17it/s]\n",
      "Processing text_right with chain_transform of Tokenize => Lowercase => PuncRemoval: 100%|██████████| 2300/2300 [00:01<00:00, 2291.84it/s]\n",
      "Processing text_right with transform: 100%|██████████| 2300/2300 [00:00<00:00, 59591.06it/s]\n",
      "Processing text_left with transform: 100%|██████████| 237/237 [00:00<00:00, 88556.80it/s]\n",
      "Processing text_right with transform: 100%|██████████| 2300/2300 [00:00<00:00, 77588.59it/s]\n",
      "Processing length_left with len: 100%|██████████| 237/237 [00:00<00:00, 134167.91it/s]\n",
      "Processing length_right with len: 100%|██████████| 2300/2300 [00:00<00:00, 359556.44it/s]\n",
      "Processing text_left with transform: 100%|██████████| 237/237 [00:00<00:00, 34699.97it/s]\n",
      "Processing text_right with transform: 100%|██████████| 2300/2300 [00:00<00:00, 33516.66it/s]\n"
     ]
    }
   ],
   "source": [
    "train_pack_processed = preprocessor.fit_transform(train_pack_raw, drop_invalid=True)\n",
    "dev_pack_processed = preprocessor.transform(dev_pack_raw, drop_invalid=False)\n",
    "test_pack_processed = preprocessor.transform(test_pack_raw, drop_invalid=False)"
   ]
  },
  {
   "cell_type": "code",
   "execution_count": 4,
   "metadata": {
    "scrolled": false
   },
   "outputs": [
    {
     "name": "stdout",
     "output_type": "stream",
     "text": [
      "model_class                   <class 'matchzoo.models.match_pyramid.MatchPyramid'>\n",
      "input_shapes                  [(10,), (40,)]\n",
      "task                          Ranking Task\n",
      "optimizer                     adam\n",
      "with_embedding                True\n",
      "embedding_input_dim           16675\n",
      "embedding_output_dim          300\n",
      "embedding_trainable           True\n",
      "num_blocks                    2\n",
      "kernel_count                  [16, 32]\n",
      "kernel_size                   [[3, 3], [3, 3]]\n",
      "activation                    relu\n",
      "dpool_size                    [3, 10]\n",
      "padding                       same\n",
      "dropout_rate                  0.1\n"
     ]
    }
   ],
   "source": [
    "model = mz.models.MatchPyramid()\n",
    "\n",
    "# load `input_shapes` and `embedding_input_dim` (vocab_size)\n",
    "model.params.update(preprocessor.context)\n",
    "\n",
    "model.params['task'] = ranking_task\n",
    "model.params['embedding_output_dim'] = glove_embedding.output_dim\n",
    "model.params['embedding_trainable'] = True\n",
    "model.params['num_blocks'] = 2\n",
    "model.params['kernel_count'] = [16, 32]\n",
    "model.params['kernel_size'] = [[3, 3], [3, 3]]\n",
    "model.params['dpool_size'] = [3, 10]\n",
    "model.params['optimizer'] = 'adam'\n",
    "model.params['dropout_rate'] = 0.1\n",
    "\n",
    "model.build()\n",
    "model.compile()\n",
    "\n",
    "print(model.params)"
   ]
  },
  {
   "cell_type": "code",
   "execution_count": 5,
   "metadata": {},
   "outputs": [
    {
     "name": "stdout",
     "output_type": "stream",
     "text": [
      "__________________________________________________________________________________________________\n",
      "Layer (type)                    Output Shape         Param #     Connected to                     \n",
      "==================================================================================================\n",
      "text_left (InputLayer)          (None, 10)           0                                            \n",
      "__________________________________________________________________________________________________\n",
      "text_right (InputLayer)         (None, 40)           0                                            \n",
      "__________________________________________________________________________________________________\n",
      "embedding (Embedding)           multiple             5002500     text_left[0][0]                  \n",
      "                                                                 text_right[0][0]                 \n",
      "__________________________________________________________________________________________________\n",
      "matching_layer_1 (MatchingLayer (None, 10, 40, 1)    0           embedding[0][0]                  \n",
      "                                                                 embedding[1][0]                  \n",
      "__________________________________________________________________________________________________\n",
      "conv2d_1 (Conv2D)               (None, 10, 40, 16)   160         matching_layer_1[0][0]           \n",
      "__________________________________________________________________________________________________\n",
      "conv2d_2 (Conv2D)               (None, 10, 40, 32)   4640        conv2d_1[0][0]                   \n",
      "__________________________________________________________________________________________________\n",
      "dpool_index (InputLayer)        (None, 10, 40, 2)    0                                            \n",
      "__________________________________________________________________________________________________\n",
      "dynamic_pooling_layer_1 (Dynami (None, 3, 10, 32)    0           conv2d_2[0][0]                   \n",
      "                                                                 dpool_index[0][0]                \n",
      "__________________________________________________________________________________________________\n",
      "flatten_1 (Flatten)             (None, 960)          0           dynamic_pooling_layer_1[0][0]    \n",
      "__________________________________________________________________________________________________\n",
      "dropout_1 (Dropout)             (None, 960)          0           flatten_1[0][0]                  \n",
      "__________________________________________________________________________________________________\n",
      "dense_1 (Dense)                 (None, 1)            961         dropout_1[0][0]                  \n",
      "==================================================================================================\n",
      "Total params: 5,008,261\n",
      "Trainable params: 5,008,261\n",
      "Non-trainable params: 0\n",
      "__________________________________________________________________________________________________\n"
     ]
    }
   ],
   "source": [
    "model.backend.summary()"
   ]
  },
  {
   "cell_type": "code",
   "execution_count": 6,
   "metadata": {},
   "outputs": [],
   "source": [
    "embedding_matrix = glove_embedding.build_matrix(preprocessor.context['vocab_unit'].state['term_index'])"
   ]
  },
  {
   "cell_type": "code",
   "execution_count": 7,
   "metadata": {},
   "outputs": [],
   "source": [
    "model.load_embedding_matrix(embedding_matrix)"
   ]
  },
  {
   "cell_type": "code",
   "execution_count": 8,
   "metadata": {},
   "outputs": [
    {
     "name": "stdout",
     "output_type": "stream",
     "text": [
      "num batches: 102\n"
     ]
    }
   ],
   "source": [
    "dpool_callback = mz.data_generator.callbacks.DynamicPooling(\n",
    "    fixed_length_left=10, \n",
    "    fixed_length_right=40\n",
    ")\n",
    "train_generator = mz.DataGenerator(\n",
    "    train_pack_processed,\n",
    "    mode='pair',\n",
    "    num_dup=2,\n",
    "    num_neg=1,\n",
    "    batch_size=20,\n",
    "    callbacks=[dpool_callback]\n",
    ")\n",
    "print('num batches:', len(train_generator))"
   ]
  },
  {
   "cell_type": "code",
   "execution_count": 9,
   "metadata": {},
   "outputs": [
    {
     "data": {
      "text/plain": [
       "118"
      ]
     },
     "execution_count": 9,
     "metadata": {},
     "output_type": "execute_result"
    }
   ],
   "source": [
    "test_generator = mz.DataGenerator(\n",
    "    test_pack_processed,\n",
    "    batch_size=20,\n",
    "    callbacks=[dpool_callback]\n",
    ")\n",
    "len(test_generator)"
   ]
  },
  {
   "cell_type": "code",
   "execution_count": 10,
   "metadata": {},
   "outputs": [],
   "source": [
    "test_x, test_y = test_generator[:]\n",
    "evaluate = mz.callbacks.EvaluateAllMetrics(model, x=test_x, y=test_y, batch_size=len(test_y))"
   ]
  },
  {
   "cell_type": "code",
   "execution_count": 11,
   "metadata": {
    "scrolled": false
   },
   "outputs": [
    {
     "name": "stdout",
     "output_type": "stream",
     "text": [
      "Epoch 1/20\n",
      "102/102 [==============================] - 15s 145ms/step - loss: 0.8168\n",
      "Validation: normalized_discounted_cumulative_gain@3(0.0): 0.5330373246033719 - normalized_discounted_cumulative_gain@5(0.0): 0.6061184856408177 - mean_average_precision(0.0): 0.5553880767224649\n",
      "Epoch 2/20\n",
      "102/102 [==============================] - 20s 195ms/step - loss: 0.4771\n",
      "Validation: normalized_discounted_cumulative_gain@3(0.0): 0.5593778128936424 - normalized_discounted_cumulative_gain@5(0.0): 0.62217182058719 - mean_average_precision(0.0): 0.5727834295426734\n",
      "Epoch 3/20\n",
      "102/102 [==============================] - 19s 183ms/step - loss: 0.3112\n",
      "Validation: normalized_discounted_cumulative_gain@3(0.0): 0.533049612343161 - normalized_discounted_cumulative_gain@5(0.0): 0.6007850248761234 - mean_average_precision(0.0): 0.5582658402597886\n",
      "Epoch 4/20\n",
      "102/102 [==============================] - 19s 185ms/step - loss: 0.2062\n",
      "Validation: normalized_discounted_cumulative_gain@3(0.0): 0.5419683795684834 - normalized_discounted_cumulative_gain@5(0.0): 0.6134332807459147 - mean_average_precision(0.0): 0.5671703560152928\n",
      "Epoch 5/20\n",
      "102/102 [==============================] - 19s 188ms/step - loss: 0.1428\n",
      "Validation: normalized_discounted_cumulative_gain@3(0.0): 0.5516903832161969 - normalized_discounted_cumulative_gain@5(0.0): 0.6072490423015143 - mean_average_precision(0.0): 0.566180309376512\n",
      "Epoch 6/20\n",
      "102/102 [==============================] - 19s 187ms/step - loss: 0.0922\n",
      "Validation: normalized_discounted_cumulative_gain@3(0.0): 0.567647396651327 - normalized_discounted_cumulative_gain@5(0.0): 0.632184684082359 - mean_average_precision(0.0): 0.5937876447953063\n",
      "Epoch 7/20\n",
      "102/102 [==============================] - 19s 188ms/step - loss: 0.0606\n",
      "Validation: normalized_discounted_cumulative_gain@3(0.0): 0.52540898572501 - normalized_discounted_cumulative_gain@5(0.0): 0.5970581750667199 - mean_average_precision(0.0): 0.548698078676523\n",
      "Epoch 8/20\n",
      "102/102 [==============================] - 19s 184ms/step - loss: 0.0517\n",
      "Validation: normalized_discounted_cumulative_gain@3(0.0): 0.5595120486734835 - normalized_discounted_cumulative_gain@5(0.0): 0.6225241243460398 - mean_average_precision(0.0): 0.5768866759900514\n",
      "Epoch 9/20\n",
      "102/102 [==============================] - 19s 185ms/step - loss: 0.0386\n",
      "Validation: normalized_discounted_cumulative_gain@3(0.0): 0.5457238800632609 - normalized_discounted_cumulative_gain@5(0.0): 0.6234119212065296 - mean_average_precision(0.0): 0.5744627050165025\n",
      "Epoch 10/20\n",
      "102/102 [==============================] - 19s 182ms/step - loss: 0.0269\n",
      "Validation: normalized_discounted_cumulative_gain@3(0.0): 0.5624423461659249 - normalized_discounted_cumulative_gain@5(0.0): 0.625469830127537 - mean_average_precision(0.0): 0.5860446297173774\n",
      "Epoch 11/20\n",
      "102/102 [==============================] - 19s 186ms/step - loss: 0.0197\n",
      "Validation: normalized_discounted_cumulative_gain@3(0.0): 0.5380114514433699 - normalized_discounted_cumulative_gain@5(0.0): 0.5882299908025513 - mean_average_precision(0.0): 0.5629304373522919\n",
      "Epoch 12/20\n",
      "102/102 [==============================] - 19s 183ms/step - loss: 0.0159\n",
      "Validation: normalized_discounted_cumulative_gain@3(0.0): 0.5588767305021074 - normalized_discounted_cumulative_gain@5(0.0): 0.6179571425539157 - mean_average_precision(0.0): 0.5795811208340355\n",
      "Epoch 13/20\n",
      "102/102 [==============================] - 19s 189ms/step - loss: 0.0249\n",
      "Validation: normalized_discounted_cumulative_gain@3(0.0): 0.5710132753199035 - normalized_discounted_cumulative_gain@5(0.0): 0.6184861670788877 - mean_average_precision(0.0): 0.5881855135019692\n",
      "Epoch 14/20\n",
      "102/102 [==============================] - 19s 185ms/step - loss: 0.0173\n",
      "Validation: normalized_discounted_cumulative_gain@3(0.0): 0.5735036570266828 - normalized_discounted_cumulative_gain@5(0.0): 0.6289650431375468 - mean_average_precision(0.0): 0.5861250311824344\n",
      "Epoch 15/20\n",
      "102/102 [==============================] - 19s 186ms/step - loss: 0.0131\n",
      "Validation: normalized_discounted_cumulative_gain@3(0.0): 0.5622376886351937 - normalized_discounted_cumulative_gain@5(0.0): 0.6285167504247939 - mean_average_precision(0.0): 0.5885861869852934\n",
      "Epoch 16/20\n",
      "102/102 [==============================] - 19s 189ms/step - loss: 0.0098\n",
      "Validation: normalized_discounted_cumulative_gain@3(0.0): 0.564412149551531 - normalized_discounted_cumulative_gain@5(0.0): 0.6267331228159084 - mean_average_precision(0.0): 0.5866186370669494\n",
      "Epoch 17/20\n",
      "102/102 [==============================] - 19s 188ms/step - loss: 0.0066\n",
      "Validation: normalized_discounted_cumulative_gain@3(0.0): 0.5621959542648103 - normalized_discounted_cumulative_gain@5(0.0): 0.6139126599669974 - mean_average_precision(0.0): 0.5812792946231765\n",
      "Epoch 18/20\n",
      "102/102 [==============================] - 19s 183ms/step - loss: 0.0106\n",
      "Validation: normalized_discounted_cumulative_gain@3(0.0): 0.5630253931077259 - normalized_discounted_cumulative_gain@5(0.0): 0.6261516738088029 - mean_average_precision(0.0): 0.5831117370674332\n",
      "Epoch 19/20\n",
      "102/102 [==============================] - 19s 188ms/step - loss: 0.0090\n",
      "Validation: normalized_discounted_cumulative_gain@3(0.0): 0.5556471982626882 - normalized_discounted_cumulative_gain@5(0.0): 0.6170065823466886 - mean_average_precision(0.0): 0.5730347755268642\n",
      "Epoch 20/20\n",
      "102/102 [==============================] - 19s 186ms/step - loss: 0.0109\n",
      "Validation: normalized_discounted_cumulative_gain@3(0.0): 0.5626322803813586 - normalized_discounted_cumulative_gain@5(0.0): 0.6205039435941493 - mean_average_precision(0.0): 0.5815510027063435\n"
     ]
    }
   ],
   "source": [
    "history = model.fit_generator(train_generator, epochs=20, callbacks=[evaluate], workers=30, use_multiprocessing=True)"
   ]
  },
  {
   "cell_type": "code",
   "execution_count": 12,
   "metadata": {},
   "outputs": [
    {
     "data": {
      "text/plain": [
       "{normalized_discounted_cumulative_gain@3(0.0): 0.5626322803813586,\n",
       " normalized_discounted_cumulative_gain@5(0.0): 0.6205039435941493,\n",
       " mean_average_precision(0.0): 0.5815510027063435}"
      ]
     },
     "execution_count": 12,
     "metadata": {},
     "output_type": "execute_result"
    }
   ],
   "source": [
    "model.evaluate(test_x, test_y, batch_size=5)"
   ]
  }
 ],
 "metadata": {
  "kernelspec": {
   "display_name": "Python 3",
   "language": "python",
   "name": "python3"
  },
  "language_info": {
   "codemirror_mode": {
    "name": "ipython",
    "version": 3
   },
   "file_extension": ".py",
   "mimetype": "text/x-python",
   "name": "python",
   "nbconvert_exporter": "python",
   "pygments_lexer": "ipython3",
   "version": "3.6.5"
  }
 },
 "nbformat": 4,
 "nbformat_minor": 2
}
