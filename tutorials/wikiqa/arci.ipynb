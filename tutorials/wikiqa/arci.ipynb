{
 "cells": [
  {
   "cell_type": "code",
   "execution_count": 1,
   "metadata": {},
   "outputs": [
    {
     "name": "stderr",
     "output_type": "stream",
     "text": [
      "Using TensorFlow backend.\n"
     ]
    },
    {
     "name": "stdout",
     "output_type": "stream",
     "text": [
      "matchzoo version 2.1.0\n",
      "\n",
      "data loading ...\n",
      "data loaded as `train_pack_raw` `dev_pack_raw` `test_pack_raw`\n",
      "`ranking_task` initialized with metrics [normalized_discounted_cumulative_gain@3(0.0), normalized_discounted_cumulative_gain@5(0.0), mean_average_precision(0.0)]\n",
      "loading embedding ...\n",
      "embedding loaded as `glove_embedding`\n"
     ]
    }
   ],
   "source": [
    "%run init.ipynb"
   ]
  },
  {
   "cell_type": "code",
   "execution_count": 2,
   "metadata": {},
   "outputs": [
    {
     "name": "stderr",
     "output_type": "stream",
     "text": [
      "Processing text_left with chain_transform of Tokenize => Lowercase => PuncRemoval: 100%|██████████| 2118/2118 [00:00<00:00, 3787.79it/s]\n",
      "Processing text_right with chain_transform of Tokenize => Lowercase => PuncRemoval: 100%|██████████| 18841/18841 [00:07<00:00, 2398.42it/s]\n",
      "Processing text_right with append: 100%|██████████| 18841/18841 [00:00<00:00, 445582.13it/s]\n",
      "Building FrequencyFilter from a datapack.: 100%|██████████| 18841/18841 [00:00<00:00, 65921.69it/s]\n",
      "Processing text_right with transform: 100%|██████████| 18841/18841 [00:00<00:00, 71480.35it/s]\n",
      "Processing text_left with extend: 100%|██████████| 2118/2118 [00:00<00:00, 376852.16it/s]\n",
      "Processing text_right with extend: 100%|██████████| 18841/18841 [00:00<00:00, 379513.14it/s]\n",
      "Building Vocabulary from a datapack.: 100%|██████████| 404415/404415 [00:00<00:00, 1865871.42it/s]\n",
      "Processing text_left with chain_transform of Tokenize => Lowercase => PuncRemoval: 100%|██████████| 2118/2118 [00:00<00:00, 3788.25it/s]\n",
      "Processing text_right with chain_transform of Tokenize => Lowercase => PuncRemoval: 100%|██████████| 18841/18841 [00:08<00:00, 2352.76it/s]\n",
      "Processing text_right with transform: 100%|██████████| 18841/18841 [00:00<00:00, 67353.07it/s]\n",
      "Processing text_left with transform: 100%|██████████| 2118/2118 [00:00<00:00, 114132.92it/s]\n",
      "Processing text_right with transform: 100%|██████████| 18841/18841 [00:00<00:00, 71033.54it/s]\n",
      "Processing length_left with len: 100%|██████████| 2118/2118 [00:00<00:00, 343976.45it/s]\n",
      "Processing length_right with len: 100%|██████████| 18841/18841 [00:00<00:00, 407868.25it/s]\n",
      "Processing text_left with transform: 100%|██████████| 2118/2118 [00:00<00:00, 41255.64it/s]\n",
      "Processing text_right with transform: 100%|██████████| 18841/18841 [00:00<00:00, 30888.19it/s]\n",
      "Processing text_left with chain_transform of Tokenize => Lowercase => PuncRemoval: 100%|██████████| 122/122 [00:00<00:00, 3985.89it/s]\n",
      "Processing text_right with chain_transform of Tokenize => Lowercase => PuncRemoval: 100%|██████████| 1115/1115 [00:00<00:00, 2485.97it/s]\n",
      "Processing text_right with transform: 100%|██████████| 1115/1115 [00:00<00:00, 62701.43it/s]\n",
      "Processing text_left with transform: 100%|██████████| 122/122 [00:00<00:00, 38378.84it/s]\n",
      "Processing text_right with transform: 100%|██████████| 1115/1115 [00:00<00:00, 49376.53it/s]\n",
      "Processing length_left with len: 100%|██████████| 122/122 [00:00<00:00, 97653.64it/s]\n",
      "Processing length_right with len: 100%|██████████| 1115/1115 [00:00<00:00, 241599.88it/s]\n",
      "Processing text_left with transform: 100%|██████████| 122/122 [00:00<00:00, 23332.50it/s]\n",
      "Processing text_right with transform: 100%|██████████| 1115/1115 [00:00<00:00, 32361.22it/s]\n",
      "Processing text_left with chain_transform of Tokenize => Lowercase => PuncRemoval: 100%|██████████| 237/237 [00:00<00:00, 4149.69it/s]\n",
      "Processing text_right with chain_transform of Tokenize => Lowercase => PuncRemoval: 100%|██████████| 2300/2300 [00:00<00:00, 2385.28it/s]\n",
      "Processing text_right with transform: 100%|██████████| 2300/2300 [00:00<00:00, 50007.25it/s]\n",
      "Processing text_left with transform: 100%|██████████| 237/237 [00:00<00:00, 88422.88it/s]\n",
      "Processing text_right with transform: 100%|██████████| 2300/2300 [00:00<00:00, 76826.10it/s]\n",
      "Processing length_left with len: 100%|██████████| 237/237 [00:00<00:00, 206792.19it/s]\n",
      "Processing length_right with len: 100%|██████████| 2300/2300 [00:00<00:00, 408611.09it/s]\n",
      "Processing text_left with transform: 100%|██████████| 237/237 [00:00<00:00, 39913.67it/s]\n",
      "Processing text_right with transform: 100%|██████████| 2300/2300 [00:00<00:00, 35045.48it/s]\n"
     ]
    }
   ],
   "source": [
    "preprocessor = mz.preprocessors.BasicPreprocessor(fixed_length_left=10, fixed_length_right=100, remove_stop_words=False)\n",
    "train_pack_processed = preprocessor.fit_transform(train_pack_raw, drop_invalid=True)\n",
    "valid_pack_processed = preprocessor.transform(dev_pack_raw, drop_invalid=False)\n",
    "test_pack_processed = preprocessor.transform(test_pack_raw, drop_invalid=False)"
   ]
  },
  {
   "cell_type": "code",
   "execution_count": 3,
   "metadata": {},
   "outputs": [
    {
     "data": {
      "text/plain": [
       "{'filter_unit': <matchzoo.preprocessors.units.frequency_filter.FrequencyFilter at 0x7f8a11cdc8d0>,\n",
       " 'vocab_unit': <matchzoo.preprocessors.units.vocabulary.Vocabulary at 0x7f8984c760f0>,\n",
       " 'vocab_size': 16675,\n",
       " 'embedding_input_dim': 16675,\n",
       " 'input_shapes': [(10,), (100,)]}"
      ]
     },
     "execution_count": 3,
     "metadata": {},
     "output_type": "execute_result"
    }
   ],
   "source": [
    "preprocessor.context"
   ]
  },
  {
   "cell_type": "code",
   "execution_count": 4,
   "metadata": {
    "scrolled": false
   },
   "outputs": [
    {
     "name": "stdout",
     "output_type": "stream",
     "text": [
      "__________________________________________________________________________________________________\n",
      "Layer (type)                    Output Shape         Param #     Connected to                     \n",
      "==================================================================================================\n",
      "text_left (InputLayer)          (None, 10)           0                                            \n",
      "__________________________________________________________________________________________________\n",
      "text_right (InputLayer)         (None, 100)          0                                            \n",
      "__________________________________________________________________________________________________\n",
      "embedding (Embedding)           multiple             5002500     text_left[0][0]                  \n",
      "                                                                 text_right[0][0]                 \n",
      "__________________________________________________________________________________________________\n",
      "conv1d_1 (Conv1D)               (None, 10, 128)      115328      embedding[0][0]                  \n",
      "__________________________________________________________________________________________________\n",
      "conv1d_2 (Conv1D)               (None, 100, 128)     115328      embedding[1][0]                  \n",
      "__________________________________________________________________________________________________\n",
      "max_pooling1d_1 (MaxPooling1D)  (None, 2, 128)       0           conv1d_1[0][0]                   \n",
      "__________________________________________________________________________________________________\n",
      "max_pooling1d_2 (MaxPooling1D)  (None, 25, 128)      0           conv1d_2[0][0]                   \n",
      "__________________________________________________________________________________________________\n",
      "flatten_1 (Flatten)             (None, 256)          0           max_pooling1d_1[0][0]            \n",
      "__________________________________________________________________________________________________\n",
      "flatten_2 (Flatten)             (None, 3200)         0           max_pooling1d_2[0][0]            \n",
      "__________________________________________________________________________________________________\n",
      "concatenate_1 (Concatenate)     (None, 3456)         0           flatten_1[0][0]                  \n",
      "                                                                 flatten_2[0][0]                  \n",
      "__________________________________________________________________________________________________\n",
      "dropout_1 (Dropout)             (None, 3456)         0           concatenate_1[0][0]              \n",
      "__________________________________________________________________________________________________\n",
      "dense_1 (Dense)                 (None, 100)          345700      dropout_1[0][0]                  \n",
      "__________________________________________________________________________________________________\n",
      "dense_2 (Dense)                 (None, 1)            101         dense_1[0][0]                    \n",
      "__________________________________________________________________________________________________\n",
      "dense_3 (Dense)                 (None, 1)            2           dense_2[0][0]                    \n",
      "==================================================================================================\n",
      "Total params: 5,578,959\n",
      "Trainable params: 5,578,959\n",
      "Non-trainable params: 0\n",
      "__________________________________________________________________________________________________\n"
     ]
    }
   ],
   "source": [
    "model = mz.models.ArcI()\n",
    "model.params.update(preprocessor.context)\n",
    "model.params['task'] = ranking_task\n",
    "model.params['embedding_output_dim'] = glove_embedding.output_dim\n",
    "model.params['num_blocks'] = 1\n",
    "model.params['left_filters'] = [128]\n",
    "model.params['left_kernel_sizes'] = [3]\n",
    "model.params['left_pool_sizes'] = [4]\n",
    "model.params['right_filters'] = [128]\n",
    "model.params['right_kernel_sizes'] = [3]\n",
    "model.params['right_pool_sizes'] = [4]\n",
    "model.params['conv_activation_func']= 'relu'\n",
    "model.params['mlp_num_layers'] = 1\n",
    "model.params['mlp_num_units'] = 100\n",
    "model.params['mlp_num_fan_out'] = 1 \n",
    "model.params['mlp_activation_func'] = 'relu' \n",
    "model.params['dropout_rate'] = 0.5\n",
    "model.params['optimizer'] = 'adadelta'\n",
    "model.guess_and_fill_missing_params()\n",
    "model.build()\n",
    "model.compile()\n",
    "model.backend.summary()"
   ]
  },
  {
   "cell_type": "code",
   "execution_count": 5,
   "metadata": {},
   "outputs": [],
   "source": [
    "embedding_matrix = glove_embedding.build_matrix(preprocessor.context['vocab_unit'].state['term_index'])\n",
    "model.load_embedding_matrix(embedding_matrix)"
   ]
  },
  {
   "cell_type": "code",
   "execution_count": 6,
   "metadata": {},
   "outputs": [],
   "source": [
    "pred_x, pred_y = test_pack_processed.unpack()\n",
    "evaluate = mz.callbacks.EvaluateAllMetrics(model, x=pred_x, y=pred_y, batch_size=len(pred_y))"
   ]
  },
  {
   "cell_type": "code",
   "execution_count": 7,
   "metadata": {},
   "outputs": [
    {
     "name": "stdout",
     "output_type": "stream",
     "text": [
      "num batches: 102\n"
     ]
    }
   ],
   "source": [
    "train_generator = mz.DataGenerator(\n",
    "    train_pack_processed,\n",
    "    mode='pair',\n",
    "    num_dup=2,\n",
    "    num_neg=1,\n",
    "    batch_size=20\n",
    ")\n",
    "print('num batches:', len(train_generator))"
   ]
  },
  {
   "cell_type": "code",
   "execution_count": 8,
   "metadata": {
    "scrolled": false
   },
   "outputs": [
    {
     "name": "stdout",
     "output_type": "stream",
     "text": [
      "Epoch 1/30\n",
      "102/102 [==============================] - 15s 144ms/step - loss: 0.7846\n",
      "Validation: normalized_discounted_cumulative_gain@3(0.0): 0.626470037900467 - normalized_discounted_cumulative_gain@5(0.0): 0.6749913455873646 - mean_average_precision(0.0): 0.6394252643356019\n",
      "Epoch 2/30\n",
      "102/102 [==============================] - 21s 201ms/step - loss: 0.4595\n",
      "Validation: normalized_discounted_cumulative_gain@3(0.0): 0.5858631869015678 - normalized_discounted_cumulative_gain@5(0.0): 0.6427687518672441 - mean_average_precision(0.0): 0.5964658847594733\n",
      "Epoch 3/30\n",
      "102/102 [==============================] - 20s 195ms/step - loss: 0.3327\n",
      "Validation: normalized_discounted_cumulative_gain@3(0.0): 0.6055219999665765 - normalized_discounted_cumulative_gain@5(0.0): 0.6676690775397258 - mean_average_precision(0.0): 0.6185316856621771\n",
      "Epoch 4/30\n",
      "102/102 [==============================] - 21s 202ms/step - loss: 0.2431\n",
      "Validation: normalized_discounted_cumulative_gain@3(0.0): 0.5619254357499608 - normalized_discounted_cumulative_gain@5(0.0): 0.6262523582325364 - mean_average_precision(0.0): 0.5742748905351289\n",
      "Epoch 5/30\n",
      "102/102 [==============================] - 20s 194ms/step - loss: 0.1691\n",
      "Validation: normalized_discounted_cumulative_gain@3(0.0): 0.5827156685968881 - normalized_discounted_cumulative_gain@5(0.0): 0.6385026588813963 - mean_average_precision(0.0): 0.5848447739062329\n",
      "Epoch 6/30\n",
      "102/102 [==============================] - 20s 195ms/step - loss: 0.1494\n",
      "Validation: normalized_discounted_cumulative_gain@3(0.0): 0.5675883552367168 - normalized_discounted_cumulative_gain@5(0.0): 0.6267723055355366 - mean_average_precision(0.0): 0.5798524219568524\n",
      "Epoch 7/30\n",
      "102/102 [==============================] - 20s 195ms/step - loss: 0.1248\n",
      "Validation: normalized_discounted_cumulative_gain@3(0.0): 0.5810287845445431 - normalized_discounted_cumulative_gain@5(0.0): 0.6433655643583273 - mean_average_precision(0.0): 0.5951584134337299\n",
      "Epoch 8/30\n",
      "102/102 [==============================] - 20s 194ms/step - loss: 0.1046\n",
      "Validation: normalized_discounted_cumulative_gain@3(0.0): 0.5717076842903632 - normalized_discounted_cumulative_gain@5(0.0): 0.6282727407153846 - mean_average_precision(0.0): 0.5879424867578013\n",
      "Epoch 9/30\n",
      "102/102 [==============================] - 20s 199ms/step - loss: 0.0867\n",
      "Validation: normalized_discounted_cumulative_gain@3(0.0): 0.5582786353188172 - normalized_discounted_cumulative_gain@5(0.0): 0.6203595628002838 - mean_average_precision(0.0): 0.5808040207565525\n",
      "Epoch 10/30\n",
      "102/102 [==============================] - 20s 196ms/step - loss: 0.0915\n",
      "Validation: normalized_discounted_cumulative_gain@3(0.0): 0.5501207733585101 - normalized_discounted_cumulative_gain@5(0.0): 0.6092897079738676 - mean_average_precision(0.0): 0.5666714995037779\n",
      "Epoch 11/30\n",
      "102/102 [==============================] - 20s 192ms/step - loss: 0.0873\n",
      "Validation: normalized_discounted_cumulative_gain@3(0.0): 0.5642613901913214 - normalized_discounted_cumulative_gain@5(0.0): 0.6222057529553191 - mean_average_precision(0.0): 0.5829240580428514\n",
      "Epoch 12/30\n",
      "102/102 [==============================] - 21s 203ms/step - loss: 0.0699\n",
      "Validation: normalized_discounted_cumulative_gain@3(0.0): 0.5723647715037898 - normalized_discounted_cumulative_gain@5(0.0): 0.6302325344272672 - mean_average_precision(0.0): 0.5872501352743106\n",
      "Epoch 13/30\n",
      "102/102 [==============================] - 20s 195ms/step - loss: 0.0532\n",
      "Validation: normalized_discounted_cumulative_gain@3(0.0): 0.5545220301149079 - normalized_discounted_cumulative_gain@5(0.0): 0.6110012728319244 - mean_average_precision(0.0): 0.564727578118773\n",
      "Epoch 14/30\n",
      "102/102 [==============================] - 20s 198ms/step - loss: 0.0578\n",
      "Validation: normalized_discounted_cumulative_gain@3(0.0): 0.5726695586480487 - normalized_discounted_cumulative_gain@5(0.0): 0.6250643752179563 - mean_average_precision(0.0): 0.5812108979059593\n",
      "Epoch 15/30\n",
      "102/102 [==============================] - 20s 199ms/step - loss: 0.0575\n",
      "Validation: normalized_discounted_cumulative_gain@3(0.0): 0.5754713846054995 - normalized_discounted_cumulative_gain@5(0.0): 0.630891888406689 - mean_average_precision(0.0): 0.5992936296339421\n",
      "Epoch 16/30\n",
      "102/102 [==============================] - 21s 202ms/step - loss: 0.0587\n",
      "Validation: normalized_discounted_cumulative_gain@3(0.0): 0.5612514012610264 - normalized_discounted_cumulative_gain@5(0.0): 0.6159187461105193 - mean_average_precision(0.0): 0.577463816329695\n",
      "Epoch 17/30\n",
      "102/102 [==============================] - 20s 199ms/step - loss: 0.0426\n",
      "Validation: normalized_discounted_cumulative_gain@3(0.0): 0.5603326909090482 - normalized_discounted_cumulative_gain@5(0.0): 0.6167182987365034 - mean_average_precision(0.0): 0.5824622681584707\n",
      "Epoch 18/30\n",
      "102/102 [==============================] - 21s 203ms/step - loss: 0.0433\n",
      "Validation: normalized_discounted_cumulative_gain@3(0.0): 0.5823961087528584 - normalized_discounted_cumulative_gain@5(0.0): 0.6256674419670879 - mean_average_precision(0.0): 0.5966637115321326\n",
      "Epoch 19/30\n",
      "102/102 [==============================] - 20s 198ms/step - loss: 0.0300\n",
      "Validation: normalized_discounted_cumulative_gain@3(0.0): 0.5536216327473406 - normalized_discounted_cumulative_gain@5(0.0): 0.607243667382646 - mean_average_precision(0.0): 0.5681234274422788\n",
      "Epoch 20/30\n",
      "102/102 [==============================] - 21s 206ms/step - loss: 0.0280\n",
      "Validation: normalized_discounted_cumulative_gain@3(0.0): 0.5523314656324235 - normalized_discounted_cumulative_gain@5(0.0): 0.6203768311163277 - mean_average_precision(0.0): 0.5808097995410034\n",
      "Epoch 21/30\n",
      "102/102 [==============================] - 20s 200ms/step - loss: 0.0325\n",
      "Validation: normalized_discounted_cumulative_gain@3(0.0): 0.5510640591900662 - normalized_discounted_cumulative_gain@5(0.0): 0.615764524772285 - mean_average_precision(0.0): 0.5778709537776682\n",
      "Epoch 22/30\n",
      "102/102 [==============================] - 20s 198ms/step - loss: 0.0260\n",
      "Validation: normalized_discounted_cumulative_gain@3(0.0): 0.5600156160250005 - normalized_discounted_cumulative_gain@5(0.0): 0.6226730346114957 - mean_average_precision(0.0): 0.5777200529712581\n",
      "Epoch 23/30\n",
      "102/102 [==============================] - 21s 202ms/step - loss: 0.0395\n",
      "Validation: normalized_discounted_cumulative_gain@3(0.0): 0.5578015953140167 - normalized_discounted_cumulative_gain@5(0.0): 0.6190723173702563 - mean_average_precision(0.0): 0.5803929076080974\n",
      "Epoch 24/30\n",
      "102/102 [==============================] - 21s 204ms/step - loss: 0.0265\n",
      "Validation: normalized_discounted_cumulative_gain@3(0.0): 0.5575398590968428 - normalized_discounted_cumulative_gain@5(0.0): 0.6150961958943824 - mean_average_precision(0.0): 0.5795522959707622\n",
      "Epoch 25/30\n",
      "102/102 [==============================] - 21s 205ms/step - loss: 0.0340\n",
      "Validation: normalized_discounted_cumulative_gain@3(0.0): 0.5596472266993603 - normalized_discounted_cumulative_gain@5(0.0): 0.6144190369682206 - mean_average_precision(0.0): 0.5767662556803128\n",
      "Epoch 26/30\n",
      "102/102 [==============================] - 20s 196ms/step - loss: 0.0230\n",
      "Validation: normalized_discounted_cumulative_gain@3(0.0): 0.5666560899727221 - normalized_discounted_cumulative_gain@5(0.0): 0.6258433163836276 - mean_average_precision(0.0): 0.5863497585041065\n",
      "Epoch 27/30\n",
      "102/102 [==============================] - 21s 205ms/step - loss: 0.0267\n",
      "Validation: normalized_discounted_cumulative_gain@3(0.0): 0.5593662700942665 - normalized_discounted_cumulative_gain@5(0.0): 0.621289415177845 - mean_average_precision(0.0): 0.5803169789532461\n",
      "Epoch 28/30\n",
      "102/102 [==============================] - 21s 207ms/step - loss: 0.0289\n",
      "Validation: normalized_discounted_cumulative_gain@3(0.0): 0.5780514084510888 - normalized_discounted_cumulative_gain@5(0.0): 0.6364906431477187 - mean_average_precision(0.0): 0.597670367147905\n",
      "Epoch 29/30\n",
      "102/102 [==============================] - 21s 207ms/step - loss: 0.0248\n",
      "Validation: normalized_discounted_cumulative_gain@3(0.0): 0.5679180282447988 - normalized_discounted_cumulative_gain@5(0.0): 0.6154902459113905 - mean_average_precision(0.0): 0.5817056530704593\n",
      "Epoch 30/30\n",
      "102/102 [==============================] - 21s 210ms/step - loss: 0.0203\n",
      "Validation: normalized_discounted_cumulative_gain@3(0.0): 0.5667587045462317 - normalized_discounted_cumulative_gain@5(0.0): 0.6165699358108174 - mean_average_precision(0.0): 0.5790617371710368\n"
     ]
    }
   ],
   "source": [
    "history = model.fit_generator(train_generator, epochs=30, callbacks=[evaluate], workers=30, use_multiprocessing=True)"
   ]
  },
  {
   "cell_type": "code",
   "execution_count": null,
   "metadata": {},
   "outputs": [],
   "source": []
  }
 ],
 "metadata": {
  "kernelspec": {
   "display_name": "Python 3",
   "language": "python",
   "name": "python3"
  },
  "language_info": {
   "codemirror_mode": {
    "name": "ipython",
    "version": 3
   },
   "file_extension": ".py",
   "mimetype": "text/x-python",
   "name": "python",
   "nbconvert_exporter": "python",
   "pygments_lexer": "ipython3",
   "version": "3.6.5"
  }
 },
 "nbformat": 4,
 "nbformat_minor": 2
}
