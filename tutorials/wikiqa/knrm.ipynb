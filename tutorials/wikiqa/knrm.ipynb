{
 "cells": [
  {
   "cell_type": "code",
   "execution_count": 1,
   "metadata": {},
   "outputs": [
    {
     "name": "stderr",
     "output_type": "stream",
     "text": [
      "Using TensorFlow backend.\n"
     ]
    },
    {
     "name": "stdout",
     "output_type": "stream",
     "text": [
      "matchzoo version 2.1.0\n",
      "\n",
      "data loading ...\n",
      "data loaded as `train_pack_raw` `dev_pack_raw` `test_pack_raw`\n",
      "`ranking_task` initialized with metrics [normalized_discounted_cumulative_gain@3(0.0), normalized_discounted_cumulative_gain@5(0.0), mean_average_precision(0.0)]\n",
      "loading embedding ...\n",
      "embedding loaded as `glove_embedding`\n"
     ]
    }
   ],
   "source": [
    "%run init.ipynb"
   ]
  },
  {
   "cell_type": "code",
   "execution_count": 2,
   "metadata": {},
   "outputs": [
    {
     "name": "stderr",
     "output_type": "stream",
     "text": [
      "Processing text_left with chain_transform of Tokenize => Lowercase => PuncRemoval: 100%|██████████| 2118/2118 [00:00<00:00, 3778.26it/s]\n",
      "Processing text_right with chain_transform of Tokenize => Lowercase => PuncRemoval: 100%|██████████| 18841/18841 [00:07<00:00, 2458.38it/s]\n",
      "Processing text_right with append: 100%|██████████| 18841/18841 [00:00<00:00, 459276.09it/s]\n",
      "Building FrequencyFilter from a datapack.: 100%|██████████| 18841/18841 [00:00<00:00, 69228.56it/s]\n",
      "Processing text_right with transform: 100%|██████████| 18841/18841 [00:00<00:00, 77803.83it/s]\n",
      "Processing text_left with extend: 100%|██████████| 2118/2118 [00:00<00:00, 328023.63it/s]\n",
      "Processing text_right with extend: 100%|██████████| 18841/18841 [00:00<00:00, 392000.17it/s]\n",
      "Building Vocabulary from a datapack.: 100%|██████████| 404415/404415 [00:00<00:00, 1464884.40it/s]\n",
      "Processing text_left with chain_transform of Tokenize => Lowercase => PuncRemoval: 100%|██████████| 2118/2118 [00:00<00:00, 3918.30it/s]\n",
      "Processing text_right with chain_transform of Tokenize => Lowercase => PuncRemoval: 100%|██████████| 18841/18841 [00:08<00:00, 2351.80it/s]\n",
      "Processing text_right with transform: 100%|██████████| 18841/18841 [00:00<00:00, 67586.25it/s]\n",
      "Processing text_left with transform: 100%|██████████| 2118/2118 [00:00<00:00, 115938.24it/s]\n",
      "Processing text_right with transform: 100%|██████████| 18841/18841 [00:00<00:00, 76158.65it/s]\n",
      "Processing length_left with len: 100%|██████████| 2118/2118 [00:00<00:00, 330009.88it/s]\n",
      "Processing length_right with len: 100%|██████████| 18841/18841 [00:00<00:00, 421319.98it/s]\n",
      "Processing text_left with transform: 100%|██████████| 2118/2118 [00:00<00:00, 45100.73it/s]\n",
      "Processing text_right with transform: 100%|██████████| 18841/18841 [00:00<00:00, 35354.76it/s]\n",
      "Processing text_left with chain_transform of Tokenize => Lowercase => PuncRemoval: 100%|██████████| 122/122 [00:00<00:00, 3689.43it/s]\n",
      "Processing text_right with chain_transform of Tokenize => Lowercase => PuncRemoval: 100%|██████████| 1115/1115 [00:00<00:00, 2505.10it/s]\n",
      "Processing text_right with transform: 100%|██████████| 1115/1115 [00:00<00:00, 73254.63it/s]\n",
      "Processing text_left with transform: 100%|██████████| 122/122 [00:00<00:00, 70580.01it/s]\n",
      "Processing text_right with transform: 100%|██████████| 1115/1115 [00:00<00:00, 76427.07it/s]\n",
      "Processing length_left with len: 100%|██████████| 122/122 [00:00<00:00, 117958.76it/s]\n",
      "Processing length_right with len: 100%|██████████| 1115/1115 [00:00<00:00, 252477.94it/s]\n",
      "Processing text_left with transform: 100%|██████████| 122/122 [00:00<00:00, 25774.70it/s]\n",
      "Processing text_right with transform: 100%|██████████| 1115/1115 [00:00<00:00, 32310.24it/s]\n",
      "Processing text_left with chain_transform of Tokenize => Lowercase => PuncRemoval: 100%|██████████| 237/237 [00:00<00:00, 3736.86it/s]\n",
      "Processing text_right with chain_transform of Tokenize => Lowercase => PuncRemoval: 100%|██████████| 2300/2300 [00:00<00:00, 2440.87it/s]\n",
      "Processing text_right with transform: 100%|██████████| 2300/2300 [00:00<00:00, 63734.38it/s]\n",
      "Processing text_left with transform: 100%|██████████| 237/237 [00:00<00:00, 83442.46it/s]\n",
      "Processing text_right with transform: 100%|██████████| 2300/2300 [00:00<00:00, 80141.72it/s]\n",
      "Processing length_left with len: 100%|██████████| 237/237 [00:00<00:00, 117181.43it/s]\n",
      "Processing length_right with len: 100%|██████████| 2300/2300 [00:00<00:00, 295690.40it/s]\n",
      "Processing text_left with transform: 100%|██████████| 237/237 [00:00<00:00, 42019.28it/s]\n",
      "Processing text_right with transform: 100%|██████████| 2300/2300 [00:00<00:00, 39696.07it/s]\n"
     ]
    }
   ],
   "source": [
    "preprocessor = mz.preprocessors.BasicPreprocessor(fixed_length_left=10, fixed_length_right=40, remove_stop_words=False)\n",
    "train_pack_processed = preprocessor.fit_transform(train_pack_raw, drop_invalid=True)\n",
    "valid_pack_processed = preprocessor.transform(dev_pack_raw, drop_invalid=False)\n",
    "test_pack_processed = preprocessor.transform(test_pack_raw, drop_invalid=False)"
   ]
  },
  {
   "cell_type": "code",
   "execution_count": 3,
   "metadata": {
    "scrolled": false
   },
   "outputs": [
    {
     "data": {
      "text/plain": [
       "{'filter_unit': <matchzoo.preprocessors.units.frequency_filter.FrequencyFilter at 0x7ff029921908>,\n",
       " 'vocab_unit': <matchzoo.preprocessors.units.vocabulary.Vocabulary at 0x7ff02adb1cc0>,\n",
       " 'vocab_size': 16675,\n",
       " 'embedding_input_dim': 16675,\n",
       " 'input_shapes': [(10,), (40,)]}"
      ]
     },
     "execution_count": 3,
     "metadata": {},
     "output_type": "execute_result"
    }
   ],
   "source": [
    "preprocessor.context"
   ]
  },
  {
   "cell_type": "code",
   "execution_count": 4,
   "metadata": {
    "scrolled": false
   },
   "outputs": [],
   "source": [
    "model = mz.models.KNRM()\n",
    "model.params.update(preprocessor.context)\n",
    "model.params['task'] = ranking_task\n",
    "model.params['embedding_output_dim'] = glove_embedding.output_dim\n",
    "model.params['embedding_trainable'] = True\n",
    "model.params['kernel_num'] = 21\n",
    "model.params['sigma'] = 0.1\n",
    "model.params['exact_sigma'] = 0.001\n",
    "model.params['optimizer'] = 'adadelta'\n",
    "model.build()\n",
    "model.compile()\n",
    "#model.backend.summary()"
   ]
  },
  {
   "cell_type": "code",
   "execution_count": 5,
   "metadata": {},
   "outputs": [],
   "source": [
    "embedding_matrix = glove_embedding.build_matrix(preprocessor.context['vocab_unit'].state['term_index'])\n",
    "model.load_embedding_matrix(embedding_matrix)"
   ]
  },
  {
   "cell_type": "code",
   "execution_count": 6,
   "metadata": {},
   "outputs": [],
   "source": [
    "pred_x, pred_y = test_pack_processed.unpack()\n",
    "evaluate = mz.callbacks.EvaluateAllMetrics(model, x=pred_x, y=pred_y, batch_size=len(pred_x))"
   ]
  },
  {
   "cell_type": "code",
   "execution_count": 7,
   "metadata": {},
   "outputs": [
    {
     "name": "stdout",
     "output_type": "stream",
     "text": [
      "num batches: 255\n"
     ]
    }
   ],
   "source": [
    "train_generator = mz.DataGenerator(\n",
    "    train_pack_processed,\n",
    "    mode='pair',\n",
    "    num_dup=5,\n",
    "    num_neg=1,\n",
    "    batch_size=20\n",
    ")\n",
    "print('num batches:', len(train_generator))"
   ]
  },
  {
   "cell_type": "code",
   "execution_count": 8,
   "metadata": {
    "scrolled": false
   },
   "outputs": [
    {
     "name": "stdout",
     "output_type": "stream",
     "text": [
      "Epoch 1/30\n",
      "255/255 [==============================] - 27s 106ms/step - loss: 0.9509\n",
      "Validation: normalized_discounted_cumulative_gain@3(0.0): 0.5001188455279544 - normalized_discounted_cumulative_gain@5(0.0): 0.5607823759355992 - mean_average_precision(0.0): 0.5245636197131606\n",
      "Epoch 2/30\n",
      "255/255 [==============================] - 39s 153ms/step - loss: 0.5727\n",
      "Validation: normalized_discounted_cumulative_gain@3(0.0): 0.5441281808636719 - normalized_discounted_cumulative_gain@5(0.0): 0.6045318662764055 - mean_average_precision(0.0): 0.5634624018715588\n",
      "Epoch 3/30\n",
      "255/255 [==============================] - 38s 150ms/step - loss: 0.4431\n",
      "Validation: normalized_discounted_cumulative_gain@3(0.0): 0.5333453416480257 - normalized_discounted_cumulative_gain@5(0.0): 0.6003613586016829 - mean_average_precision(0.0): 0.5585197213894748\n",
      "Epoch 4/30\n",
      "255/255 [==============================] - 38s 148ms/step - loss: 0.3336\n",
      "Validation: normalized_discounted_cumulative_gain@3(0.0): 0.514923206680605 - normalized_discounted_cumulative_gain@5(0.0): 0.576966526350993 - mean_average_precision(0.0): 0.5374158560468231\n",
      "Epoch 5/30\n",
      "255/255 [==============================] - 38s 149ms/step - loss: 0.2697\n",
      "Validation: normalized_discounted_cumulative_gain@3(0.0): 0.505431441983385 - normalized_discounted_cumulative_gain@5(0.0): 0.5657378991060191 - mean_average_precision(0.0): 0.5208736811255529\n",
      "Epoch 6/30\n",
      "255/255 [==============================] - 38s 148ms/step - loss: 0.1926\n",
      "Validation: normalized_discounted_cumulative_gain@3(0.0): 0.5170328476278064 - normalized_discounted_cumulative_gain@5(0.0): 0.5736863631420795 - mean_average_precision(0.0): 0.5334679134559757\n",
      "Epoch 7/30\n",
      "255/255 [==============================] - 37s 147ms/step - loss: 0.1585\n",
      "Validation: normalized_discounted_cumulative_gain@3(0.0): 0.5020705332347722 - normalized_discounted_cumulative_gain@5(0.0): 0.5659193988639434 - mean_average_precision(0.0): 0.5226505563452991\n",
      "Epoch 8/30\n",
      "255/255 [==============================] - 39s 153ms/step - loss: 0.1202\n",
      "Validation: normalized_discounted_cumulative_gain@3(0.0): 0.4991004147156408 - normalized_discounted_cumulative_gain@5(0.0): 0.5626649528803739 - mean_average_precision(0.0): 0.5238348718609086\n",
      "Epoch 9/30\n",
      "255/255 [==============================] - 42s 165ms/step - loss: 0.0908\n",
      "Validation: normalized_discounted_cumulative_gain@3(0.0): 0.4982047899624147 - normalized_discounted_cumulative_gain@5(0.0): 0.5624571953636575 - mean_average_precision(0.0): 0.5220734766724775\n",
      "Epoch 10/30\n",
      "255/255 [==============================] - 43s 169ms/step - loss: 0.0758\n",
      "Validation: normalized_discounted_cumulative_gain@3(0.0): 0.4947366071045735 - normalized_discounted_cumulative_gain@5(0.0): 0.549815105638299 - mean_average_precision(0.0): 0.5183106723305467\n",
      "Epoch 11/30\n",
      "255/255 [==============================] - 42s 164ms/step - loss: 0.0630\n",
      "Validation: normalized_discounted_cumulative_gain@3(0.0): 0.47071244371455134 - normalized_discounted_cumulative_gain@5(0.0): 0.5452752781748884 - mean_average_precision(0.0): 0.5024248688354438\n",
      "Epoch 12/30\n",
      "255/255 [==============================] - 42s 165ms/step - loss: 0.0516\n",
      "Validation: normalized_discounted_cumulative_gain@3(0.0): 0.497885067655289 - normalized_discounted_cumulative_gain@5(0.0): 0.5643685127104868 - mean_average_precision(0.0): 0.52006425984181\n",
      "Epoch 13/30\n",
      "255/255 [==============================] - 42s 166ms/step - loss: 0.0414\n",
      "Validation: normalized_discounted_cumulative_gain@3(0.0): 0.47973896875747196 - normalized_discounted_cumulative_gain@5(0.0): 0.5521671372900278 - mean_average_precision(0.0): 0.5095048863283914\n",
      "Epoch 14/30\n",
      "255/255 [==============================] - 42s 166ms/step - loss: 0.0313\n",
      "Validation: normalized_discounted_cumulative_gain@3(0.0): 0.48723339678218486 - normalized_discounted_cumulative_gain@5(0.0): 0.5506412194146172 - mean_average_precision(0.0): 0.5045287873443124\n",
      "Epoch 15/30\n",
      "255/255 [==============================] - 42s 166ms/step - loss: 0.0246\n",
      "Validation: normalized_discounted_cumulative_gain@3(0.0): 0.49280535757342975 - normalized_discounted_cumulative_gain@5(0.0): 0.5427140943665046 - mean_average_precision(0.0): 0.5032528787343619\n",
      "Epoch 16/30\n",
      "255/255 [==============================] - 44s 171ms/step - loss: 0.0242\n",
      "Validation: normalized_discounted_cumulative_gain@3(0.0): 0.4727483342415207 - normalized_discounted_cumulative_gain@5(0.0): 0.5456039193595242 - mean_average_precision(0.0): 0.4928507556581488\n",
      "Epoch 17/30\n",
      "255/255 [==============================] - 43s 169ms/step - loss: 0.0202\n",
      "Validation: normalized_discounted_cumulative_gain@3(0.0): 0.468419949353468 - normalized_discounted_cumulative_gain@5(0.0): 0.5276338901875762 - mean_average_precision(0.0): 0.4900236267483103\n",
      "Epoch 18/30\n",
      "255/255 [==============================] - 43s 170ms/step - loss: 0.0161\n",
      "Validation: normalized_discounted_cumulative_gain@3(0.0): 0.47625617566295586 - normalized_discounted_cumulative_gain@5(0.0): 0.530128255532233 - mean_average_precision(0.0): 0.49341974815262224\n",
      "Epoch 19/30\n",
      "255/255 [==============================] - 44s 174ms/step - loss: 0.0161\n",
      "Validation: normalized_discounted_cumulative_gain@3(0.0): 0.4660317730670059 - normalized_discounted_cumulative_gain@5(0.0): 0.5306266863603628 - mean_average_precision(0.0): 0.48642026190097076\n",
      "Epoch 20/30\n",
      "255/255 [==============================] - 45s 178ms/step - loss: 0.0124\n",
      "Validation: normalized_discounted_cumulative_gain@3(0.0): 0.47514112067922787 - normalized_discounted_cumulative_gain@5(0.0): 0.5350786100823769 - mean_average_precision(0.0): 0.4934428929258602\n",
      "Epoch 21/30\n",
      "255/255 [==============================] - 45s 175ms/step - loss: 0.0121\n",
      "Validation: normalized_discounted_cumulative_gain@3(0.0): 0.47089343316921334 - normalized_discounted_cumulative_gain@5(0.0): 0.528777159934887 - mean_average_precision(0.0): 0.4899959040642213\n",
      "Epoch 22/30\n",
      "255/255 [==============================] - 45s 177ms/step - loss: 0.0098\n",
      "Validation: normalized_discounted_cumulative_gain@3(0.0): 0.475843630701099 - normalized_discounted_cumulative_gain@5(0.0): 0.5306587990608104 - mean_average_precision(0.0): 0.49077343714273525\n",
      "Epoch 23/30\n",
      "255/255 [==============================] - 44s 174ms/step - loss: 0.0090\n",
      "Validation: normalized_discounted_cumulative_gain@3(0.0): 0.49862189569104304 - normalized_discounted_cumulative_gain@5(0.0): 0.556540140407508 - mean_average_precision(0.0): 0.5146414858617018\n",
      "Epoch 24/30\n",
      "255/255 [==============================] - 39s 151ms/step - loss: 0.0066\n",
      "Validation: normalized_discounted_cumulative_gain@3(0.0): 0.4928644483725135 - normalized_discounted_cumulative_gain@5(0.0): 0.5543626035166666 - mean_average_precision(0.0): 0.5119263875678376\n",
      "Epoch 25/30\n",
      "255/255 [==============================] - 38s 148ms/step - loss: 0.0061\n",
      "Validation: normalized_discounted_cumulative_gain@3(0.0): 0.47958117798018424 - normalized_discounted_cumulative_gain@5(0.0): 0.5405073502450062 - mean_average_precision(0.0): 0.4995649718927828\n",
      "Epoch 26/30\n",
      "255/255 [==============================] - 38s 151ms/step - loss: 0.0059\n",
      "Validation: normalized_discounted_cumulative_gain@3(0.0): 0.4640869049296966 - normalized_discounted_cumulative_gain@5(0.0): 0.5332852555444322 - mean_average_precision(0.0): 0.4882339576368556\n",
      "Epoch 27/30\n",
      "255/255 [==============================] - 38s 150ms/step - loss: 0.0081\n",
      "Validation: normalized_discounted_cumulative_gain@3(0.0): 0.47844107466953717 - normalized_discounted_cumulative_gain@5(0.0): 0.5400164552302352 - mean_average_precision(0.0): 0.49629830684295867\n",
      "Epoch 28/30\n",
      "255/255 [==============================] - 39s 153ms/step - loss: 0.0029\n",
      "Validation: normalized_discounted_cumulative_gain@3(0.0): 0.4838141421749015 - normalized_discounted_cumulative_gain@5(0.0): 0.5412555000014847 - mean_average_precision(0.0): 0.5012319945091724\n",
      "Epoch 29/30\n",
      "255/255 [==============================] - 39s 151ms/step - loss: 0.0042\n",
      "Validation: normalized_discounted_cumulative_gain@3(0.0): 0.47313138318830944 - normalized_discounted_cumulative_gain@5(0.0): 0.5389910786158242 - mean_average_precision(0.0): 0.4954279835973561\n",
      "Epoch 30/30\n",
      "255/255 [==============================] - 37s 147ms/step - loss: 0.0060\n",
      "Validation: normalized_discounted_cumulative_gain@3(0.0): 0.479117318576735 - normalized_discounted_cumulative_gain@5(0.0): 0.5445636060469184 - mean_average_precision(0.0): 0.49965663861901205\n"
     ]
    }
   ],
   "source": [
    "history = model.fit_generator(train_generator, epochs=30, callbacks=[evaluate], workers=30, use_multiprocessing=True)"
   ]
  },
  {
   "cell_type": "code",
   "execution_count": null,
   "metadata": {},
   "outputs": [],
   "source": []
  }
 ],
 "metadata": {
  "kernelspec": {
   "display_name": "Python 3",
   "language": "python",
   "name": "python3"
  },
  "language_info": {
   "codemirror_mode": {
    "name": "ipython",
    "version": 3
   },
   "file_extension": ".py",
   "mimetype": "text/x-python",
   "name": "python",
   "nbconvert_exporter": "python",
   "pygments_lexer": "ipython3",
   "version": "3.6.5"
  }
 },
 "nbformat": 4,
 "nbformat_minor": 2
}
