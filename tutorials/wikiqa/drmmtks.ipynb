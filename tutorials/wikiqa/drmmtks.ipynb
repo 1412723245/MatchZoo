{
 "cells": [
  {
   "cell_type": "code",
   "execution_count": 1,
   "metadata": {
    "ExecuteTime": {
     "end_time": "2019-03-20T09:35:56.628130Z",
     "start_time": "2019-03-20T09:35:45.661384Z"
    }
   },
   "outputs": [
    {
     "name": "stderr",
     "output_type": "stream",
     "text": [
      "Using TensorFlow backend.\n"
     ]
    },
    {
     "name": "stdout",
     "output_type": "stream",
     "text": [
      "matchzoo version 2.1.0\n",
      "\n",
      "data loading ...\n",
      "data loaded as `train_pack_raw` `dev_pack_raw` `test_pack_raw`\n",
      "`ranking_task` initialized with metrics [normalized_discounted_cumulative_gain@3(0.0), normalized_discounted_cumulative_gain@5(0.0), mean_average_precision(0.0)]\n",
      "loading embedding ...\n",
      "embedding loaded as `glove_embedding`\n"
     ]
    }
   ],
   "source": [
    "%run init.ipynb"
   ]
  },
  {
   "cell_type": "code",
   "execution_count": 2,
   "metadata": {
    "ExecuteTime": {
     "end_time": "2019-03-20T09:35:56.633000Z",
     "start_time": "2019-03-20T09:35:56.630450Z"
    }
   },
   "outputs": [],
   "source": [
    "preprocessor = mz.preprocessors.BasicPreprocessor(fixed_length_left=10, fixed_length_right=100, remove_stop_words=False)"
   ]
  },
  {
   "cell_type": "code",
   "execution_count": 3,
   "metadata": {
    "ExecuteTime": {
     "end_time": "2019-03-20T09:36:06.249211Z",
     "start_time": "2019-03-20T09:35:56.634788Z"
    }
   },
   "outputs": [
    {
     "name": "stderr",
     "output_type": "stream",
     "text": [
      "Processing text_left with chain_transform of Tokenize => Lowercase => PuncRemoval: 100%|██████████| 2118/2118 [00:00<00:00, 3723.69it/s]\n",
      "Processing text_right with chain_transform of Tokenize => Lowercase => PuncRemoval: 100%|██████████| 18841/18841 [00:07<00:00, 2360.95it/s]\n",
      "Processing text_right with append: 100%|██████████| 18841/18841 [00:00<00:00, 418346.84it/s]\n",
      "Building FrequencyFilter from a datapack.: 100%|██████████| 18841/18841 [00:00<00:00, 62824.36it/s]\n",
      "Processing text_right with transform: 100%|██████████| 18841/18841 [00:00<00:00, 73925.02it/s]\n",
      "Processing text_left with extend: 100%|██████████| 2118/2118 [00:00<00:00, 360138.48it/s]\n",
      "Processing text_right with extend: 100%|██████████| 18841/18841 [00:00<00:00, 402389.55it/s]\n",
      "Building Vocabulary from a datapack.: 100%|██████████| 404415/404415 [00:00<00:00, 1800464.76it/s]\n",
      "Processing text_left with chain_transform of Tokenize => Lowercase => PuncRemoval: 100%|██████████| 2118/2118 [00:00<00:00, 3658.44it/s]\n",
      "Processing text_right with chain_transform of Tokenize => Lowercase => PuncRemoval: 100%|██████████| 18841/18841 [00:08<00:00, 2354.42it/s]\n",
      "Processing text_right with transform: 100%|██████████| 18841/18841 [00:00<00:00, 70519.21it/s]\n",
      "Processing text_left with transform: 100%|██████████| 2118/2118 [00:00<00:00, 112138.95it/s]\n",
      "Processing text_right with transform: 100%|██████████| 18841/18841 [00:00<00:00, 71483.58it/s]\n",
      "Processing length_left with len: 100%|██████████| 2118/2118 [00:00<00:00, 304543.57it/s]\n",
      "Processing length_right with len: 100%|██████████| 18841/18841 [00:00<00:00, 325724.02it/s]\n",
      "Processing text_left with transform: 100%|██████████| 2118/2118 [00:00<00:00, 40495.67it/s]\n",
      "Processing text_right with transform: 100%|██████████| 18841/18841 [00:00<00:00, 33863.15it/s]\n",
      "Processing text_left with chain_transform of Tokenize => Lowercase => PuncRemoval: 100%|██████████| 122/122 [00:00<00:00, 4006.84it/s]\n",
      "Processing text_right with chain_transform of Tokenize => Lowercase => PuncRemoval: 100%|██████████| 1115/1115 [00:00<00:00, 2446.33it/s]\n",
      "Processing text_right with transform: 100%|██████████| 1115/1115 [00:00<00:00, 67507.49it/s]\n",
      "Processing text_left with transform: 100%|██████████| 122/122 [00:00<00:00, 66907.05it/s]\n",
      "Processing text_right with transform: 100%|██████████| 1115/1115 [00:00<00:00, 75007.60it/s]\n",
      "Processing length_left with len: 100%|██████████| 122/122 [00:00<00:00, 126222.27it/s]\n",
      "Processing length_right with len: 100%|██████████| 1115/1115 [00:00<00:00, 325173.76it/s]\n",
      "Processing text_left with transform: 100%|██████████| 122/122 [00:00<00:00, 35355.84it/s]\n",
      "Processing text_right with transform: 100%|██████████| 1115/1115 [00:00<00:00, 35853.15it/s]\n",
      "Processing text_left with chain_transform of Tokenize => Lowercase => PuncRemoval: 100%|██████████| 237/237 [00:00<00:00, 4032.07it/s]\n",
      "Processing text_right with chain_transform of Tokenize => Lowercase => PuncRemoval: 100%|██████████| 2300/2300 [00:00<00:00, 2350.48it/s]\n",
      "Processing text_right with transform: 100%|██████████| 2300/2300 [00:00<00:00, 58534.88it/s]\n",
      "Processing text_left with transform: 100%|██████████| 237/237 [00:00<00:00, 74254.88it/s]\n",
      "Processing text_right with transform: 100%|██████████| 2300/2300 [00:00<00:00, 67930.65it/s]\n",
      "Processing length_left with len: 100%|██████████| 237/237 [00:00<00:00, 138427.80it/s]\n",
      "Processing length_right with len: 100%|██████████| 2300/2300 [00:00<00:00, 356777.22it/s]\n",
      "Processing text_left with transform: 100%|██████████| 237/237 [00:00<00:00, 35815.17it/s]\n",
      "Processing text_right with transform: 100%|██████████| 2300/2300 [00:00<00:00, 26437.97it/s]\n"
     ]
    }
   ],
   "source": [
    "train_pack_processed = preprocessor.fit_transform(train_pack_raw, drop_invalid=True)\n",
    "dev_pack_processed = preprocessor.transform(dev_pack_raw, drop_invalid=False)\n",
    "test_pack_processed = preprocessor.transform(test_pack_raw, drop_invalid=False)"
   ]
  },
  {
   "cell_type": "code",
   "execution_count": 6,
   "metadata": {
    "ExecuteTime": {
     "end_time": "2019-03-20T09:36:06.262937Z",
     "start_time": "2019-03-20T09:36:06.253350Z"
    }
   },
   "outputs": [
    {
     "data": {
      "text/plain": [
       "{'filter_unit': <matchzoo.preprocessors.units.frequency_filter.FrequencyFilter at 0x7ff3dc3c3be0>,\n",
       " 'vocab_unit': <matchzoo.preprocessors.units.vocabulary.Vocabulary at 0x7ff3654f4ef0>,\n",
       " 'vocab_size': 16675,\n",
       " 'embedding_input_dim': 16675,\n",
       " 'input_shapes': [(10,), (100,)]}"
      ]
     },
     "execution_count": 6,
     "metadata": {},
     "output_type": "execute_result"
    }
   ],
   "source": [
    "preprocessor.context"
   ]
  },
  {
   "cell_type": "code",
   "execution_count": 7,
   "metadata": {
    "ExecuteTime": {
     "end_time": "2019-03-20T09:36:06.413530Z",
     "start_time": "2019-03-20T09:36:06.267256Z"
    }
   },
   "outputs": [
    {
     "name": "stdout",
     "output_type": "stream",
     "text": [
      "model_class                   <class 'matchzoo.models.drmmtks.DRMMTKS'>\n",
      "input_shapes                  [(10,), (100,)]\n",
      "task                          Ranking Task\n",
      "optimizer                     adadelta\n",
      "with_embedding                True\n",
      "embedding_input_dim           16675\n",
      "embedding_output_dim          300\n",
      "embedding_trainable           True\n",
      "with_multi_layer_perceptron   True\n",
      "mlp_num_units                 5\n",
      "mlp_num_layers                1\n",
      "mlp_num_fan_out               1\n",
      "mlp_activation_func           relu\n",
      "mask_value                    -1\n",
      "top_k                         20\n"
     ]
    }
   ],
   "source": [
    "model = mz.models.DRMMTKS()\n",
    "\n",
    "# load `input_shapes` and `embedding_input_dim` (vocab_size)\n",
    "model.params.update(preprocessor.context)\n",
    "\n",
    "model.params['task'] = ranking_task\n",
    "model.params['mask_value'] = -1\n",
    "model.params['embedding_output_dim'] = glove_embedding.output_dim\n",
    "model.params['embedding_trainable'] = True\n",
    "model.params['top_k'] = 20\n",
    "model.params['mlp_num_layers'] = 1\n",
    "model.params['mlp_num_units'] = 5\n",
    "model.params['mlp_num_fan_out'] = 1\n",
    "model.params['mlp_activation_func'] = 'relu'\n",
    "model.params['optimizer'] = 'adadelta'\n",
    "\n",
    "model.build()\n",
    "model.compile()\n",
    "\n",
    "print(model.params)"
   ]
  },
  {
   "cell_type": "code",
   "execution_count": 8,
   "metadata": {
    "ExecuteTime": {
     "end_time": "2019-03-20T09:36:06.422264Z",
     "start_time": "2019-03-20T09:36:06.415605Z"
    },
    "scrolled": false
   },
   "outputs": [
    {
     "name": "stdout",
     "output_type": "stream",
     "text": [
      "__________________________________________________________________________________________________\n",
      "Layer (type)                    Output Shape         Param #     Connected to                     \n",
      "==================================================================================================\n",
      "text_left (InputLayer)          (None, 10)           0                                            \n",
      "__________________________________________________________________________________________________\n",
      "text_right (InputLayer)         (None, 100)          0                                            \n",
      "__________________________________________________________________________________________________\n",
      "embedding (Embedding)           multiple             5002500     text_left[0][0]                  \n",
      "                                                                 text_right[0][0]                 \n",
      "__________________________________________________________________________________________________\n",
      "dot_1 (Dot)                     (None, 10, 100)      0           embedding[0][0]                  \n",
      "                                                                 embedding[1][0]                  \n",
      "__________________________________________________________________________________________________\n",
      "dense_1 (Dense)                 (None, 10, 1)        300         embedding[0][0]                  \n",
      "__________________________________________________________________________________________________\n",
      "lambda_1 (Lambda)               (None, 10, 10)       0           dot_1[0][0]                      \n",
      "__________________________________________________________________________________________________\n",
      "attention_mask (Lambda)         (None, 10, 1)        0           dense_1[0][0]                    \n",
      "__________________________________________________________________________________________________\n",
      "dense_2 (Dense)                 (None, 10, 5)        55          lambda_1[0][0]                   \n",
      "__________________________________________________________________________________________________\n",
      "attention_probs (Lambda)        (None, 10, 1)        0           attention_mask[0][0]             \n",
      "__________________________________________________________________________________________________\n",
      "dense_3 (Dense)                 (None, 10, 1)        6           dense_2[0][0]                    \n",
      "__________________________________________________________________________________________________\n",
      "dot_2 (Dot)                     (None, 1, 1)         0           attention_probs[0][0]            \n",
      "                                                                 dense_3[0][0]                    \n",
      "__________________________________________________________________________________________________\n",
      "flatten_1 (Flatten)             (None, 1)            0           dot_2[0][0]                      \n",
      "__________________________________________________________________________________________________\n",
      "dense_4 (Dense)                 (None, 1)            2           flatten_1[0][0]                  \n",
      "==================================================================================================\n",
      "Total params: 5,002,863\n",
      "Trainable params: 5,002,863\n",
      "Non-trainable params: 0\n",
      "__________________________________________________________________________________________________\n"
     ]
    }
   ],
   "source": [
    "model.backend.summary()"
   ]
  },
  {
   "cell_type": "code",
   "execution_count": 9,
   "metadata": {
    "ExecuteTime": {
     "end_time": "2019-03-20T09:37:59.341616Z",
     "start_time": "2019-03-20T09:36:06.425086Z"
    }
   },
   "outputs": [],
   "source": [
    "term_index = preprocessor.context['vocab_unit'].state['term_index']\n",
    "embedding_matrix = glove_embedding.build_matrix(term_index)\n",
    "l2_norm = np.sqrt((embedding_matrix * embedding_matrix).sum(axis=1))\n",
    "embedding_matrix = embedding_matrix / l2_norm[:, np.newaxis]"
   ]
  },
  {
   "cell_type": "code",
   "execution_count": 10,
   "metadata": {
    "ExecuteTime": {
     "end_time": "2019-03-20T09:37:59.432719Z",
     "start_time": "2019-03-20T09:37:59.343309Z"
    }
   },
   "outputs": [],
   "source": [
    "model.load_embedding_matrix(embedding_matrix)"
   ]
  },
  {
   "cell_type": "code",
   "execution_count": 11,
   "metadata": {
    "ExecuteTime": {
     "end_time": "2019-03-20T09:37:59.489842Z",
     "start_time": "2019-03-20T09:37:59.434509Z"
    }
   },
   "outputs": [],
   "source": [
    "test_x, test_y = test_pack_processed.unpack()\n",
    "evaluate = mz.callbacks.EvaluateAllMetrics(model, x=test_x, y=test_y, batch_size=len(test_x))"
   ]
  },
  {
   "cell_type": "code",
   "execution_count": 12,
   "metadata": {
    "ExecuteTime": {
     "end_time": "2019-03-20T09:38:47.716275Z",
     "start_time": "2019-03-20T09:38:37.602828Z"
    }
   },
   "outputs": [
    {
     "name": "stdout",
     "output_type": "stream",
     "text": [
      "num batches: 102\n"
     ]
    }
   ],
   "source": [
    "train_generator = mz.DataGenerator(\n",
    "    train_pack_processed,\n",
    "    mode='pair',\n",
    "    num_dup=2,\n",
    "    num_neg=1,\n",
    "    batch_size=20\n",
    ")\n",
    "print('num batches:', len(train_generator))"
   ]
  },
  {
   "cell_type": "code",
   "execution_count": 13,
   "metadata": {
    "ExecuteTime": {
     "end_time": "2019-03-20T09:50:55.901154Z",
     "start_time": "2019-03-20T09:38:59.434426Z"
    },
    "scrolled": false
   },
   "outputs": [
    {
     "name": "stdout",
     "output_type": "stream",
     "text": [
      "Epoch 1/30\n",
      "102/102 [==============================] - 11s 107ms/step - loss: 0.9117\n",
      "Validation: normalized_discounted_cumulative_gain@3(0.0): 0.5719898092987374 - normalized_discounted_cumulative_gain@5(0.0): 0.6239251359887107 - mean_average_precision(0.0): 0.5905114616764597\n",
      "Epoch 2/30\n",
      "102/102 [==============================] - 14s 142ms/step - loss: 0.5512\n",
      "Validation: normalized_discounted_cumulative_gain@3(0.0): 0.61774368985056 - normalized_discounted_cumulative_gain@5(0.0): 0.6774292390410019 - mean_average_precision(0.0): 0.6311750071640536\n",
      "Epoch 3/30\n",
      "102/102 [==============================] - 14s 139ms/step - loss: 0.3861\n",
      "Validation: normalized_discounted_cumulative_gain@3(0.0): 0.647813998446898 - normalized_discounted_cumulative_gain@5(0.0): 0.6985697843928311 - mean_average_precision(0.0): 0.6491233856760419\n",
      "Epoch 4/30\n",
      "102/102 [==============================] - 14s 136ms/step - loss: 0.2907\n",
      "Validation: normalized_discounted_cumulative_gain@3(0.0): 0.6495566940134582 - normalized_discounted_cumulative_gain@5(0.0): 0.6916951204875269 - mean_average_precision(0.0): 0.6419370950434798\n",
      "Epoch 5/30\n",
      "102/102 [==============================] - 13s 131ms/step - loss: 0.2270\n",
      "Validation: normalized_discounted_cumulative_gain@3(0.0): 0.6560154335661049 - normalized_discounted_cumulative_gain@5(0.0): 0.6968164909382544 - mean_average_precision(0.0): 0.6518683063430193\n",
      "Epoch 6/30\n",
      "102/102 [==============================] - 14s 140ms/step - loss: 0.1641\n",
      "Validation: normalized_discounted_cumulative_gain@3(0.0): 0.6538954039131328 - normalized_discounted_cumulative_gain@5(0.0): 0.692858822775783 - mean_average_precision(0.0): 0.653743406161157\n",
      "Epoch 7/30\n",
      "102/102 [==============================] - 14s 139ms/step - loss: 0.1165\n",
      "Validation: normalized_discounted_cumulative_gain@3(0.0): 0.6462194039564408 - normalized_discounted_cumulative_gain@5(0.0): 0.689386635534613 - mean_average_precision(0.0): 0.6469761949589123\n",
      "Epoch 8/30\n",
      "102/102 [==============================] - 14s 137ms/step - loss: 0.0893\n",
      "Validation: normalized_discounted_cumulative_gain@3(0.0): 0.6329381456767526 - normalized_discounted_cumulative_gain@5(0.0): 0.680710923907449 - mean_average_precision(0.0): 0.6370621107174189\n",
      "Epoch 9/30\n",
      "102/102 [==============================] - 14s 139ms/step - loss: 0.0672\n",
      "Validation: normalized_discounted_cumulative_gain@3(0.0): 0.6340032170852646 - normalized_discounted_cumulative_gain@5(0.0): 0.6828865705831532 - mean_average_precision(0.0): 0.6376118406784876\n",
      "Epoch 10/30\n",
      "102/102 [==============================] - 14s 139ms/step - loss: 0.0653\n",
      "Validation: normalized_discounted_cumulative_gain@3(0.0): 0.6334475409672686 - normalized_discounted_cumulative_gain@5(0.0): 0.6820901394409548 - mean_average_precision(0.0): 0.6382480677181268\n",
      "Epoch 11/30\n",
      "102/102 [==============================] - 14s 142ms/step - loss: 0.05251s - l\n",
      "Validation: normalized_discounted_cumulative_gain@3(0.0): 0.6285652802262912 - normalized_discounted_cumulative_gain@5(0.0): 0.6778294038775694 - mean_average_precision(0.0): 0.6346587735035291\n",
      "Epoch 12/30\n",
      "102/102 [==============================] - 14s 139ms/step - loss: 0.0535\n",
      "Validation: normalized_discounted_cumulative_gain@3(0.0): 0.6139950726194396 - normalized_discounted_cumulative_gain@5(0.0): 0.6716687555231448 - mean_average_precision(0.0): 0.628131088436963\n",
      "Epoch 13/30\n",
      "102/102 [==============================] - 14s 138ms/step - loss: 0.0350\n",
      "Validation: normalized_discounted_cumulative_gain@3(0.0): 0.6213746477153276 - normalized_discounted_cumulative_gain@5(0.0): 0.6770728223782218 - mean_average_precision(0.0): 0.63164801590459\n",
      "Epoch 14/30\n",
      "102/102 [==============================] - 14s 141ms/step - loss: 0.0352\n",
      "Validation: normalized_discounted_cumulative_gain@3(0.0): 0.6120901879719165 - normalized_discounted_cumulative_gain@5(0.0): 0.6740127437964751 - mean_average_precision(0.0): 0.6263460398350863\n",
      "Epoch 15/30\n",
      "102/102 [==============================] - 15s 143ms/step - loss: 0.03630s - loss: 0.0\n",
      "Validation: normalized_discounted_cumulative_gain@3(0.0): 0.6223056951915684 - normalized_discounted_cumulative_gain@5(0.0): 0.673654944880752 - mean_average_precision(0.0): 0.6325080230354165\n",
      "Epoch 16/30\n",
      "102/102 [==============================] - 15s 143ms/step - loss: 0.0272\n",
      "Validation: normalized_discounted_cumulative_gain@3(0.0): 0.620007323507012 - normalized_discounted_cumulative_gain@5(0.0): 0.6709613599858311 - mean_average_precision(0.0): 0.6288028652746293\n",
      "Epoch 17/30\n",
      "102/102 [==============================] - 14s 139ms/step - loss: 0.0262\n",
      "Validation: normalized_discounted_cumulative_gain@3(0.0): 0.6102144744132695 - normalized_discounted_cumulative_gain@5(0.0): 0.6653597600623021 - mean_average_precision(0.0): 0.6215761186280839\n",
      "Epoch 18/30\n",
      "102/102 [==============================] - 14s 142ms/step - loss: 0.0247\n",
      "Validation: normalized_discounted_cumulative_gain@3(0.0): 0.6186180821032253 - normalized_discounted_cumulative_gain@5(0.0): 0.6742180663169787 - mean_average_precision(0.0): 0.6288558503331987\n",
      "Epoch 19/30\n",
      "102/102 [==============================] - 14s 142ms/step - loss: 0.0205\n",
      "Validation: normalized_discounted_cumulative_gain@3(0.0): 0.6125483818994625 - normalized_discounted_cumulative_gain@5(0.0): 0.6654950410150325 - mean_average_precision(0.0): 0.6183306767750472\n",
      "Epoch 20/30\n",
      "102/102 [==============================] - 15s 144ms/step - loss: 0.0119\n",
      "Validation: normalized_discounted_cumulative_gain@3(0.0): 0.6181292874514792 - normalized_discounted_cumulative_gain@5(0.0): 0.6728534198749944 - mean_average_precision(0.0): 0.6268439789220053\n",
      "Epoch 21/30\n",
      "102/102 [==============================] - 15s 149ms/step - loss: 0.0123\n",
      "Validation: normalized_discounted_cumulative_gain@3(0.0): 0.6120947981231616 - normalized_discounted_cumulative_gain@5(0.0): 0.6676081613512475 - mean_average_precision(0.0): 0.6241120572213569\n",
      "Epoch 22/30\n",
      "102/102 [==============================] - 15s 148ms/step - loss: 0.0157\n",
      "Validation: normalized_discounted_cumulative_gain@3(0.0): 0.608075436219947 - normalized_discounted_cumulative_gain@5(0.0): 0.65845512453949 - mean_average_precision(0.0): 0.6150319474084023\n",
      "Epoch 23/30\n",
      "102/102 [==============================] - 15s 142ms/step - loss: 0.0137\n",
      "Validation: normalized_discounted_cumulative_gain@3(0.0): 0.6092880864727473 - normalized_discounted_cumulative_gain@5(0.0): 0.6605626094028171 - mean_average_precision(0.0): 0.6170658312460836\n",
      "Epoch 24/30\n",
      "102/102 [==============================] - ETA: 0s - loss: 0.010 - 15s 146ms/step - loss: 0.0108\n",
      "Validation: normalized_discounted_cumulative_gain@3(0.0): 0.5989159425694133 - normalized_discounted_cumulative_gain@5(0.0): 0.6494935123181929 - mean_average_precision(0.0): 0.6031204353386624\n",
      "Epoch 25/30\n",
      "102/102 [==============================] - 15s 144ms/step - loss: 0.0086\n",
      "Validation: normalized_discounted_cumulative_gain@3(0.0): 0.6000708185798314 - normalized_discounted_cumulative_gain@5(0.0): 0.6514990944590756 - mean_average_precision(0.0): 0.6069019210821734\n",
      "Epoch 26/30\n",
      "102/102 [==============================] - 15s 148ms/step - loss: 0.0093\n",
      "Validation: normalized_discounted_cumulative_gain@3(0.0): 0.6060350486203551 - normalized_discounted_cumulative_gain@5(0.0): 0.6544073036139725 - mean_average_precision(0.0): 0.6090946870012052\n",
      "Epoch 27/30\n",
      "102/102 [==============================] - 15s 145ms/step - loss: 0.0086\n",
      "Validation: normalized_discounted_cumulative_gain@3(0.0): 0.594874875318297 - normalized_discounted_cumulative_gain@5(0.0): 0.6466431719484571 - mean_average_precision(0.0): 0.6020825360017125\n",
      "Epoch 28/30\n",
      "102/102 [==============================] - 15s 142ms/step - loss: 0.0081\n",
      "Validation: normalized_discounted_cumulative_gain@3(0.0): 0.6045277737718218 - normalized_discounted_cumulative_gain@5(0.0): 0.653588428763671 - mean_average_precision(0.0): 0.609021145730129\n",
      "Epoch 29/30\n",
      "102/102 [==============================] - 14s 142ms/step - loss: 0.0085\n",
      "Validation: normalized_discounted_cumulative_gain@3(0.0): 0.6029705153480727 - normalized_discounted_cumulative_gain@5(0.0): 0.6524509157874778 - mean_average_precision(0.0): 0.6072560858954489\n",
      "Epoch 30/30\n",
      "102/102 [==============================] - 15s 145ms/step - loss: 0.0066\n"
     ]
    },
    {
     "name": "stdout",
     "output_type": "stream",
     "text": [
      "Validation: normalized_discounted_cumulative_gain@3(0.0): 0.6031136465042117 - normalized_discounted_cumulative_gain@5(0.0): 0.6520833457413675 - mean_average_precision(0.0): 0.6070763488486232\n"
     ]
    }
   ],
   "source": [
    "history = model.fit_generator(train_generator, epochs=30, callbacks=[evaluate], workers=4, use_multiprocessing=True)"
   ]
  },
  {
   "cell_type": "raw",
   "metadata": {},
   "source": [
    "Use this function to update the README.md with a better set of parameters.\n",
    "Make sure you delete the correct section of the README.md before calling this function."
   ]
  },
  {
   "cell_type": "code",
   "execution_count": 14,
   "metadata": {
    "ExecuteTime": {
     "end_time": "2019-03-20T09:38:03.829486Z",
     "start_time": "2019-03-20T09:35:45.706Z"
    }
   },
   "outputs": [],
   "source": [
    "append_params_to_readme(model)"
   ]
  }
 ],
 "metadata": {
  "hide_input": false,
  "kernelspec": {
   "display_name": "Python 3",
   "language": "python",
   "name": "python3"
  },
  "language_info": {
   "codemirror_mode": {
    "name": "ipython",
    "version": 3
   },
   "file_extension": ".py",
   "mimetype": "text/x-python",
   "name": "python",
   "nbconvert_exporter": "python",
   "pygments_lexer": "ipython3",
   "version": "3.6.5"
  },
  "toc": {
   "nav_menu": {},
   "number_sections": true,
   "sideBar": true,
   "skip_h1_title": false,
   "toc_cell": false,
   "toc_position": {},
   "toc_section_display": "block",
   "toc_window_display": false
  },
  "varInspector": {
   "cols": {
    "lenName": 16,
    "lenType": 16,
    "lenVar": 40
   },
   "kernels_config": {
    "python": {
     "delete_cmd_postfix": "",
     "delete_cmd_prefix": "del ",
     "library": "var_list.py",
     "varRefreshCmd": "print(var_dic_list())"
    },
    "r": {
     "delete_cmd_postfix": ") ",
     "delete_cmd_prefix": "rm(",
     "library": "var_list.r",
     "varRefreshCmd": "cat(var_dic_list()) "
    }
   },
   "types_to_exclude": [
    "module",
    "function",
    "builtin_function_or_method",
    "instance",
    "_Feature"
   ],
   "window_display": false
  }
 },
 "nbformat": 4,
 "nbformat_minor": 2
}
