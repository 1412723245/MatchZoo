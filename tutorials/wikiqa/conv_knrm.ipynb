{
 "cells": [
  {
   "cell_type": "code",
   "execution_count": 1,
   "metadata": {},
   "outputs": [
    {
     "name": "stderr",
     "output_type": "stream",
     "text": [
      "Using TensorFlow backend.\n"
     ]
    },
    {
     "name": "stdout",
     "output_type": "stream",
     "text": [
      "matchzoo version 2.1.0\n",
      "\n",
      "data loading ...\n",
      "data loaded as `train_pack_raw` `dev_pack_raw` `test_pack_raw`\n",
      "`ranking_task` initialized with metrics [normalized_discounted_cumulative_gain@3(0.0), normalized_discounted_cumulative_gain@5(0.0), mean_average_precision(0.0)]\n",
      "loading embedding ...\n",
      "embedding loaded as `glove_embedding`\n"
     ]
    }
   ],
   "source": [
    "%run init.ipynb"
   ]
  },
  {
   "cell_type": "code",
   "execution_count": 2,
   "metadata": {},
   "outputs": [
    {
     "name": "stderr",
     "output_type": "stream",
     "text": [
      "Processing text_left with chain_transform of Tokenize => Lowercase => PuncRemoval: 100%|██████████| 2118/2118 [00:00<00:00, 3796.68it/s]\n",
      "Processing text_right with chain_transform of Tokenize => Lowercase => PuncRemoval: 100%|██████████| 18841/18841 [00:07<00:00, 2524.74it/s]\n",
      "Processing text_right with append: 100%|██████████| 18841/18841 [00:00<00:00, 455422.32it/s]\n",
      "Building FrequencyFilter from a datapack.: 100%|██████████| 18841/18841 [00:00<00:00, 71945.97it/s]\n",
      "Processing text_right with transform: 100%|██████████| 18841/18841 [00:00<00:00, 76982.76it/s]\n",
      "Processing text_left with extend: 100%|██████████| 2118/2118 [00:00<00:00, 384319.09it/s]\n",
      "Processing text_right with extend: 100%|██████████| 18841/18841 [00:00<00:00, 351274.78it/s]\n",
      "Building Vocabulary from a datapack.: 100%|██████████| 404415/404415 [00:00<00:00, 1848057.36it/s]\n",
      "Processing text_left with chain_transform of Tokenize => Lowercase => PuncRemoval: 100%|██████████| 2118/2118 [00:00<00:00, 4027.88it/s]\n",
      "Processing text_right with chain_transform of Tokenize => Lowercase => PuncRemoval: 100%|██████████| 18841/18841 [00:07<00:00, 2473.19it/s]\n",
      "Processing text_right with transform: 100%|██████████| 18841/18841 [00:00<00:00, 56014.08it/s]\n",
      "Processing text_left with transform: 100%|██████████| 2118/2118 [00:00<00:00, 111704.65it/s]\n",
      "Processing text_right with transform: 100%|██████████| 18841/18841 [00:00<00:00, 72709.82it/s]\n",
      "Processing length_left with len: 100%|██████████| 2118/2118 [00:00<00:00, 337353.73it/s]\n",
      "Processing length_right with len: 100%|██████████| 18841/18841 [00:00<00:00, 408528.22it/s]\n",
      "Processing text_left with transform: 100%|██████████| 2118/2118 [00:00<00:00, 44488.42it/s]\n",
      "Processing text_right with transform: 100%|██████████| 18841/18841 [00:00<00:00, 36116.35it/s]\n",
      "Processing text_left with chain_transform of Tokenize => Lowercase => PuncRemoval: 100%|██████████| 122/122 [00:00<00:00, 2703.97it/s]\n",
      "Processing text_right with chain_transform of Tokenize => Lowercase => PuncRemoval: 100%|██████████| 1115/1115 [00:00<00:00, 2577.85it/s]\n",
      "Processing text_right with transform: 100%|██████████| 1115/1115 [00:00<00:00, 73341.94it/s]\n",
      "Processing text_left with transform: 100%|██████████| 122/122 [00:00<00:00, 67205.82it/s]\n",
      "Processing text_right with transform: 100%|██████████| 1115/1115 [00:00<00:00, 77901.30it/s]\n",
      "Processing length_left with len: 100%|██████████| 122/122 [00:00<00:00, 149098.22it/s]\n",
      "Processing length_right with len: 100%|██████████| 1115/1115 [00:00<00:00, 357105.14it/s]\n",
      "Processing text_left with transform: 100%|██████████| 122/122 [00:00<00:00, 37462.85it/s]\n",
      "Processing text_right with transform: 100%|██████████| 1115/1115 [00:00<00:00, 39215.54it/s]\n",
      "Processing text_left with chain_transform of Tokenize => Lowercase => PuncRemoval: 100%|██████████| 237/237 [00:00<00:00, 4220.37it/s]\n",
      "Processing text_right with chain_transform of Tokenize => Lowercase => PuncRemoval: 100%|██████████| 2300/2300 [00:00<00:00, 2527.36it/s]\n",
      "Processing text_right with transform: 100%|██████████| 2300/2300 [00:00<00:00, 66232.98it/s]\n",
      "Processing text_left with transform: 100%|██████████| 237/237 [00:00<00:00, 51094.84it/s]\n",
      "Processing text_right with transform: 100%|██████████| 2300/2300 [00:00<00:00, 87008.55it/s]\n",
      "Processing length_left with len: 100%|██████████| 237/237 [00:00<00:00, 172788.12it/s]\n",
      "Processing length_right with len: 100%|██████████| 2300/2300 [00:00<00:00, 363129.53it/s]\n",
      "Processing text_left with transform: 100%|██████████| 237/237 [00:00<00:00, 40888.90it/s]\n",
      "Processing text_right with transform: 100%|██████████| 2300/2300 [00:00<00:00, 39273.79it/s]\n"
     ]
    }
   ],
   "source": [
    "preprocessor = mz.preprocessors.BasicPreprocessor(fixed_length_left=10, fixed_length_right=40, remove_stop_words=False)\n",
    "train_pack_processed = preprocessor.fit_transform(train_pack_raw, drop_invalid=True)\n",
    "dev_pack_processed = preprocessor.transform(dev_pack_raw, drop_invalid=False)\n",
    "test_pack_processed = preprocessor.transform(test_pack_raw, drop_invalid=False)"
   ]
  },
  {
   "cell_type": "code",
   "execution_count": 3,
   "metadata": {
    "scrolled": false
   },
   "outputs": [
    {
     "data": {
      "text/plain": [
       "{'filter_unit': <matchzoo.preprocessors.units.frequency_filter.FrequencyFilter at 0x7f7104a60b70>,\n",
       " 'vocab_unit': <matchzoo.preprocessors.units.vocabulary.Vocabulary at 0x7f7105ef4198>,\n",
       " 'vocab_size': 16675,\n",
       " 'embedding_input_dim': 16675,\n",
       " 'input_shapes': [(10,), (40,)]}"
      ]
     },
     "execution_count": 3,
     "metadata": {},
     "output_type": "execute_result"
    }
   ],
   "source": [
    "preprocessor.context"
   ]
  },
  {
   "cell_type": "code",
   "execution_count": 4,
   "metadata": {
    "scrolled": false
   },
   "outputs": [],
   "source": [
    "model = mz.models.ConvKNRM()\n",
    "model.params.update(preprocessor.context)\n",
    "model.params['task'] = ranking_task\n",
    "model.params['embedding_output_dim'] = glove_embedding.output_dim\n",
    "model.params['embedding_trainable'] = True\n",
    "model.params['filters'] = 128 \n",
    "model.params['conv_activation_func'] = 'tanh' \n",
    "model.params['max_ngram'] = 3\n",
    "model.params['use_crossmatch'] = True \n",
    "model.params['kernel_num'] = 11\n",
    "model.params['sigma'] = 0.1\n",
    "model.params['exact_sigma'] = 0.001\n",
    "model.params['optimizer'] = 'adadelta'\n",
    "model.build()\n",
    "model.compile()\n",
    "#model.backend.summary()"
   ]
  },
  {
   "cell_type": "code",
   "execution_count": 5,
   "metadata": {},
   "outputs": [],
   "source": [
    "embedding_matrix = glove_embedding.build_matrix(preprocessor.context['vocab_unit'].state['term_index'])\n",
    "model.load_embedding_matrix(embedding_matrix)"
   ]
  },
  {
   "cell_type": "code",
   "execution_count": 6,
   "metadata": {},
   "outputs": [],
   "source": [
    "pred_x, pred_y = test_pack_processed.unpack()\n",
    "evaluate = mz.callbacks.EvaluateAllMetrics(model, x=pred_x, y=pred_y, batch_size=len(pred_y))"
   ]
  },
  {
   "cell_type": "code",
   "execution_count": 7,
   "metadata": {},
   "outputs": [
    {
     "name": "stdout",
     "output_type": "stream",
     "text": [
      "num batches: 255\n"
     ]
    }
   ],
   "source": [
    "train_generator = mz.DataGenerator(\n",
    "    train_pack_processed,\n",
    "    mode='pair',\n",
    "    num_dup=5,\n",
    "    num_neg=1,\n",
    "    batch_size=20\n",
    ")\n",
    "print('num batches:', len(train_generator))"
   ]
  },
  {
   "cell_type": "code",
   "execution_count": 8,
   "metadata": {
    "scrolled": false
   },
   "outputs": [
    {
     "name": "stdout",
     "output_type": "stream",
     "text": [
      "Epoch 1/30\n",
      "255/255 [==============================] - 46s 181ms/step - loss: 0.4429\n",
      "Validation: normalized_discounted_cumulative_gain@3(0.0): 0.575526042026109 - normalized_discounted_cumulative_gain@5(0.0): 0.6453465201831717 - mean_average_precision(0.0): 0.5932570453764658\n",
      "Epoch 2/30\n",
      "255/255 [==============================] - 50s 197ms/step - loss: 0.1203\n",
      "Validation: normalized_discounted_cumulative_gain@3(0.0): 0.6116090709087145 - normalized_discounted_cumulative_gain@5(0.0): 0.6603143733847261 - mean_average_precision(0.0): 0.6190537404769583\n",
      "Epoch 3/30\n",
      "255/255 [==============================] - 49s 193ms/step - loss: 0.0545\n",
      "Validation: normalized_discounted_cumulative_gain@3(0.0): 0.6001499877858704 - normalized_discounted_cumulative_gain@5(0.0): 0.6660433061547467 - mean_average_precision(0.0): 0.6150657239348112\n",
      "Epoch 4/30\n",
      "255/255 [==============================] - 52s 203ms/step - loss: 0.0432\n",
      "Validation: normalized_discounted_cumulative_gain@3(0.0): 0.6119184188197445 - normalized_discounted_cumulative_gain@5(0.0): 0.6557518957986129 - mean_average_precision(0.0): 0.6094996255845544\n",
      "Epoch 5/30\n",
      "255/255 [==============================] - 51s 200ms/step - loss: 0.0228\n",
      "Validation: normalized_discounted_cumulative_gain@3(0.0): 0.6097858258852652 - normalized_discounted_cumulative_gain@5(0.0): 0.6662805690024436 - mean_average_precision(0.0): 0.627227259654661\n",
      "Epoch 6/30\n",
      "255/255 [==============================] - 52s 203ms/step - loss: 0.0215\n",
      "Validation: normalized_discounted_cumulative_gain@3(0.0): 0.6267158967087378 - normalized_discounted_cumulative_gain@5(0.0): 0.6837558291559489 - mean_average_precision(0.0): 0.6380194055826968\n",
      "Epoch 7/30\n",
      "255/255 [==============================] - 52s 203ms/step - loss: 0.0187\n",
      "Validation: normalized_discounted_cumulative_gain@3(0.0): 0.6446617857639731 - normalized_discounted_cumulative_gain@5(0.0): 0.7006361535989973 - mean_average_precision(0.0): 0.6514767156776651\n",
      "Epoch 8/30\n",
      "255/255 [==============================] - 52s 206ms/step - loss: 0.0113\n",
      "Validation: normalized_discounted_cumulative_gain@3(0.0): 0.6153294736066695 - normalized_discounted_cumulative_gain@5(0.0): 0.6586190585735954 - mean_average_precision(0.0): 0.6130131439550159\n",
      "Epoch 9/30\n",
      "255/255 [==============================] - 53s 206ms/step - loss: 0.0080\n",
      "Validation: normalized_discounted_cumulative_gain@3(0.0): 0.5953954536394704 - normalized_discounted_cumulative_gain@5(0.0): 0.6449274998124778 - mean_average_precision(0.0): 0.6010816802747183\n",
      "Epoch 10/30\n",
      "255/255 [==============================] - 61s 238ms/step - loss: 0.0060\n",
      "Validation: normalized_discounted_cumulative_gain@3(0.0): 0.6153840673331303 - normalized_discounted_cumulative_gain@5(0.0): 0.6661152661183554 - mean_average_precision(0.0): 0.6210977397291915\n",
      "Epoch 11/30\n",
      "255/255 [==============================] - 59s 230ms/step - loss: 0.0043\n",
      "Validation: normalized_discounted_cumulative_gain@3(0.0): 0.6047141183181419 - normalized_discounted_cumulative_gain@5(0.0): 0.6637018225395181 - mean_average_precision(0.0): 0.6162778107888229\n",
      "Epoch 12/30\n",
      "255/255 [==============================] - 59s 232ms/step - loss: 0.0033\n",
      "Validation: normalized_discounted_cumulative_gain@3(0.0): 0.6058620616804291 - normalized_discounted_cumulative_gain@5(0.0): 0.6600813117401132 - mean_average_precision(0.0): 0.6174075843962585\n",
      "Epoch 13/30\n",
      "255/255 [==============================] - 58s 228ms/step - loss: 0.0034\n",
      "Validation: normalized_discounted_cumulative_gain@3(0.0): 0.6223849280917562 - normalized_discounted_cumulative_gain@5(0.0): 0.6683396333982125 - mean_average_precision(0.0): 0.6197820650831144\n",
      "Epoch 14/30\n",
      "255/255 [==============================] - 57s 223ms/step - loss: 0.0014\n",
      "Validation: normalized_discounted_cumulative_gain@3(0.0): 0.6230578784044104 - normalized_discounted_cumulative_gain@5(0.0): 0.6796421433710159 - mean_average_precision(0.0): 0.6332003613690823\n",
      "Epoch 15/30\n",
      "255/255 [==============================] - 59s 231ms/step - loss: 0.0014\n",
      "Validation: normalized_discounted_cumulative_gain@3(0.0): 0.6194022462911173 - normalized_discounted_cumulative_gain@5(0.0): 0.6737418887110312 - mean_average_precision(0.0): 0.6230308128103226\n",
      "Epoch 16/30\n",
      "255/255 [==============================] - 58s 228ms/step - loss: 0.0035\n",
      "Validation: normalized_discounted_cumulative_gain@3(0.0): 0.6456575401307271 - normalized_discounted_cumulative_gain@5(0.0): 0.6842981673409513 - mean_average_precision(0.0): 0.6435167980845863\n",
      "Epoch 17/30\n",
      "255/255 [==============================] - 57s 224ms/step - loss: 0.0032\n",
      "Validation: normalized_discounted_cumulative_gain@3(0.0): 0.6426831363865426 - normalized_discounted_cumulative_gain@5(0.0): 0.687154357010139 - mean_average_precision(0.0): 0.6410953198578264\n",
      "Epoch 18/30\n",
      "255/255 [==============================] - 60s 235ms/step - loss: 0.0029\n",
      "Validation: normalized_discounted_cumulative_gain@3(0.0): 0.6118432244545137 - normalized_discounted_cumulative_gain@5(0.0): 0.6769015163370962 - mean_average_precision(0.0): 0.6273852251723622\n",
      "Epoch 19/30\n",
      "255/255 [==============================] - 58s 227ms/step - loss: 0.0023\n",
      "Validation: normalized_discounted_cumulative_gain@3(0.0): 0.6447733450982543 - normalized_discounted_cumulative_gain@5(0.0): 0.7025987422150939 - mean_average_precision(0.0): 0.6522263534359637\n",
      "Epoch 20/30\n",
      "255/255 [==============================] - 52s 206ms/step - loss: 0.0020\n",
      "Validation: normalized_discounted_cumulative_gain@3(0.0): 0.6542274139600477 - normalized_discounted_cumulative_gain@5(0.0): 0.6984718682402393 - mean_average_precision(0.0): 0.6509266080719671\n",
      "Epoch 21/30\n",
      "255/255 [==============================] - 52s 204ms/step - loss: 7.7062e-04\n",
      "Validation: normalized_discounted_cumulative_gain@3(0.0): 0.6499124358305909 - normalized_discounted_cumulative_gain@5(0.0): 0.6997946982506645 - mean_average_precision(0.0): 0.6555685833980694\n",
      "Epoch 22/30\n",
      "255/255 [==============================] - 50s 197ms/step - loss: 4.4008e-04\n",
      "Validation: normalized_discounted_cumulative_gain@3(0.0): 0.6434011640485978 - normalized_discounted_cumulative_gain@5(0.0): 0.6986605514768729 - mean_average_precision(0.0): 0.6546392020588144\n",
      "Epoch 23/30\n",
      "255/255 [==============================] - 50s 197ms/step - loss: 5.6193e-04\n",
      "Validation: normalized_discounted_cumulative_gain@3(0.0): 0.6232490304075982 - normalized_discounted_cumulative_gain@5(0.0): 0.690699455797057 - mean_average_precision(0.0): 0.6485192046820079\n",
      "Epoch 24/30\n",
      "255/255 [==============================] - 51s 199ms/step - loss: 0.0013\n",
      "Validation: normalized_discounted_cumulative_gain@3(0.0): 0.6593476406245362 - normalized_discounted_cumulative_gain@5(0.0): 0.7107536275704297 - mean_average_precision(0.0): 0.6673676705719069\n",
      "Epoch 25/30\n",
      "255/255 [==============================] - 51s 199ms/step - loss: 0.0018\n",
      "Validation: normalized_discounted_cumulative_gain@3(0.0): 0.6502466059112954 - normalized_discounted_cumulative_gain@5(0.0): 0.7030651639153388 - mean_average_precision(0.0): 0.6566128336972284\n",
      "Epoch 26/30\n",
      "255/255 [==============================] - 50s 197ms/step - loss: 4.1237e-05\n",
      "Validation: normalized_discounted_cumulative_gain@3(0.0): 0.6506354827970832 - normalized_discounted_cumulative_gain@5(0.0): 0.7012066350055418 - mean_average_precision(0.0): 0.6565167355370944\n",
      "Epoch 27/30\n",
      "255/255 [==============================] - 56s 219ms/step - loss: 2.6294e-04\n",
      "Validation: normalized_discounted_cumulative_gain@3(0.0): 0.6441902487719798 - normalized_discounted_cumulative_gain@5(0.0): 0.6894151682767696 - mean_average_precision(0.0): 0.6459538179935366\n",
      "Epoch 28/30\n",
      "255/255 [==============================] - 60s 236ms/step - loss: 2.9051e-04\n",
      "Validation: normalized_discounted_cumulative_gain@3(0.0): 0.6395081484891106 - normalized_discounted_cumulative_gain@5(0.0): 0.6874925073887657 - mean_average_precision(0.0): 0.6406726417844005\n",
      "Epoch 29/30\n",
      "255/255 [==============================] - 57s 223ms/step - loss: 7.7365e-05\n",
      "Validation: normalized_discounted_cumulative_gain@3(0.0): 0.6540067165573179 - normalized_discounted_cumulative_gain@5(0.0): 0.7010001033070498 - mean_average_precision(0.0): 0.6596407203950705\n",
      "Epoch 30/30\n",
      "255/255 [==============================] - ETA: 0s - loss: 1.9764e-0 - 60s 234ms/step - loss: 1.9686e-04\n"
     ]
    },
    {
     "name": "stdout",
     "output_type": "stream",
     "text": [
      "Validation: normalized_discounted_cumulative_gain@3(0.0): 0.6610733889155886 - normalized_discounted_cumulative_gain@5(0.0): 0.7059824447926156 - mean_average_precision(0.0): 0.6585190244233725\n"
     ]
    }
   ],
   "source": [
    "history = model.fit_generator(train_generator, epochs=30, callbacks=[evaluate], workers=30, use_multiprocessing=True)"
   ]
  }
 ],
 "metadata": {
  "kernelspec": {
   "display_name": "Python 3",
   "language": "python",
   "name": "python3"
  },
  "language_info": {
   "codemirror_mode": {
    "name": "ipython",
    "version": 3
   },
   "file_extension": ".py",
   "mimetype": "text/x-python",
   "name": "python",
   "nbconvert_exporter": "python",
   "pygments_lexer": "ipython3",
   "version": "3.6.5"
  }
 },
 "nbformat": 4,
 "nbformat_minor": 2
}
