{
 "cells": [
  {
   "cell_type": "code",
   "execution_count": 1,
   "metadata": {},
   "outputs": [
    {
     "name": "stderr",
     "output_type": "stream",
     "text": [
      "Using TensorFlow backend.\n"
     ]
    },
    {
     "name": "stdout",
     "output_type": "stream",
     "text": [
      "matchzoo version 2.1.0\n",
      "\n",
      "data loading ...\n",
      "data loaded as `train_pack_raw` `dev_pack_raw` `test_pack_raw`\n",
      "`ranking_task` initialized with metrics [normalized_discounted_cumulative_gain@3(0.0), normalized_discounted_cumulative_gain@5(0.0), mean_average_precision(0.0)]\n",
      "loading embedding ...\n",
      "embedding loaded as `glove_embedding`\n"
     ]
    }
   ],
   "source": [
    "%run init.ipynb"
   ]
  },
  {
   "cell_type": "code",
   "execution_count": 2,
   "metadata": {},
   "outputs": [],
   "source": [
    "preprocessor = mz.preprocessors.BasicPreprocessor(fixed_length_left=10, \n",
    "                                                  fixed_length_right=100, \n",
    "                                                  remove_stop_words=False)"
   ]
  },
  {
   "cell_type": "code",
   "execution_count": 3,
   "metadata": {
    "scrolled": false
   },
   "outputs": [
    {
     "name": "stderr",
     "output_type": "stream",
     "text": [
      "Processing text_left with chain_transform of Tokenize => Lowercase => PuncRemoval: 100%|██████████| 2118/2118 [00:00<00:00, 3790.79it/s]\n",
      "Processing text_right with chain_transform of Tokenize => Lowercase => PuncRemoval: 100%|██████████| 18841/18841 [00:08<00:00, 2343.40it/s]\n",
      "Processing text_right with append: 100%|██████████| 18841/18841 [00:00<00:00, 426997.65it/s]\n",
      "Building FrequencyFilter from a datapack.: 100%|██████████| 18841/18841 [00:00<00:00, 65916.41it/s]\n",
      "Processing text_right with transform: 100%|██████████| 18841/18841 [00:00<00:00, 72708.41it/s]\n",
      "Processing text_left with extend: 100%|██████████| 2118/2118 [00:00<00:00, 364811.95it/s]\n",
      "Processing text_right with extend: 100%|██████████| 18841/18841 [00:00<00:00, 355766.01it/s]\n",
      "Building Vocabulary from a datapack.: 100%|██████████| 404415/404415 [00:00<00:00, 1775711.42it/s]\n",
      "Processing text_left with chain_transform of Tokenize => Lowercase => PuncRemoval: 100%|██████████| 2118/2118 [00:00<00:00, 3787.75it/s]\n",
      "Processing text_right with chain_transform of Tokenize => Lowercase => PuncRemoval: 100%|██████████| 18841/18841 [00:08<00:00, 2350.14it/s]\n",
      "Processing text_right with transform: 100%|██████████| 18841/18841 [00:00<00:00, 69604.84it/s]\n",
      "Processing text_left with transform: 100%|██████████| 2118/2118 [00:00<00:00, 123351.60it/s]\n",
      "Processing text_right with transform: 100%|██████████| 18841/18841 [00:00<00:00, 71363.70it/s]\n",
      "Processing length_left with len: 100%|██████████| 2118/2118 [00:00<00:00, 338459.10it/s]\n",
      "Processing length_right with len: 100%|██████████| 18841/18841 [00:00<00:00, 386626.36it/s]\n",
      "Processing text_left with transform: 100%|██████████| 2118/2118 [00:00<00:00, 37879.65it/s]\n",
      "Processing text_right with transform: 100%|██████████| 18841/18841 [00:00<00:00, 32494.44it/s]\n",
      "Processing text_left with chain_transform of Tokenize => Lowercase => PuncRemoval: 100%|██████████| 122/122 [00:00<00:00, 3433.39it/s]\n",
      "Processing text_right with chain_transform of Tokenize => Lowercase => PuncRemoval: 100%|██████████| 1115/1115 [00:00<00:00, 2489.81it/s]\n",
      "Processing text_right with transform: 100%|██████████| 1115/1115 [00:00<00:00, 43435.43it/s]\n",
      "Processing text_left with transform: 100%|██████████| 122/122 [00:00<00:00, 45000.89it/s]\n",
      "Processing text_right with transform: 100%|██████████| 1115/1115 [00:00<00:00, 64700.05it/s]\n",
      "Processing length_left with len: 100%|██████████| 122/122 [00:00<00:00, 105267.45it/s]\n",
      "Processing length_right with len: 100%|██████████| 1115/1115 [00:00<00:00, 302617.38it/s]\n",
      "Processing text_left with transform: 100%|██████████| 122/122 [00:00<00:00, 16131.43it/s]\n",
      "Processing text_right with transform: 100%|██████████| 1115/1115 [00:00<00:00, 32181.51it/s]\n",
      "Processing text_left with chain_transform of Tokenize => Lowercase => PuncRemoval: 100%|██████████| 237/237 [00:00<00:00, 3923.53it/s]\n",
      "Processing text_right with chain_transform of Tokenize => Lowercase => PuncRemoval: 100%|██████████| 2300/2300 [00:00<00:00, 2352.98it/s]\n",
      "Processing text_right with transform: 100%|██████████| 2300/2300 [00:00<00:00, 53894.19it/s]\n",
      "Processing text_left with transform: 100%|██████████| 237/237 [00:00<00:00, 51110.60it/s]\n",
      "Processing text_right with transform: 100%|██████████| 2300/2300 [00:00<00:00, 74014.48it/s]\n",
      "Processing length_left with len: 100%|██████████| 237/237 [00:00<00:00, 60263.72it/s]\n",
      "Processing length_right with len: 100%|██████████| 2300/2300 [00:00<00:00, 346674.06it/s]\n",
      "Processing text_left with transform: 100%|██████████| 237/237 [00:00<00:00, 40392.12it/s]\n",
      "Processing text_right with transform: 100%|██████████| 2300/2300 [00:00<00:00, 26730.27it/s]\n"
     ]
    }
   ],
   "source": [
    "train_pack_processed = preprocessor.fit_transform(train_pack_raw, drop_invalid=True)\n",
    "dev_pack_processed = preprocessor.transform(dev_pack_raw, drop_invalid=False)\n",
    "test_pack_processed = preprocessor.transform(test_pack_raw, drop_invalid=False)"
   ]
  },
  {
   "cell_type": "code",
   "execution_count": 4,
   "metadata": {},
   "outputs": [
    {
     "data": {
      "text/plain": [
       "{'filter_unit': <matchzoo.preprocessors.units.frequency_filter.FrequencyFilter at 0x7f2c2804eb00>,\n",
       " 'vocab_unit': <matchzoo.preprocessors.units.vocabulary.Vocabulary at 0x7f2bb11b55c0>,\n",
       " 'vocab_size': 16675,\n",
       " 'embedding_input_dim': 16675,\n",
       " 'input_shapes': [(10,), (100,)]}"
      ]
     },
     "execution_count": 4,
     "metadata": {},
     "output_type": "execute_result"
    }
   ],
   "source": [
    "preprocessor.context"
   ]
  },
  {
   "cell_type": "code",
   "execution_count": 5,
   "metadata": {
    "scrolled": false
   },
   "outputs": [
    {
     "name": "stdout",
     "output_type": "stream",
     "text": [
      "model_class                   <class 'matchzoo.models.arcii.ArcII'>\n",
      "input_shapes                  [(10,), (100,)]\n",
      "task                          Ranking Task\n",
      "optimizer                     adam\n",
      "with_embedding                True\n",
      "embedding_input_dim           16675\n",
      "embedding_output_dim          300\n",
      "embedding_trainable           True\n",
      "num_blocks                    2\n",
      "kernel_1d_count               32\n",
      "kernel_1d_size                3\n",
      "kernel_2d_count               [64, 64]\n",
      "kernel_2d_size                [3, 3]\n",
      "activation                    relu\n",
      "pool_2d_size                  [[3, 3], [3, 3]]\n",
      "padding                       same\n",
      "dropout_rate                  0.0\n"
     ]
    }
   ],
   "source": [
    "model = mz.models.ArcII()\n",
    "\n",
    "# load `input_shapes` and `embedding_input_dim` (vocab_size)\n",
    "model.params.update(preprocessor.context)\n",
    "\n",
    "model.params['task'] = ranking_task\n",
    "model.params['embedding_output_dim'] = glove_embedding.output_dim\n",
    "model.params['embedding_trainable'] = True\n",
    "model.params['num_blocks'] = 2\n",
    "model.params['kernel_1d_count'] = 32\n",
    "model.params['kernel_1d_size'] = 3\n",
    "model.params['kernel_2d_count'] = [64, 64]\n",
    "model.params['kernel_2d_size'] = [3, 3]\n",
    "model.params['pool_2d_size'] = [[3, 3], [3, 3]]\n",
    "model.params['optimizer'] = 'adam'\n",
    "\n",
    "model.build()\n",
    "model.compile()\n",
    "\n",
    "print(model.params)"
   ]
  },
  {
   "cell_type": "code",
   "execution_count": 6,
   "metadata": {},
   "outputs": [
    {
     "name": "stdout",
     "output_type": "stream",
     "text": [
      "__________________________________________________________________________________________________\n",
      "Layer (type)                    Output Shape         Param #     Connected to                     \n",
      "==================================================================================================\n",
      "text_left (InputLayer)          (None, 10)           0                                            \n",
      "__________________________________________________________________________________________________\n",
      "text_right (InputLayer)         (None, 100)          0                                            \n",
      "__________________________________________________________________________________________________\n",
      "embedding (Embedding)           multiple             5002500     text_left[0][0]                  \n",
      "                                                                 text_right[0][0]                 \n",
      "__________________________________________________________________________________________________\n",
      "conv1d_1 (Conv1D)               (None, 10, 32)       28832       embedding[0][0]                  \n",
      "__________________________________________________________________________________________________\n",
      "conv1d_2 (Conv1D)               (None, 100, 32)      28832       embedding[1][0]                  \n",
      "__________________________________________________________________________________________________\n",
      "matching_layer_1 (MatchingLayer (None, 10, 100, 32)  0           conv1d_1[0][0]                   \n",
      "                                                                 conv1d_2[0][0]                   \n",
      "__________________________________________________________________________________________________\n",
      "conv2d_1 (Conv2D)               (None, 10, 100, 64)  18496       matching_layer_1[0][0]           \n",
      "__________________________________________________________________________________________________\n",
      "max_pooling2d_1 (MaxPooling2D)  (None, 3, 33, 64)    0           conv2d_1[0][0]                   \n",
      "__________________________________________________________________________________________________\n",
      "conv2d_2 (Conv2D)               (None, 3, 33, 64)    36928       max_pooling2d_1[0][0]            \n",
      "__________________________________________________________________________________________________\n",
      "max_pooling2d_2 (MaxPooling2D)  (None, 1, 11, 64)    0           conv2d_2[0][0]                   \n",
      "__________________________________________________________________________________________________\n",
      "flatten_1 (Flatten)             (None, 704)          0           max_pooling2d_2[0][0]            \n",
      "__________________________________________________________________________________________________\n",
      "dropout_1 (Dropout)             (None, 704)          0           flatten_1[0][0]                  \n",
      "__________________________________________________________________________________________________\n",
      "dense_1 (Dense)                 (None, 1)            705         dropout_1[0][0]                  \n",
      "==================================================================================================\n",
      "Total params: 5,116,293\n",
      "Trainable params: 5,116,293\n",
      "Non-trainable params: 0\n",
      "__________________________________________________________________________________________________\n"
     ]
    }
   ],
   "source": [
    "model.backend.summary()"
   ]
  },
  {
   "cell_type": "code",
   "execution_count": 7,
   "metadata": {},
   "outputs": [],
   "source": [
    "embedding_matrix = glove_embedding.build_matrix(preprocessor.context['vocab_unit'].state['term_index'])"
   ]
  },
  {
   "cell_type": "code",
   "execution_count": 8,
   "metadata": {},
   "outputs": [],
   "source": [
    "model.load_embedding_matrix(embedding_matrix)"
   ]
  },
  {
   "cell_type": "code",
   "execution_count": 9,
   "metadata": {},
   "outputs": [],
   "source": [
    "test_x, test_y = test_pack_processed[:].unpack()\n",
    "evaluate = mz.callbacks.EvaluateAllMetrics(model, x=test_x, y=test_y, batch_size=len(test_y))"
   ]
  },
  {
   "cell_type": "code",
   "execution_count": 10,
   "metadata": {},
   "outputs": [
    {
     "name": "stdout",
     "output_type": "stream",
     "text": [
      "num batches: 102\n"
     ]
    }
   ],
   "source": [
    "train_generator = mz.DataGenerator(\n",
    "    train_pack_processed,\n",
    "    mode='pair',\n",
    "    num_dup=2,\n",
    "    num_neg=1,\n",
    "    batch_size=20\n",
    ")\n",
    "print('num batches:', len(train_generator))"
   ]
  },
  {
   "cell_type": "code",
   "execution_count": 11,
   "metadata": {
    "scrolled": false
   },
   "outputs": [
    {
     "name": "stdout",
     "output_type": "stream",
     "text": [
      "Epoch 1/30\n",
      "102/102 [==============================] - 24s 233ms/step - loss: 0.5510\n",
      "Validation: normalized_discounted_cumulative_gain@3(0.0): 0.5654536022684477 - normalized_discounted_cumulative_gain@5(0.0): 0.6388633228950963 - mean_average_precision(0.0): 0.5870044236946693\n",
      "Epoch 2/30\n",
      "102/102 [==============================] - 25s 248ms/step - loss: 0.2229\n",
      "Validation: normalized_discounted_cumulative_gain@3(0.0): 0.5947598744683228 - normalized_discounted_cumulative_gain@5(0.0): 0.652043351860647 - mean_average_precision(0.0): 0.6056211957528971\n",
      "Epoch 3/30\n",
      "102/102 [==============================] - 24s 238ms/step - loss: 0.1027\n",
      "Validation: normalized_discounted_cumulative_gain@3(0.0): 0.5641112770025778 - normalized_discounted_cumulative_gain@5(0.0): 0.617637113397053 - mean_average_precision(0.0): 0.5729277048917536\n",
      "Epoch 4/30\n",
      "102/102 [==============================] - 24s 234ms/step - loss: 0.0674\n",
      "Validation: normalized_discounted_cumulative_gain@3(0.0): 0.5515358717237778 - normalized_discounted_cumulative_gain@5(0.0): 0.6061616021963148 - mean_average_precision(0.0): 0.5558981076595558\n",
      "Epoch 5/30\n",
      "102/102 [==============================] - 23s 222ms/step - loss: 0.0556\n",
      "Validation: normalized_discounted_cumulative_gain@3(0.0): 0.5495693476230404 - normalized_discounted_cumulative_gain@5(0.0): 0.6175027436019173 - mean_average_precision(0.0): 0.5674537009716334\n",
      "Epoch 6/30\n",
      "102/102 [==============================] - 23s 222ms/step - loss: 0.0468\n",
      "Validation: normalized_discounted_cumulative_gain@3(0.0): 0.5529998201035078 - normalized_discounted_cumulative_gain@5(0.0): 0.6102638478373231 - mean_average_precision(0.0): 0.5581811706811707\n",
      "Epoch 7/30\n",
      "102/102 [==============================] - 23s 226ms/step - loss: 0.0359\n",
      "Validation: normalized_discounted_cumulative_gain@3(0.0): 0.5487896311232974 - normalized_discounted_cumulative_gain@5(0.0): 0.6102473309776559 - mean_average_precision(0.0): 0.5624082264738495\n",
      "Epoch 8/30\n",
      "102/102 [==============================] - 23s 223ms/step - loss: 0.0349\n",
      "Validation: normalized_discounted_cumulative_gain@3(0.0): 0.5503376692445565 - normalized_discounted_cumulative_gain@5(0.0): 0.6120615340725625 - mean_average_precision(0.0): 0.5643881233042626\n",
      "Epoch 9/30\n",
      "102/102 [==============================] - 24s 233ms/step - loss: 0.0419\n",
      "Validation: normalized_discounted_cumulative_gain@3(0.0): 0.5264431314831303 - normalized_discounted_cumulative_gain@5(0.0): 0.5821994353579951 - mean_average_precision(0.0): 0.5473034351247895\n",
      "Epoch 10/30\n",
      "102/102 [==============================] - 23s 230ms/step - loss: 0.0344\n",
      "Validation: normalized_discounted_cumulative_gain@3(0.0): 0.5671505501003712 - normalized_discounted_cumulative_gain@5(0.0): 0.6270928038059612 - mean_average_precision(0.0): 0.5720130022345211\n",
      "Epoch 11/30\n",
      "102/102 [==============================] - 23s 227ms/step - loss: 0.0368\n",
      "Validation: normalized_discounted_cumulative_gain@3(0.0): 0.5490338978331486 - normalized_discounted_cumulative_gain@5(0.0): 0.6134940317567023 - mean_average_precision(0.0): 0.5612509738854675\n",
      "Epoch 12/30\n",
      "102/102 [==============================] - 23s 222ms/step - loss: 0.0362\n",
      "Validation: normalized_discounted_cumulative_gain@3(0.0): 0.5061885457317171 - normalized_discounted_cumulative_gain@5(0.0): 0.5735233032745182 - mean_average_precision(0.0): 0.5271211206379427\n",
      "Epoch 13/30\n",
      "102/102 [==============================] - 23s 227ms/step - loss: 0.0262\n",
      "Validation: normalized_discounted_cumulative_gain@3(0.0): 0.5082655738420778 - normalized_discounted_cumulative_gain@5(0.0): 0.5736712773196099 - mean_average_precision(0.0): 0.5264673826559529\n",
      "Epoch 14/30\n",
      "102/102 [==============================] - 23s 227ms/step - loss: 0.0430\n",
      "Validation: normalized_discounted_cumulative_gain@3(0.0): 0.5682953129467371 - normalized_discounted_cumulative_gain@5(0.0): 0.6207494696807885 - mean_average_precision(0.0): 0.5753321501196283\n",
      "Epoch 15/30\n",
      "102/102 [==============================] - 23s 229ms/step - loss: 0.0154\n",
      "Validation: normalized_discounted_cumulative_gain@3(0.0): 0.526110277959127 - normalized_discounted_cumulative_gain@5(0.0): 0.6000203373618228 - mean_average_precision(0.0): 0.5437594917974665\n",
      "Epoch 16/30\n",
      "102/102 [==============================] - 23s 224ms/step - loss: 0.0302\n",
      "Validation: normalized_discounted_cumulative_gain@3(0.0): 0.5377249278990484 - normalized_discounted_cumulative_gain@5(0.0): 0.5938829306838641 - mean_average_precision(0.0): 0.5493823029098532\n",
      "Epoch 17/30\n",
      "102/102 [==============================] - 24s 231ms/step - loss: 0.0267\n",
      "Validation: normalized_discounted_cumulative_gain@3(0.0): 0.5682452799870475 - normalized_discounted_cumulative_gain@5(0.0): 0.6216209426591819 - mean_average_precision(0.0): 0.578334946196078\n",
      "Epoch 18/30\n",
      "102/102 [==============================] - 23s 230ms/step - loss: 0.0286\n",
      "Validation: normalized_discounted_cumulative_gain@3(0.0): 0.5509685397277835 - normalized_discounted_cumulative_gain@5(0.0): 0.6079242381488228 - mean_average_precision(0.0): 0.5658628043496463\n",
      "Epoch 19/30\n",
      "102/102 [==============================] - 23s 222ms/step - loss: 0.0210\n",
      "Validation: normalized_discounted_cumulative_gain@3(0.0): 0.5576999866806915 - normalized_discounted_cumulative_gain@5(0.0): 0.6095114593349392 - mean_average_precision(0.0): 0.5613598663994233\n",
      "Epoch 20/30\n",
      "102/102 [==============================] - 23s 228ms/step - loss: 0.0313\n",
      "Validation: normalized_discounted_cumulative_gain@3(0.0): 0.5666982828807716 - normalized_discounted_cumulative_gain@5(0.0): 0.6240992607984908 - mean_average_precision(0.0): 0.5841576046077784\n",
      "Epoch 21/30\n",
      "102/102 [==============================] - 23s 229ms/step - loss: 0.0154\n",
      "Validation: normalized_discounted_cumulative_gain@3(0.0): 0.5672892335683615 - normalized_discounted_cumulative_gain@5(0.0): 0.6223680803977315 - mean_average_precision(0.0): 0.5807070279491443\n",
      "Epoch 22/30\n",
      "102/102 [==============================] - 24s 237ms/step - loss: 0.0135\n",
      "Validation: normalized_discounted_cumulative_gain@3(0.0): 0.5523905707411823 - normalized_discounted_cumulative_gain@5(0.0): 0.6200215450374994 - mean_average_precision(0.0): 0.5719792336409035\n",
      "Epoch 23/30\n",
      "102/102 [==============================] - 31s 301ms/step - loss: 0.0257\n",
      "Validation: normalized_discounted_cumulative_gain@3(0.0): 0.5622595564461916 - normalized_discounted_cumulative_gain@5(0.0): 0.616057052607437 - mean_average_precision(0.0): 0.5768798243481789\n",
      "Epoch 24/30\n",
      "102/102 [==============================] - 23s 224ms/step - loss: 0.0153\n",
      "Validation: normalized_discounted_cumulative_gain@3(0.0): 0.529087378510863 - normalized_discounted_cumulative_gain@5(0.0): 0.6052042778233824 - mean_average_precision(0.0): 0.5603853260751112\n",
      "Epoch 25/30\n",
      "102/102 [==============================] - 25s 241ms/step - loss: 0.0267\n",
      "Validation: normalized_discounted_cumulative_gain@3(0.0): 0.5614331356561014 - normalized_discounted_cumulative_gain@5(0.0): 0.6155270231222968 - mean_average_precision(0.0): 0.5811939630582593\n",
      "Epoch 26/30\n",
      "102/102 [==============================] - 24s 233ms/step - loss: 0.0226\n",
      "Validation: normalized_discounted_cumulative_gain@3(0.0): 0.5314458469346872 - normalized_discounted_cumulative_gain@5(0.0): 0.5976184375920418 - mean_average_precision(0.0): 0.5563933657889648\n",
      "Epoch 27/30\n",
      "102/102 [==============================] - 25s 245ms/step - loss: 0.0282\n",
      "Validation: normalized_discounted_cumulative_gain@3(0.0): 0.5353449659748919 - normalized_discounted_cumulative_gain@5(0.0): 0.6016047982209459 - mean_average_precision(0.0): 0.5613436510746637\n",
      "Epoch 28/30\n",
      "102/102 [==============================] - 24s 237ms/step - loss: 0.0497\n",
      "Validation: normalized_discounted_cumulative_gain@3(0.0): 0.5125870260819996 - normalized_discounted_cumulative_gain@5(0.0): 0.5793393869045047 - mean_average_precision(0.0): 0.5332318486326926\n",
      "Epoch 29/30\n",
      "102/102 [==============================] - 24s 231ms/step - loss: 0.0317\n",
      "Validation: normalized_discounted_cumulative_gain@3(0.0): 0.536275639140467 - normalized_discounted_cumulative_gain@5(0.0): 0.5887256062957045 - mean_average_precision(0.0): 0.5494201652708727\n",
      "Epoch 30/30\n",
      "102/102 [==============================] - 24s 237ms/step - loss: 0.0172\n",
      "Validation: normalized_discounted_cumulative_gain@3(0.0): 0.5138794808512759 - normalized_discounted_cumulative_gain@5(0.0): 0.5809042411840404 - mean_average_precision(0.0): 0.5377223768254161\n"
     ]
    }
   ],
   "source": [
    "history = model.fit_generator(train_generator, \n",
    "                              epochs=30, \n",
    "                              callbacks=[evaluate], \n",
    "                              workers=30, \n",
    "                              use_multiprocessing=True)"
   ]
  }
 ],
 "metadata": {
  "kernelspec": {
   "display_name": "Python 3",
   "language": "python",
   "name": "python3"
  },
  "language_info": {
   "codemirror_mode": {
    "name": "ipython",
    "version": 3
   },
   "file_extension": ".py",
   "mimetype": "text/x-python",
   "name": "python",
   "nbconvert_exporter": "python",
   "pygments_lexer": "ipython3",
   "version": "3.6.5"
  }
 },
 "nbformat": 4,
 "nbformat_minor": 2
}
